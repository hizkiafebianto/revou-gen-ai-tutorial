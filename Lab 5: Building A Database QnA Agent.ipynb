{
 "cells": [
  {
   "cell_type": "markdown",
   "id": "afc0f566",
   "metadata": {},
   "source": [
    "# Lab 5: Building A Database QnA Agent"
   ]
  },
  {
   "cell_type": "code",
   "execution_count": null,
   "id": "0ff3ba2a",
   "metadata": {
    "vscode": {
     "languageId": "plaintext"
    }
   },
   "outputs": [],
   "source": []
  },
  {
   "cell_type": "markdown",
   "id": "b5bed18e",
   "metadata": {},
   "source": [
    "## Setting Up Database \n",
    "\n",
    "## Loading Data \n",
    "\n",
    "## Human-in-the-Loop\n",
    "\n",
    "## Building Tool \n",
    "\n",
    "## Building Graphs \n",
    "\n",
    "## Run the Agentic AI \n",
    "\n",
    "## "
   ]
  },
  {
   "cell_type": "markdown",
   "id": "95c695d0",
   "metadata": {},
   "source": []
  },
  {
   "cell_type": "code",
   "execution_count": null,
   "id": "d9f8b38f",
   "metadata": {
    "vscode": {
     "languageId": "plaintext"
    }
   },
   "outputs": [],
   "source": []
  },
  {
   "cell_type": "code",
   "execution_count": null,
   "id": "481e5827",
   "metadata": {
    "vscode": {
     "languageId": "plaintext"
    }
   },
   "outputs": [],
   "source": []
  }
 ],
 "metadata": {
  "language_info": {
   "name": "python"
  }
 },
 "nbformat": 4,
 "nbformat_minor": 5
}
