{
 "cells": [
  {
   "cell_type": "markdown",
   "id": "afc0f566",
   "metadata": {},
   "source": [
    "# Lab 5: Building A Database QnA Agent"
   ]
  },
  {
   "cell_type": "markdown",
   "id": "59c912f7",
   "metadata": {},
   "source": []
  }
 ],
 "metadata": {
  "language_info": {
   "name": "python"
  }
 },
 "nbformat": 4,
 "nbformat_minor": 5
}
