{
 "cells": [
  {
   "cell_type": "markdown",
   "id": "ddfafe98",
   "metadata": {},
   "source": [
    "# Lab 7: Building A Customer Service Agent"
   ]
  },
  {
   "cell_type": "code",
   "execution_count": null,
   "id": "ce6d48f3",
   "metadata": {},
   "outputs": [],
   "source": [
    "## on_message with LLM\n",
    "@cl.on_message\n",
    "async def main(message: cl.Message):\n",
    "    \n",
    "    response = client.responses.create(\n",
    "        model = \"gpt-4.1-nano\",\n",
    "        input = message.content\n",
    "    )\n",
    "\n",
    "    print(response.output_text)\n",
    "\n",
    "    await cl.Message(\n",
    "        content=response.output_text\n",
    "    ).send()"
   ]
  },
  {
   "cell_type": "markdown",
   "id": "72f8ed4c",
   "metadata": {},
   "source": []
  }
 ],
 "metadata": {
  "kernelspec": {
   "display_name": "venv",
   "language": "python",
   "name": "python3"
  },
  "language_info": {
   "name": "python",
   "version": "3.11.5"
  }
 },
 "nbformat": 4,
 "nbformat_minor": 5
}
