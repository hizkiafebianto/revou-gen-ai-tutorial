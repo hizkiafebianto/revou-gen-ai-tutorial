{
 "cells": [
  {
   "cell_type": "markdown",
   "id": "a2b679e9",
   "metadata": {},
   "source": [
    "# Lab 12: LLM Evaluation with Langsmith"
   ]
  },
  {
   "cell_type": "markdown",
   "id": "78f9dda3",
   "metadata": {},
   "source": []
  }
 ],
 "metadata": {
  "language_info": {
   "name": "python"
  }
 },
 "nbformat": 4,
 "nbformat_minor": 5
}
