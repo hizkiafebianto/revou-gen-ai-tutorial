{
 "cells": [
  {
   "cell_type": "markdown",
   "id": "dc07b551",
   "metadata": {},
   "source": [
    "Open AI Image\n",
    "Google Veo 3"
   ]
  },
  {
   "cell_type": "code",
   "execution_count": null,
   "id": "f4cc2c8d",
   "metadata": {},
   "outputs": [],
   "source": []
  }
 ],
 "metadata": {
  "language_info": {
   "name": "python"
  }
 },
 "nbformat": 4,
 "nbformat_minor": 5
}
