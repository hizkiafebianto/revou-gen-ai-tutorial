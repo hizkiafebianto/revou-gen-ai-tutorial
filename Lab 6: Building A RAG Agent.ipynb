{
 "cells": [
  {
   "cell_type": "markdown",
   "id": "16656aaf",
   "metadata": {},
   "source": [
    "# Lab 6: Building A RAG Agent"
   ]
  },
  {
   "cell_type": "markdown",
   "id": "35f37baa",
   "metadata": {},
   "source": [
    "## Setup Components"
   ]
  },
  {
   "cell_type": "code",
   "execution_count": 1,
   "id": "b4c4ed0c",
   "metadata": {},
   "outputs": [
    {
     "data": {
      "text/plain": [
       "True"
      ]
     },
     "execution_count": 1,
     "metadata": {},
     "output_type": "execute_result"
    }
   ],
   "source": [
    "## Load Environment Table\n",
    "from dotenv import load_dotenv\n",
    "load_dotenv(override=True)  # take environment variables"
   ]
  },
  {
   "cell_type": "code",
   "execution_count": 2,
   "id": "6b4cdad9",
   "metadata": {},
   "outputs": [],
   "source": [
    "# Load large language model \n",
    "from langchain.chat_models import init_chat_model\n",
    "llm = init_chat_model(\"gpt-4.1-nano\", model_provider=\"openai\")"
   ]
  },
  {
   "cell_type": "code",
   "execution_count": null,
   "id": "ed005ccd",
   "metadata": {},
   "outputs": [
    {
     "name": "stderr",
     "output_type": "stream",
     "text": [
      "/Users/hizkiafebianto/Documents/GitHub/revou-gen-ai-tutorial/venv/lib/python3.11/site-packages/ibm_watsonx_ai/foundation_models/utils/utils.py:436: LifecycleWarning: Model 'ibm/granite-34b-code-instruct' is in deprecated state from 2025-04-16 until 2025-07-17. IDs of alternative models: None. Further details: https://dataplatform.cloud.ibm.com/docs/content/wsj/analyze-data/fm-model-lifecycle.html?context=wx&audience=wdp\n",
      "  warn(model_state_warning, category=LifecycleWarning)\n"
     ]
    }
   ],
   "source": [
    "## \n",
    "from langchain_ibm import ChatWatsonx\n",
    "import os\n",
    "\n",
    "llm = ChatWatsonx(\n",
    "    model_id=\"ibm/granite-34b-code-instruct\", \n",
    "    url=\"https://us-south.ml.cloud.ibm.com\",\n",
    "    project_id=os.environ['WATSONX_PROJECT_ID']\n",
    ")"
   ]
  },
  {
   "cell_type": "code",
   "execution_count": null,
   "id": "67a6d7ce",
   "metadata": {},
   "outputs": [],
   "source": [
    "%pip install langchain_huggingface"
   ]
  },
  {
   "cell_type": "code",
   "execution_count": 3,
   "id": "650bc0f2",
   "metadata": {},
   "outputs": [
    {
     "name": "stderr",
     "output_type": "stream",
     "text": [
      "/Users/hizkiafebianto/Documents/GitHub/revou-gen-ai-tutorial/venv/lib/python3.11/site-packages/tqdm/auto.py:21: TqdmWarning: IProgress not found. Please update jupyter and ipywidgets. See https://ipywidgets.readthedocs.io/en/stable/user_install.html\n",
      "  from .autonotebook import tqdm as notebook_tqdm\n"
     ]
    }
   ],
   "source": [
    "# Selecting Embedding model\n",
    "# from langchain_openai import OpenAIEmbeddings\n",
    "# embeddings = OpenAIEmbeddings(model=\"text-embedding-3-small\")\n",
    "\n",
    "from langchain_huggingface import HuggingFaceEmbeddings\n",
    "embedding_model = HuggingFaceEmbeddings(model_name=\"sentence-transformers/all-MiniLM-L6-v2\")"
   ]
  },
  {
   "cell_type": "code",
   "execution_count": 4,
   "id": "1b899173",
   "metadata": {},
   "outputs": [],
   "source": [
    "# Initiate Vector Code\n",
    "# In-memory \n",
    "\n",
    "from langchain_core.vectorstores import InMemoryVectorStore\n",
    "vector_store = InMemoryVectorStore(embedding_model)"
   ]
  },
  {
   "cell_type": "markdown",
   "id": "a96c86b1",
   "metadata": {},
   "source": [
    "## Document Loaders"
   ]
  },
  {
   "cell_type": "code",
   "execution_count": 2,
   "id": "dc7d8068",
   "metadata": {},
   "outputs": [
    {
     "name": "stdout",
     "output_type": "stream",
     "text": [
      "\n",
      "\u001b[1m[\u001b[0m\u001b[34;49mnotice\u001b[0m\u001b[1;39;49m]\u001b[0m\u001b[39;49m A new release of pip is available: \u001b[0m\u001b[31;49m23.2.1\u001b[0m\u001b[39;49m -> \u001b[0m\u001b[32;49m25.1.1\u001b[0m\n",
      "\u001b[1m[\u001b[0m\u001b[34;49mnotice\u001b[0m\u001b[1;39;49m]\u001b[0m\u001b[39;49m To update, run: \u001b[0m\u001b[32;49mpip install --upgrade pip\u001b[0m\n",
      "Note: you may need to restart the kernel to use updated packages.\n"
     ]
    }
   ],
   "source": [
    "%pip install -qU pypdf"
   ]
  },
  {
   "cell_type": "code",
   "execution_count": 5,
   "id": "eb387498",
   "metadata": {},
   "outputs": [],
   "source": [
    "##\n",
    "file_path = \"./docs/Tentang Dexa Medica.pdf\"\n",
    "\n",
    "from langchain_community.document_loaders import PyPDFLoader\n",
    "\n",
    "loader = PyPDFLoader(file_path)\n",
    "pages = []\n",
    "async for page in loader.alazy_load():\n",
    "    pages.append(page)"
   ]
  },
  {
   "cell_type": "code",
   "execution_count": 6,
   "id": "f44e1b3a",
   "metadata": {},
   "outputs": [
    {
     "name": "stdout",
     "output_type": "stream",
     "text": [
      "{'producer': 'Skia/PDF m136', 'creator': 'Mozilla/5.0 (Macintosh; Intel Mac OS X 10_15_7) AppleWebKit/537.36 (KHTML, like Gecko) Chrome/136.0.0.0 Safari/537.36', 'creationdate': '2025-05-25T09:21:53+00:00', 'title': 'Dexa Medica • Dexa Group', 'moddate': '2025-05-25T09:21:53+00:00', 'source': './docs/Tentang Dexa Medica.pdf', 'total_pages': 5, 'page': 0, 'page_label': '1'}\n",
      "\n",
      "Gambaran Umum\n",
      "Dexa Medica, salah satu perusahaan farmasi terbesar di Indonesia, telah secara konsisten\n",
      "menggunakan kemampuan penelitiannya yang canggih untuk memprioritaskan kebutuhan\n",
      "kesehatan masyarakat Indonesia. Mottonya — pemanfaatan keahlian untuk mempromosikan\n",
      "kesehatan — adalah konsekuensi alami dari komitmen jangka panjangnya meningkatkan\n",
      "perawatan kesehatan bagi semua orang. Perusahaan dan tim manajemen Dexa Medica dipandu\n",
      "oleh empat prinsip inti yaitu kejujuran, kepercayaan, dedikasi, dan komitmen.\n",
      "Dexa Medica didirikan di Palembang (Sumatera Selatan, Indonesia) pada tahun 1969 oleh\n",
      "almarhum Letkol apt. Drs. Rudy Soetikno. Sebagai seorang apoteker muda yang rendah hati di\n",
      "Korps Kesehatan/Medis TNI Angkatan Darat, beliau tergerak melihat kelangkaan pasokan obat-\n",
      "obatan di Indonesia. Pengabdian Drs. Soetikno pada negaranya dan keahliannya di bidang farmasi\n",
      "mendorongnya untuk mulai memasok obat-obatan — yang ternyata menjadi panggilan hidupnya.\n",
      "Bersama beberapa rekan, beliau mulai memproduksi tablet dasar di apotek kecil milik bersama.\n",
      "Sejak saat itu, Dexa Medica semakin kuat, berkembang menjadi salah satu perusahaan farmasi\n",
      "etis terbesar di Indonesia. Lingkungan perusahaan yang dibina dengan cermat oleh Drs. Soetikno\n",
      "dan tim manajemen yang tak kenal lelah, adalah lingkungan yang saling menghormati,\n",
      "menjunjung tinggi kerja tim, dan inovatif.\n",
      "Visi & Misi\n",
      "VISI\n",
      "Menjadi perusahaan terkemuka yang berdedikasi untuk memberikan nilai tambah yang signifikan\n",
      "bagi kepentingan pelanggan, mitra bisnis, dan pemangku kepentingan kami melalui operasi yang\n",
      "efektif, efisien, dan berkelanjutan untuk mencapai “kesehatan bagi semua orang” di seluruh\n",
      "penjuru negeri, juga secara regional dan global.\n",
      "MISI\n",
      "Membangun kapasitas dan kompetensi farmasi dalam meningkatkan kualitas sistem perawatan\n",
      "kesehatan melalui:\n",
      "aa\n",
      "2\n"
     ]
    }
   ],
   "source": [
    "print(f\"{pages[0].metadata}\\n\")\n",
    "print(pages[0].page_content)"
   ]
  },
  {
   "cell_type": "code",
   "execution_count": 7,
   "id": "33a3c150",
   "metadata": {},
   "outputs": [
    {
     "data": {
      "text/plain": [
       "[Document(metadata={'producer': 'Skia/PDF m136', 'creator': 'Mozilla/5.0 (Macintosh; Intel Mac OS X 10_15_7) AppleWebKit/537.36 (KHTML, like Gecko) Chrome/136.0.0.0 Safari/537.36', 'creationdate': '2025-05-25T09:21:53+00:00', 'title': 'Dexa Medica • Dexa Group', 'moddate': '2025-05-25T09:21:53+00:00', 'source': './docs/Tentang Dexa Medica.pdf', 'total_pages': 5, 'page': 0, 'page_label': '1'}, page_content='Gambaran Umum\\nDexa Medica, salah satu perusahaan farmasi terbesar di Indonesia, telah secara konsisten\\nmenggunakan kemampuan penelitiannya yang canggih untuk memprioritaskan kebutuhan\\nkesehatan masyarakat Indonesia. Mottonya — pemanfaatan keahlian untuk mempromosikan\\nkesehatan — adalah konsekuensi alami dari komitmen jangka panjangnya meningkatkan\\nperawatan kesehatan bagi semua orang. Perusahaan dan tim manajemen Dexa Medica dipandu\\noleh empat prinsip inti yaitu kejujuran, kepercayaan, dedikasi, dan komitmen.\\nDexa Medica didirikan di Palembang (Sumatera Selatan, Indonesia) pada tahun 1969 oleh\\nalmarhum Letkol apt. Drs. Rudy Soetikno. Sebagai seorang apoteker muda yang rendah hati di\\nKorps Kesehatan/Medis TNI Angkatan Darat, beliau tergerak melihat kelangkaan pasokan obat-\\nobatan di Indonesia. Pengabdian Drs. Soetikno pada negaranya dan keahliannya di bidang farmasi\\nmendorongnya untuk mulai memasok obat-obatan — yang ternyata menjadi panggilan hidupnya.\\nBersama beberapa rekan, beliau mulai memproduksi tablet dasar di apotek kecil milik bersama.\\nSejak saat itu, Dexa Medica semakin kuat, berkembang menjadi salah satu perusahaan farmasi\\netis terbesar di Indonesia. Lingkungan perusahaan yang dibina dengan cermat oleh Drs. Soetikno\\ndan tim manajemen yang tak kenal lelah, adalah lingkungan yang saling menghormati,\\nmenjunjung tinggi kerja tim, dan inovatif.\\nVisi & Misi\\nVISI\\nMenjadi perusahaan terkemuka yang berdedikasi untuk memberikan nilai tambah yang signifikan\\nbagi kepentingan pelanggan, mitra bisnis, dan pemangku kepentingan kami melalui operasi yang\\nefektif, efisien, dan berkelanjutan untuk mencapai “kesehatan bagi semua orang” di seluruh\\npenjuru negeri, juga secara regional dan global.\\nMISI\\nMembangun kapasitas dan kompetensi farmasi dalam meningkatkan kualitas sistem perawatan\\nkesehatan melalui:\\naa\\n2'),\n",
       " Document(metadata={'producer': 'Skia/PDF m136', 'creator': 'Mozilla/5.0 (Macintosh; Intel Mac OS X 10_15_7) AppleWebKit/537.36 (KHTML, like Gecko) Chrome/136.0.0.0 Safari/537.36', 'creationdate': '2025-05-25T09:21:53+00:00', 'title': 'Dexa Medica • Dexa Group', 'moddate': '2025-05-25T09:21:53+00:00', 'source': './docs/Tentang Dexa Medica.pdf', 'total_pages': 5, 'page': 1, 'page_label': '2'}, page_content='Inovasi dan peningkatan berkelanjutan\\nMeningkatkan pasar\\nKepemimpinan biaya\\nMembangun aliansi strategis\\nNilai Dasar\\nNama Dexa terinspirasi dari bahasa Yunani δέκα , berarti 10—sebuah simbol universal dari\\nkesempurnaan. Nama mencerminkan filosofi perusahaan, yang bercita-cita, bahkan hari ini,\\nuntuk melanjutkan tradisi panjang perfeksionisme. Selama lebih dari lima dekade, Dexa Medica\\ntelah memegang tiga nilai dasar:\\n\\xa0\\n\\xa0\\nSTRIVE FOR EXCELLENCE\\nKomitmen untuk memberikan hasil terbaik kepada pelanggan.\\nACT PROFESSIONALLY\\nBertindak professional yang menekankan pada kejujuran dan integritas.\\nDEAL WITH CARE\\nKepedulian untuk selalu memahami dan menghormati satu sama lain.\\nKompetensi Inti\\nDexa Medica memfokuskan kegiatan pada empat kompetensi inti:\\nPENGELOLAAN SUMBER DAYA\\nMengerahkan sumber daya untuk menghasilkan produk terbaik dengan cara yang paling efisien.\\n2'),\n",
       " Document(metadata={'producer': 'Skia/PDF m136', 'creator': 'Mozilla/5.0 (Macintosh; Intel Mac OS X 10_15_7) AppleWebKit/537.36 (KHTML, like Gecko) Chrome/136.0.0.0 Safari/537.36', 'creationdate': '2025-05-25T09:21:53+00:00', 'title': 'Dexa Medica • Dexa Group', 'moddate': '2025-05-25T09:21:53+00:00', 'source': './docs/Tentang Dexa Medica.pdf', 'total_pages': 5, 'page': 2, 'page_label': '3'}, page_content='INOVASI\\nMemberikan opsi untuk melakukan kegiatan yang diperlukan untuk menyediakan produk yang\\nunggul, khas, dan terdiferensiasi.\\nALIANSI STRATEGIS\\nMemilih dan mempertahankan mitra yang tepat untuk perbaikan sinergis.\\nPERUBAHAN MANAJEMEN\\nMengantisipasi perubahan dan proaktif mengimplementasikan rencana untuk memanfaatkan\\nperubahan yang akan datang dalam bisnis dan industri.\\nBisnis Utama\\nBisnis Dexa berfokus pada dua aspek utama: manufaktur serta penelitian dan pengembangan.\\nProduksi kami lakukan di tiga pabrik utama:\\nPT DEXA MEDICA PALEMBANG\\nuntuk produksi padat dan sefalosporin\\nPT DEXA MEDICA CIKARANG\\nuntuk Produksi API – Penemuan, Penelitian, dan Pengembangan\\nPT BETA PHARMACON KARAWANG\\nuntuk produksi padat produk volume tinggi\\nDexa telah melakukan investasi berulang yang konsisten ke dalam bisnis intinya, terus\\nmengembangkan produk farmasi yang sangat inovatif melalui penelitian dan pengembangan\\nyang cermat. Dexa mengoperasikan fasilitas penelitian canggih dan terintegrasi, Dexa\\nDevelopment Center (DDC) di Jababeka, Cikarang. DDC dirancang secara khusus untuk\\nmenampung hingga 250 ilmuwan sehingga dapat menghasilkan sebanyak 30 dosir (CTDs dan\\nACTD) setiap tahunnya. Kegiatannya tidak hanya meliputi formulasi konvensional, tetapi juga\\npengembangan Sistem Penghantaran Obat Baru (NDDS).\\nSejak tahun 2005, divisi riset perusahaan, Dexa Laboratories of Biomolecular Sciences (DLBS) juga\\ntelah menemukan bahan aktif yang asli berasal dari Indonesia. Bahan-bahan langka ini kemudian\\ndigunakan dalam obat-obatan herbal yang diproduksi oleh Dexa Group, dan ditawarkan kepada\\nmasyarakat dengan harga yang terjangkau. Hal ini sejalan dengan komitmen perusahaan untuk\\nmeningkatkan perawatan kesehatan bagi semua orang. DLBS menggunakan sumber hidup\\norganisme — seperti tumbuhan, hewan, dan mikroba — untuk meningkatkan kualitas hidup\\nmanusia. DLBS adalah rumah bagi sebagian ilmuwan dan apoteker paling berbakat di dunia, di\\nmana ratusan di antaranya adalah orang Indonesia. DLBS juga bekerja sama dengan, dan melatih,\\npetani untuk menghasilkan bahan-bahan alami berkualitas tinggi dan terstandarisasi.\\nKontribusi\\nOMAI\\n2'),\n",
       " Document(metadata={'producer': 'Skia/PDF m136', 'creator': 'Mozilla/5.0 (Macintosh; Intel Mac OS X 10_15_7) AppleWebKit/537.36 (KHTML, like Gecko) Chrome/136.0.0.0 Safari/537.36', 'creationdate': '2025-05-25T09:21:53+00:00', 'title': 'Dexa Medica • Dexa Group', 'moddate': '2025-05-25T09:21:53+00:00', 'source': './docs/Tentang Dexa Medica.pdf', 'total_pages': 5, 'page': 3, 'page_label': '4'}, page_content='PT Dexa Medica memberikan kontribusi yang sangat besar dalam pengembangan Obat Modern\\nAsli Indonesia (OMAI). OMAI adalah obat yang diambil dari kekayaan alam Indonesia dan\\ndikembangkan dengan teknologi modern. OMAI terdiri dari Obat Herbal Terstandar (OHT) yang\\ntelah lulus uji praklinis, dan fitofarmaka yang telah lolos uji klinis. Saat ini, 37 dari 97 OHT dan 28\\ndari 31 fitofarmaka yang terdaftar adalah hasil produksi Dexa.\\nOGB\\nPT Dexa Medica adalah perusahaan swasta pertama di Indonesia yang memproduksi Obat\\nGenerik Berlogo/OGB (obat generik tidak bermerek), dan satu dari lima perusahaan farmasi yang\\ntelah menerima sertifikasi Cara Pembuatan Obat yang Baik (CPOB).\\nOGBdexa telah meluncurkan lebih dari 50 obat baru dalam 5 tahun terakhir, dan memiliki\\nportofolio lebih dari 187 obat. Untuk memenuhi permintaan pasar OGB, Dexa Medica\\nmemproduksi lebih dari 1 miliar tablet, vial, dan ampul obat setiap tahun. OGBdexa tersedia di\\nseluruh Indonesia, di lebih dari 21.000 apotek, rumah sakit, kantor kesehatan, dan klinik\\nkesehatan masyarakat. Sebagai bagian dari Jaminan Kesehatan Nasional (JKN), OGBdexa\\nmemainkan peran penting dalam menyediakan obat-obatan bagi 262 juta penerima manfaat JKN.\\nSUREL\\nInformasi Umum:\\ninfo@dexagroup.com\\nHUBUNGI KAMI\\nNama\\nSurel\\nNomor Telepon\\nKategori\\nSubjek\\nPesan\\nKirim =\\n2'),\n",
       " Document(metadata={'producer': 'Skia/PDF m136', 'creator': 'Mozilla/5.0 (Macintosh; Intel Mac OS X 10_15_7) AppleWebKit/537.36 (KHTML, like Gecko) Chrome/136.0.0.0 Safari/537.36', 'creationdate': '2025-05-25T09:21:53+00:00', 'title': 'Dexa Medica • Dexa Group', 'moddate': '2025-05-25T09:21:53+00:00', 'source': './docs/Tentang Dexa Medica.pdf', 'total_pages': 5, 'page': 4, 'page_label': '5'}, page_content='Relasi Pemerintahan & Media:\\ncorporate.communications@dexagroup.com\\nHR dan Rekrutmen:\\nrecruitment.corporate@dexagroup.com\\nTELEPON\\n+62 21 7454-111\\nTERHUBUNG DENGAN KAMI\\nIkuti sosial media kami dan jadilah bagian dari misi untuk meningkatkan kesehatan\\nALAMAT\\nTitan Center, Lantai 3,\\nJalan Boulevard Bintaro,\\nBlok B7/B1 No. 5,\\nBintaro Jaya, Sektor 7,\\nTangerang 15424, Indonesia\\n© 2021-2022 Dexa Group\\n2')]"
      ]
     },
     "execution_count": 7,
     "metadata": {},
     "output_type": "execute_result"
    }
   ],
   "source": [
    "docs = loader.load()\n",
    "docs"
   ]
  },
  {
   "cell_type": "markdown",
   "id": "01848a38",
   "metadata": {},
   "source": [
    "## Splitting"
   ]
  },
  {
   "cell_type": "code",
   "execution_count": 8,
   "id": "8dd6f9a0",
   "metadata": {},
   "outputs": [
    {
     "data": {
      "text/plain": [
       "18"
      ]
     },
     "execution_count": 8,
     "metadata": {},
     "output_type": "execute_result"
    }
   ],
   "source": [
    "from langchain_text_splitters import RecursiveCharacterTextSplitter\n",
    "\n",
    "text_splitter = RecursiveCharacterTextSplitter(\n",
    "    chunk_size=500, chunk_overlap=100, add_start_index=True\n",
    ")\n",
    "all_splits = text_splitter.split_documents(docs)\n",
    "\n",
    "len(all_splits)"
   ]
  },
  {
   "cell_type": "code",
   "execution_count": 9,
   "id": "88582c61",
   "metadata": {},
   "outputs": [
    {
     "name": "stdout",
     "output_type": "stream",
     "text": [
      "page_content='Gambaran Umum\n",
      "Dexa Medica, salah satu perusahaan farmasi terbesar di Indonesia, telah secara konsisten\n",
      "menggunakan kemampuan penelitiannya yang canggih untuk memprioritaskan kebutuhan\n",
      "kesehatan masyarakat Indonesia. Mottonya — pemanfaatan keahlian untuk mempromosikan\n",
      "kesehatan — adalah konsekuensi alami dari komitmen jangka panjangnya meningkatkan\n",
      "perawatan kesehatan bagi semua orang. Perusahaan dan tim manajemen Dexa Medica dipandu' metadata={'producer': 'Skia/PDF m136', 'creator': 'Mozilla/5.0 (Macintosh; Intel Mac OS X 10_15_7) AppleWebKit/537.36 (KHTML, like Gecko) Chrome/136.0.0.0 Safari/537.36', 'creationdate': '2025-05-25T09:21:53+00:00', 'title': 'Dexa Medica • Dexa Group', 'moddate': '2025-05-25T09:21:53+00:00', 'source': './docs/Tentang Dexa Medica.pdf', 'total_pages': 5, 'page': 0, 'page_label': '1', 'start_index': 0}\n",
      "page_content='perawatan kesehatan bagi semua orang. Perusahaan dan tim manajemen Dexa Medica dipandu\n",
      "oleh empat prinsip inti yaitu kejujuran, kepercayaan, dedikasi, dan komitmen.\n",
      "Dexa Medica didirikan di Palembang (Sumatera Selatan, Indonesia) pada tahun 1969 oleh\n",
      "almarhum Letkol apt. Drs. Rudy Soetikno. Sebagai seorang apoteker muda yang rendah hati di\n",
      "Korps Kesehatan/Medis TNI Angkatan Darat, beliau tergerak melihat kelangkaan pasokan obat-' metadata={'producer': 'Skia/PDF m136', 'creator': 'Mozilla/5.0 (Macintosh; Intel Mac OS X 10_15_7) AppleWebKit/537.36 (KHTML, like Gecko) Chrome/136.0.0.0 Safari/537.36', 'creationdate': '2025-05-25T09:21:53+00:00', 'title': 'Dexa Medica • Dexa Group', 'moddate': '2025-05-25T09:21:53+00:00', 'source': './docs/Tentang Dexa Medica.pdf', 'total_pages': 5, 'page': 0, 'page_label': '1', 'start_index': 350}\n",
      "page_content='Korps Kesehatan/Medis TNI Angkatan Darat, beliau tergerak melihat kelangkaan pasokan obat-\n",
      "obatan di Indonesia. Pengabdian Drs. Soetikno pada negaranya dan keahliannya di bidang farmasi\n",
      "mendorongnya untuk mulai memasok obat-obatan — yang ternyata menjadi panggilan hidupnya.\n",
      "Bersama beberapa rekan, beliau mulai memproduksi tablet dasar di apotek kecil milik bersama.\n",
      "Sejak saat itu, Dexa Medica semakin kuat, berkembang menjadi salah satu perusahaan farmasi' metadata={'producer': 'Skia/PDF m136', 'creator': 'Mozilla/5.0 (Macintosh; Intel Mac OS X 10_15_7) AppleWebKit/537.36 (KHTML, like Gecko) Chrome/136.0.0.0 Safari/537.36', 'creationdate': '2025-05-25T09:21:53+00:00', 'title': 'Dexa Medica • Dexa Group', 'moddate': '2025-05-25T09:21:53+00:00', 'source': './docs/Tentang Dexa Medica.pdf', 'total_pages': 5, 'page': 0, 'page_label': '1', 'start_index': 692}\n",
      "page_content='Sejak saat itu, Dexa Medica semakin kuat, berkembang menjadi salah satu perusahaan farmasi\n",
      "etis terbesar di Indonesia. Lingkungan perusahaan yang dibina dengan cermat oleh Drs. Soetikno\n",
      "dan tim manajemen yang tak kenal lelah, adalah lingkungan yang saling menghormati,\n",
      "menjunjung tinggi kerja tim, dan inovatif.\n",
      "Visi & Misi\n",
      "VISI\n",
      "Menjadi perusahaan terkemuka yang berdedikasi untuk memberikan nilai tambah yang signifikan' metadata={'producer': 'Skia/PDF m136', 'creator': 'Mozilla/5.0 (Macintosh; Intel Mac OS X 10_15_7) AppleWebKit/537.36 (KHTML, like Gecko) Chrome/136.0.0.0 Safari/537.36', 'creationdate': '2025-05-25T09:21:53+00:00', 'title': 'Dexa Medica • Dexa Group', 'moddate': '2025-05-25T09:21:53+00:00', 'source': './docs/Tentang Dexa Medica.pdf', 'total_pages': 5, 'page': 0, 'page_label': '1', 'start_index': 1060}\n",
      "page_content='VISI\n",
      "Menjadi perusahaan terkemuka yang berdedikasi untuk memberikan nilai tambah yang signifikan\n",
      "bagi kepentingan pelanggan, mitra bisnis, dan pemangku kepentingan kami melalui operasi yang\n",
      "efektif, efisien, dan berkelanjutan untuk mencapai “kesehatan bagi semua orang” di seluruh\n",
      "penjuru negeri, juga secara regional dan global.\n",
      "MISI\n",
      "Membangun kapasitas dan kompetensi farmasi dalam meningkatkan kualitas sistem perawatan\n",
      "kesehatan melalui:\n",
      "aa\n",
      "2' metadata={'producer': 'Skia/PDF m136', 'creator': 'Mozilla/5.0 (Macintosh; Intel Mac OS X 10_15_7) AppleWebKit/537.36 (KHTML, like Gecko) Chrome/136.0.0.0 Safari/537.36', 'creationdate': '2025-05-25T09:21:53+00:00', 'title': 'Dexa Medica • Dexa Group', 'moddate': '2025-05-25T09:21:53+00:00', 'source': './docs/Tentang Dexa Medica.pdf', 'total_pages': 5, 'page': 0, 'page_label': '1', 'start_index': 1384}\n",
      "page_content='Inovasi dan peningkatan berkelanjutan\n",
      "Meningkatkan pasar\n",
      "Kepemimpinan biaya\n",
      "Membangun aliansi strategis\n",
      "Nilai Dasar\n",
      "Nama Dexa terinspirasi dari bahasa Yunani δέκα , berarti 10—sebuah simbol universal dari\n",
      "kesempurnaan. Nama mencerminkan filosofi perusahaan, yang bercita-cita, bahkan hari ini,\n",
      "untuk melanjutkan tradisi panjang perfeksionisme. Selama lebih dari lima dekade, Dexa Medica\n",
      "telah memegang tiga nilai dasar:\n",
      " \n",
      " \n",
      "STRIVE FOR EXCELLENCE' metadata={'producer': 'Skia/PDF m136', 'creator': 'Mozilla/5.0 (Macintosh; Intel Mac OS X 10_15_7) AppleWebKit/537.36 (KHTML, like Gecko) Chrome/136.0.0.0 Safari/537.36', 'creationdate': '2025-05-25T09:21:53+00:00', 'title': 'Dexa Medica • Dexa Group', 'moddate': '2025-05-25T09:21:53+00:00', 'source': './docs/Tentang Dexa Medica.pdf', 'total_pages': 5, 'page': 1, 'page_label': '2', 'start_index': 0}\n",
      "page_content='telah memegang tiga nilai dasar:\n",
      " \n",
      " \n",
      "STRIVE FOR EXCELLENCE\n",
      "Komitmen untuk memberikan hasil terbaik kepada pelanggan.\n",
      "ACT PROFESSIONALLY\n",
      "Bertindak professional yang menekankan pada kejujuran dan integritas.\n",
      "DEAL WITH CARE\n",
      "Kepedulian untuk selalu memahami dan menghormati satu sama lain.\n",
      "Kompetensi Inti\n",
      "Dexa Medica memfokuskan kegiatan pada empat kompetensi inti:\n",
      "PENGELOLAAN SUMBER DAYA\n",
      "Mengerahkan sumber daya untuk menghasilkan produk terbaik dengan cara yang paling efisien.\n",
      "2' metadata={'producer': 'Skia/PDF m136', 'creator': 'Mozilla/5.0 (Macintosh; Intel Mac OS X 10_15_7) AppleWebKit/537.36 (KHTML, like Gecko) Chrome/136.0.0.0 Safari/537.36', 'creationdate': '2025-05-25T09:21:53+00:00', 'title': 'Dexa Medica • Dexa Group', 'moddate': '2025-05-25T09:21:53+00:00', 'source': './docs/Tentang Dexa Medica.pdf', 'total_pages': 5, 'page': 1, 'page_label': '2', 'start_index': 387}\n",
      "page_content='INOVASI\n",
      "Memberikan opsi untuk melakukan kegiatan yang diperlukan untuk menyediakan produk yang\n",
      "unggul, khas, dan terdiferensiasi.\n",
      "ALIANSI STRATEGIS\n",
      "Memilih dan mempertahankan mitra yang tepat untuk perbaikan sinergis.\n",
      "PERUBAHAN MANAJEMEN\n",
      "Mengantisipasi perubahan dan proaktif mengimplementasikan rencana untuk memanfaatkan\n",
      "perubahan yang akan datang dalam bisnis dan industri.\n",
      "Bisnis Utama\n",
      "Bisnis Dexa berfokus pada dua aspek utama: manufaktur serta penelitian dan pengembangan.' metadata={'producer': 'Skia/PDF m136', 'creator': 'Mozilla/5.0 (Macintosh; Intel Mac OS X 10_15_7) AppleWebKit/537.36 (KHTML, like Gecko) Chrome/136.0.0.0 Safari/537.36', 'creationdate': '2025-05-25T09:21:53+00:00', 'title': 'Dexa Medica • Dexa Group', 'moddate': '2025-05-25T09:21:53+00:00', 'source': './docs/Tentang Dexa Medica.pdf', 'total_pages': 5, 'page': 2, 'page_label': '3', 'start_index': 0}\n",
      "page_content='Bisnis Dexa berfokus pada dua aspek utama: manufaktur serta penelitian dan pengembangan.\n",
      "Produksi kami lakukan di tiga pabrik utama:\n",
      "PT DEXA MEDICA PALEMBANG\n",
      "untuk produksi padat dan sefalosporin\n",
      "PT DEXA MEDICA CIKARANG\n",
      "untuk Produksi API – Penemuan, Penelitian, dan Pengembangan\n",
      "PT BETA PHARMACON KARAWANG\n",
      "untuk produksi padat produk volume tinggi\n",
      "Dexa telah melakukan investasi berulang yang konsisten ke dalam bisnis intinya, terus' metadata={'producer': 'Skia/PDF m136', 'creator': 'Mozilla/5.0 (Macintosh; Intel Mac OS X 10_15_7) AppleWebKit/537.36 (KHTML, like Gecko) Chrome/136.0.0.0 Safari/537.36', 'creationdate': '2025-05-25T09:21:53+00:00', 'title': 'Dexa Medica • Dexa Group', 'moddate': '2025-05-25T09:21:53+00:00', 'source': './docs/Tentang Dexa Medica.pdf', 'total_pages': 5, 'page': 2, 'page_label': '3', 'start_index': 390}\n",
      "page_content='Dexa telah melakukan investasi berulang yang konsisten ke dalam bisnis intinya, terus\n",
      "mengembangkan produk farmasi yang sangat inovatif melalui penelitian dan pengembangan\n",
      "yang cermat. Dexa mengoperasikan fasilitas penelitian canggih dan terintegrasi, Dexa\n",
      "Development Center (DDC) di Jababeka, Cikarang. DDC dirancang secara khusus untuk\n",
      "menampung hingga 250 ilmuwan sehingga dapat menghasilkan sebanyak 30 dosir (CTDs dan' metadata={'producer': 'Skia/PDF m136', 'creator': 'Mozilla/5.0 (Macintosh; Intel Mac OS X 10_15_7) AppleWebKit/537.36 (KHTML, like Gecko) Chrome/136.0.0.0 Safari/537.36', 'creationdate': '2025-05-25T09:21:53+00:00', 'title': 'Dexa Medica • Dexa Group', 'moddate': '2025-05-25T09:21:53+00:00', 'source': './docs/Tentang Dexa Medica.pdf', 'total_pages': 5, 'page': 2, 'page_label': '3', 'start_index': 739}\n",
      "page_content='menampung hingga 250 ilmuwan sehingga dapat menghasilkan sebanyak 30 dosir (CTDs dan\n",
      "ACTD) setiap tahunnya. Kegiatannya tidak hanya meliputi formulasi konvensional, tetapi juga\n",
      "pengembangan Sistem Penghantaran Obat Baru (NDDS).\n",
      "Sejak tahun 2005, divisi riset perusahaan, Dexa Laboratories of Biomolecular Sciences (DLBS) juga\n",
      "telah menemukan bahan aktif yang asli berasal dari Indonesia. Bahan-bahan langka ini kemudian' metadata={'producer': 'Skia/PDF m136', 'creator': 'Mozilla/5.0 (Macintosh; Intel Mac OS X 10_15_7) AppleWebKit/537.36 (KHTML, like Gecko) Chrome/136.0.0.0 Safari/537.36', 'creationdate': '2025-05-25T09:21:53+00:00', 'title': 'Dexa Medica • Dexa Group', 'moddate': '2025-05-25T09:21:53+00:00', 'source': './docs/Tentang Dexa Medica.pdf', 'total_pages': 5, 'page': 2, 'page_label': '3', 'start_index': 1078}\n",
      "page_content='telah menemukan bahan aktif yang asli berasal dari Indonesia. Bahan-bahan langka ini kemudian\n",
      "digunakan dalam obat-obatan herbal yang diproduksi oleh Dexa Group, dan ditawarkan kepada\n",
      "masyarakat dengan harga yang terjangkau. Hal ini sejalan dengan komitmen perusahaan untuk\n",
      "meningkatkan perawatan kesehatan bagi semua orang. DLBS menggunakan sumber hidup\n",
      "organisme — seperti tumbuhan, hewan, dan mikroba — untuk meningkatkan kualitas hidup' metadata={'producer': 'Skia/PDF m136', 'creator': 'Mozilla/5.0 (Macintosh; Intel Mac OS X 10_15_7) AppleWebKit/537.36 (KHTML, like Gecko) Chrome/136.0.0.0 Safari/537.36', 'creationdate': '2025-05-25T09:21:53+00:00', 'title': 'Dexa Medica • Dexa Group', 'moddate': '2025-05-25T09:21:53+00:00', 'source': './docs/Tentang Dexa Medica.pdf', 'total_pages': 5, 'page': 2, 'page_label': '3', 'start_index': 1404}\n",
      "page_content='organisme — seperti tumbuhan, hewan, dan mikroba — untuk meningkatkan kualitas hidup\n",
      "manusia. DLBS adalah rumah bagi sebagian ilmuwan dan apoteker paling berbakat di dunia, di\n",
      "mana ratusan di antaranya adalah orang Indonesia. DLBS juga bekerja sama dengan, dan melatih,\n",
      "petani untuk menghasilkan bahan-bahan alami berkualitas tinggi dan terstandarisasi.\n",
      "Kontribusi\n",
      "OMAI\n",
      "2' metadata={'producer': 'Skia/PDF m136', 'creator': 'Mozilla/5.0 (Macintosh; Intel Mac OS X 10_15_7) AppleWebKit/537.36 (KHTML, like Gecko) Chrome/136.0.0.0 Safari/537.36', 'creationdate': '2025-05-25T09:21:53+00:00', 'title': 'Dexa Medica • Dexa Group', 'moddate': '2025-05-25T09:21:53+00:00', 'source': './docs/Tentang Dexa Medica.pdf', 'total_pages': 5, 'page': 2, 'page_label': '3', 'start_index': 1759}\n",
      "page_content='PT Dexa Medica memberikan kontribusi yang sangat besar dalam pengembangan Obat Modern\n",
      "Asli Indonesia (OMAI). OMAI adalah obat yang diambil dari kekayaan alam Indonesia dan\n",
      "dikembangkan dengan teknologi modern. OMAI terdiri dari Obat Herbal Terstandar (OHT) yang\n",
      "telah lulus uji praklinis, dan fitofarmaka yang telah lolos uji klinis. Saat ini, 37 dari 97 OHT dan 28\n",
      "dari 31 fitofarmaka yang terdaftar adalah hasil produksi Dexa.\n",
      "OGB' metadata={'producer': 'Skia/PDF m136', 'creator': 'Mozilla/5.0 (Macintosh; Intel Mac OS X 10_15_7) AppleWebKit/537.36 (KHTML, like Gecko) Chrome/136.0.0.0 Safari/537.36', 'creationdate': '2025-05-25T09:21:53+00:00', 'title': 'Dexa Medica • Dexa Group', 'moddate': '2025-05-25T09:21:53+00:00', 'source': './docs/Tentang Dexa Medica.pdf', 'total_pages': 5, 'page': 3, 'page_label': '4', 'start_index': 0}\n",
      "page_content='dari 31 fitofarmaka yang terdaftar adalah hasil produksi Dexa.\n",
      "OGB\n",
      "PT Dexa Medica adalah perusahaan swasta pertama di Indonesia yang memproduksi Obat\n",
      "Generik Berlogo/OGB (obat generik tidak bermerek), dan satu dari lima perusahaan farmasi yang\n",
      "telah menerima sertifikasi Cara Pembuatan Obat yang Baik (CPOB).\n",
      "OGBdexa telah meluncurkan lebih dari 50 obat baru dalam 5 tahun terakhir, dan memiliki\n",
      "portofolio lebih dari 187 obat. Untuk memenuhi permintaan pasar OGB, Dexa Medica' metadata={'producer': 'Skia/PDF m136', 'creator': 'Mozilla/5.0 (Macintosh; Intel Mac OS X 10_15_7) AppleWebKit/537.36 (KHTML, like Gecko) Chrome/136.0.0.0 Safari/537.36', 'creationdate': '2025-05-25T09:21:53+00:00', 'title': 'Dexa Medica • Dexa Group', 'moddate': '2025-05-25T09:21:53+00:00', 'source': './docs/Tentang Dexa Medica.pdf', 'total_pages': 5, 'page': 3, 'page_label': '4', 'start_index': 366}\n",
      "page_content='portofolio lebih dari 187 obat. Untuk memenuhi permintaan pasar OGB, Dexa Medica\n",
      "memproduksi lebih dari 1 miliar tablet, vial, dan ampul obat setiap tahun. OGBdexa tersedia di\n",
      "seluruh Indonesia, di lebih dari 21.000 apotek, rumah sakit, kantor kesehatan, dan klinik\n",
      "kesehatan masyarakat. Sebagai bagian dari Jaminan Kesehatan Nasional (JKN), OGBdexa\n",
      "memainkan peran penting dalam menyediakan obat-obatan bagi 262 juta penerima manfaat JKN.\n",
      "SUREL\n",
      "Informasi Umum:\n",
      "info@dexagroup.com\n",
      "HUBUNGI KAMI\n",
      "Nama' metadata={'producer': 'Skia/PDF m136', 'creator': 'Mozilla/5.0 (Macintosh; Intel Mac OS X 10_15_7) AppleWebKit/537.36 (KHTML, like Gecko) Chrome/136.0.0.0 Safari/537.36', 'creationdate': '2025-05-25T09:21:53+00:00', 'title': 'Dexa Medica • Dexa Group', 'moddate': '2025-05-25T09:21:53+00:00', 'source': './docs/Tentang Dexa Medica.pdf', 'total_pages': 5, 'page': 3, 'page_label': '4', 'start_index': 762}\n",
      "page_content='SUREL\n",
      "Informasi Umum:\n",
      "info@dexagroup.com\n",
      "HUBUNGI KAMI\n",
      "Nama\n",
      "Surel\n",
      "Nomor Telepon\n",
      "Kategori\n",
      "Subjek\n",
      "Pesan\n",
      "Kirim =\n",
      "2' metadata={'producer': 'Skia/PDF m136', 'creator': 'Mozilla/5.0 (Macintosh; Intel Mac OS X 10_15_7) AppleWebKit/537.36 (KHTML, like Gecko) Chrome/136.0.0.0 Safari/537.36', 'creationdate': '2025-05-25T09:21:53+00:00', 'title': 'Dexa Medica • Dexa Group', 'moddate': '2025-05-25T09:21:53+00:00', 'source': './docs/Tentang Dexa Medica.pdf', 'total_pages': 5, 'page': 3, 'page_label': '4', 'start_index': 1202}\n",
      "page_content='Relasi Pemerintahan & Media:\n",
      "corporate.communications@dexagroup.com\n",
      "HR dan Rekrutmen:\n",
      "recruitment.corporate@dexagroup.com\n",
      "TELEPON\n",
      "+62 21 7454-111\n",
      "TERHUBUNG DENGAN KAMI\n",
      "Ikuti sosial media kami dan jadilah bagian dari misi untuk meningkatkan kesehatan\n",
      "ALAMAT\n",
      "Titan Center, Lantai 3,\n",
      "Jalan Boulevard Bintaro,\n",
      "Blok B7/B1 No. 5,\n",
      "Bintaro Jaya, Sektor 7,\n",
      "Tangerang 15424, Indonesia\n",
      "© 2021-2022 Dexa Group\n",
      "2' metadata={'producer': 'Skia/PDF m136', 'creator': 'Mozilla/5.0 (Macintosh; Intel Mac OS X 10_15_7) AppleWebKit/537.36 (KHTML, like Gecko) Chrome/136.0.0.0 Safari/537.36', 'creationdate': '2025-05-25T09:21:53+00:00', 'title': 'Dexa Medica • Dexa Group', 'moddate': '2025-05-25T09:21:53+00:00', 'source': './docs/Tentang Dexa Medica.pdf', 'total_pages': 5, 'page': 4, 'page_label': '5', 'start_index': 0}\n"
     ]
    }
   ],
   "source": [
    "for split in all_splits:\n",
    "    print(split)"
   ]
  },
  {
   "cell_type": "markdown",
   "id": "8c64b595",
   "metadata": {},
   "source": [
    "### Strategy for Splitting Documents\n",
    "1. a \n",
    "2. b"
   ]
  },
  {
   "cell_type": "markdown",
   "id": "f61afdca",
   "metadata": {},
   "source": [
    "## Embedding and Indexing"
   ]
  },
  {
   "cell_type": "code",
   "execution_count": 10,
   "id": "5d20f59f",
   "metadata": {},
   "outputs": [
    {
     "data": {
      "text/plain": [
       "['9eb5b0d0-dfbb-4ea2-9b37-8653f928303c',\n",
       " 'c9839ecb-f752-4f6f-aecc-b27cd0168c7d',\n",
       " '666eacc5-619b-406d-ada3-3857b194cfcd',\n",
       " 'f7cf4543-df39-4e60-a21d-517727c61aae',\n",
       " '109d825e-4231-496e-bec7-1e45ac38c21c',\n",
       " 'f0fd3ff4-8512-4714-9faa-2c2894d57589',\n",
       " '1f883262-f44f-4620-8023-ccfb9ae5300b',\n",
       " '7486da72-d3f7-447b-ae89-c700d65f255c',\n",
       " 'd5b8254f-62ec-4100-adce-b20b6b12b695',\n",
       " '54e2e6a8-a837-4efc-bfa7-6db5f965a22d',\n",
       " 'fec4c125-1aa6-438e-b1f5-c90abb9b803a',\n",
       " '8f5eeb21-be51-4c56-8141-b28d16917b7e',\n",
       " '2a74211e-300b-4c0f-a9a9-7298eef01dfd',\n",
       " 'c1bbb056-238e-4ae1-b37f-382c2feb0e2d',\n",
       " '2999604a-5e55-42ce-baa9-0349ebae9cce',\n",
       " '5a98ed47-65c9-447c-bc52-01f7c9932af8',\n",
       " '31766914-1b54-4079-bd4c-e6cc223283bb',\n",
       " 'f730d46e-bb15-49b5-9541-62a43bac0840']"
      ]
     },
     "execution_count": 10,
     "metadata": {},
     "output_type": "execute_result"
    }
   ],
   "source": [
    "vector_store.add_documents(all_splits)"
   ]
  },
  {
   "cell_type": "code",
   "execution_count": 11,
   "id": "0cfc062b",
   "metadata": {},
   "outputs": [
    {
     "name": "stderr",
     "output_type": "stream",
     "text": [
      "huggingface/tokenizers: The current process just got forked, after parallelism has already been used. Disabling parallelism to avoid deadlocks...\n",
      "To disable this warning, you can either:\n",
      "\t- Avoid using `tokenizers` before the fork if possible\n",
      "\t- Explicitly set the environment variable TOKENIZERS_PARALLELISM=(true | false)\n"
     ]
    },
    {
     "name": "stdout",
     "output_type": "stream",
     "text": [
      "\n",
      "Answer:\n",
      " content='Pendiri Dexa Medica adalah almarhum Letkol apt. Drs. Rudy Soetikno.' additional_kwargs={'refusal': None} response_metadata={'token_usage': {'completion_tokens': 22, 'prompt_tokens': 536, 'total_tokens': 558, 'completion_tokens_details': {'accepted_prediction_tokens': 0, 'audio_tokens': 0, 'reasoning_tokens': 0, 'rejected_prediction_tokens': 0}, 'prompt_tokens_details': {'audio_tokens': 0, 'cached_tokens': 0}}, 'model_name': 'gpt-4.1-nano-2025-04-14', 'system_fingerprint': 'fp_f12167b370', 'id': 'chatcmpl-Bc6hulhbDJo3TxniGlaHpG7EwMMmO', 'service_tier': 'default', 'finish_reason': 'stop', 'logprobs': None} id='run--89622266-d0ab-4079-b320-a744274fa1c3-0' usage_metadata={'input_tokens': 536, 'output_tokens': 22, 'total_tokens': 558, 'input_token_details': {'audio': 0, 'cache_read': 0}, 'output_token_details': {'audio': 0, 'reasoning': 0}}\n"
     ]
    }
   ],
   "source": [
    "\n",
    "# Step 8: Accept user input and perform semantic search\n",
    "def query_rag_system(query: str):\n",
    "    docs = vector_store.similarity_search(query)\n",
    "    context = \"\\n\\n\".join([doc.page_content for doc in docs])\n",
    "    prompt = f\"Answer the question based on the context below:\\n\\n{context}\\n\\nQuestion: {query}\"\n",
    "    return llm.invoke(prompt)\n",
    "\n",
    "user_query = \"Siapa pendiri Dexa?\"\n",
    "response = query_rag_system(user_query)\n",
    "print(\"\\nAnswer:\\n\", response)\n"
   ]
  },
  {
   "cell_type": "code",
   "execution_count": null,
   "id": "2efe5929",
   "metadata": {},
   "outputs": [],
   "source": []
  }
 ],
 "metadata": {
  "kernelspec": {
   "display_name": "venv",
   "language": "python",
   "name": "python3"
  },
  "language_info": {
   "codemirror_mode": {
    "name": "ipython",
    "version": 3
   },
   "file_extension": ".py",
   "mimetype": "text/x-python",
   "name": "python",
   "nbconvert_exporter": "python",
   "pygments_lexer": "ipython3",
   "version": "3.11.5"
  }
 },
 "nbformat": 4,
 "nbformat_minor": 5
}
