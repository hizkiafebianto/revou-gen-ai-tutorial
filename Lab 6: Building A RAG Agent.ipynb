{
 "cells": [
  {
   "cell_type": "markdown",
   "id": "16656aaf",
   "metadata": {},
   "source": [
    "# Lab 6: Building A RAG Agent"
   ]
  },
  {
   "cell_type": "markdown",
   "id": "9fb9418d",
   "metadata": {},
   "source": []
  }
 ],
 "metadata": {
  "language_info": {
   "name": "python"
  }
 },
 "nbformat": 4,
 "nbformat_minor": 5
}
