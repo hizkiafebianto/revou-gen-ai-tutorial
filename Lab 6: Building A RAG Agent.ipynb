{
 "cells": [
  {
   "cell_type": "markdown",
   "id": "16656aaf",
   "metadata": {},
   "source": [
    "# Lab 6: Building A RAG Agent"
   ]
  },
  {
   "cell_type": "markdown",
   "id": "35f37baa",
   "metadata": {},
   "source": [
    "## Setup Components"
   ]
  },
  {
   "cell_type": "code",
   "execution_count": 1,
   "id": "b4c4ed0c",
   "metadata": {},
   "outputs": [
    {
     "data": {
      "text/plain": [
       "True"
      ]
     },
     "execution_count": 1,
     "metadata": {},
     "output_type": "execute_result"
    }
   ],
   "source": [
    "## Load Environment Table\n",
    "from dotenv import load_dotenv\n",
    "load_dotenv(override=True)  # take environment variables"
   ]
  },
  {
   "cell_type": "code",
   "execution_count": 2,
   "id": "6b4cdad9",
   "metadata": {},
   "outputs": [],
   "source": [
    "# Load large language model \n",
    "from langchain.chat_models import init_chat_model\n",
    "llm = init_chat_model(\"gpt-4.1-nano\", model_provider=\"openai\")"
   ]
  },
  {
   "cell_type": "code",
   "execution_count": 3,
   "id": "67a6d7ce",
   "metadata": {},
   "outputs": [
    {
     "name": "stdout",
     "output_type": "stream",
     "text": [
      "Requirement already satisfied: langchain_huggingface in ./venv/lib/python3.11/site-packages (0.2.0)\n",
      "Requirement already satisfied: langchain-core<1.0.0,>=0.3.59 in ./venv/lib/python3.11/site-packages (from langchain_huggingface) (0.3.61)\n",
      "Requirement already satisfied: tokenizers>=0.19.1 in ./venv/lib/python3.11/site-packages (from langchain_huggingface) (0.21.1)\n",
      "Requirement already satisfied: transformers>=4.39.0 in ./venv/lib/python3.11/site-packages (from langchain_huggingface) (4.52.3)\n",
      "Requirement already satisfied: sentence-transformers>=2.6.0 in ./venv/lib/python3.11/site-packages (from langchain_huggingface) (4.1.0)\n",
      "Requirement already satisfied: huggingface-hub>=0.30.2 in ./venv/lib/python3.11/site-packages (from langchain_huggingface) (0.32.1)\n",
      "Requirement already satisfied: langsmith<0.4,>=0.1.126 in ./venv/lib/python3.11/site-packages (from langchain-core<1.0.0,>=0.3.59->langchain_huggingface) (0.3.42)\n",
      "Requirement already satisfied: tenacity!=8.4.0,<10.0.0,>=8.1.0 in ./venv/lib/python3.11/site-packages (from langchain-core<1.0.0,>=0.3.59->langchain_huggingface) (9.1.2)\n",
      "Requirement already satisfied: jsonpatch<2.0,>=1.33 in ./venv/lib/python3.11/site-packages (from langchain-core<1.0.0,>=0.3.59->langchain_huggingface) (1.33)\n",
      "Requirement already satisfied: PyYAML>=5.3 in ./venv/lib/python3.11/site-packages (from langchain-core<1.0.0,>=0.3.59->langchain_huggingface) (6.0.2)\n",
      "Requirement already satisfied: packaging<25,>=23.2 in ./venv/lib/python3.11/site-packages (from langchain-core<1.0.0,>=0.3.59->langchain_huggingface) (24.2)\n",
      "Requirement already satisfied: typing-extensions>=4.7 in ./venv/lib/python3.11/site-packages (from langchain-core<1.0.0,>=0.3.59->langchain_huggingface) (4.13.2)\n",
      "Requirement already satisfied: pydantic>=2.7.4 in ./venv/lib/python3.11/site-packages (from langchain-core<1.0.0,>=0.3.59->langchain_huggingface) (2.11.4)\n",
      "Requirement already satisfied: jsonpointer>=1.9 in ./venv/lib/python3.11/site-packages (from jsonpatch<2.0,>=1.33->langchain-core<1.0.0,>=0.3.59->langchain_huggingface) (3.0.0)\n",
      "Requirement already satisfied: httpx<1,>=0.23.0 in ./venv/lib/python3.11/site-packages (from langsmith<0.4,>=0.1.126->langchain-core<1.0.0,>=0.3.59->langchain_huggingface) (0.28.1)\n",
      "Requirement already satisfied: orjson<4.0.0,>=3.9.14 in ./venv/lib/python3.11/site-packages (from langsmith<0.4,>=0.1.126->langchain-core<1.0.0,>=0.3.59->langchain_huggingface) (3.10.18)\n",
      "Requirement already satisfied: requests<3,>=2 in ./venv/lib/python3.11/site-packages (from langsmith<0.4,>=0.1.126->langchain-core<1.0.0,>=0.3.59->langchain_huggingface) (2.32.2)\n",
      "Requirement already satisfied: requests-toolbelt<2.0.0,>=1.0.0 in ./venv/lib/python3.11/site-packages (from langsmith<0.4,>=0.1.126->langchain-core<1.0.0,>=0.3.59->langchain_huggingface) (1.0.0)\n",
      "Requirement already satisfied: zstandard<0.24.0,>=0.23.0 in ./venv/lib/python3.11/site-packages (from langsmith<0.4,>=0.1.126->langchain-core<1.0.0,>=0.3.59->langchain_huggingface) (0.23.0)\n",
      "Requirement already satisfied: anyio in ./venv/lib/python3.11/site-packages (from httpx<1,>=0.23.0->langsmith<0.4,>=0.1.126->langchain-core<1.0.0,>=0.3.59->langchain_huggingface) (4.9.0)\n",
      "Requirement already satisfied: certifi in ./venv/lib/python3.11/site-packages (from httpx<1,>=0.23.0->langsmith<0.4,>=0.1.126->langchain-core<1.0.0,>=0.3.59->langchain_huggingface) (2025.4.26)\n",
      "Requirement already satisfied: httpcore==1.* in ./venv/lib/python3.11/site-packages (from httpx<1,>=0.23.0->langsmith<0.4,>=0.1.126->langchain-core<1.0.0,>=0.3.59->langchain_huggingface) (1.0.9)\n",
      "Requirement already satisfied: idna in ./venv/lib/python3.11/site-packages (from httpx<1,>=0.23.0->langsmith<0.4,>=0.1.126->langchain-core<1.0.0,>=0.3.59->langchain_huggingface) (3.10)\n",
      "Requirement already satisfied: h11>=0.16 in ./venv/lib/python3.11/site-packages (from httpcore==1.*->httpx<1,>=0.23.0->langsmith<0.4,>=0.1.126->langchain-core<1.0.0,>=0.3.59->langchain_huggingface) (0.16.0)\n",
      "Requirement already satisfied: annotated-types>=0.6.0 in ./venv/lib/python3.11/site-packages (from pydantic>=2.7.4->langchain-core<1.0.0,>=0.3.59->langchain_huggingface) (0.7.0)\n",
      "Requirement already satisfied: pydantic-core==2.33.2 in ./venv/lib/python3.11/site-packages (from pydantic>=2.7.4->langchain-core<1.0.0,>=0.3.59->langchain_huggingface) (2.33.2)\n",
      "Requirement already satisfied: typing-inspection>=0.4.0 in ./venv/lib/python3.11/site-packages (from pydantic>=2.7.4->langchain-core<1.0.0,>=0.3.59->langchain_huggingface) (0.4.0)\n",
      "Requirement already satisfied: charset-normalizer<4,>=2 in ./venv/lib/python3.11/site-packages (from requests<3,>=2->langsmith<0.4,>=0.1.126->langchain-core<1.0.0,>=0.3.59->langchain_huggingface) (3.4.2)\n",
      "Requirement already satisfied: urllib3<3,>=1.21.1 in ./venv/lib/python3.11/site-packages (from requests<3,>=2->langsmith<0.4,>=0.1.126->langchain-core<1.0.0,>=0.3.59->langchain_huggingface) (2.0.7)\n",
      "Requirement already satisfied: filelock in ./venv/lib/python3.11/site-packages (from huggingface-hub>=0.30.2->langchain_huggingface) (3.18.0)\n",
      "Requirement already satisfied: fsspec>=2023.5.0 in ./venv/lib/python3.11/site-packages (from huggingface-hub>=0.30.2->langchain_huggingface) (2025.5.1)\n",
      "Requirement already satisfied: tqdm>=4.42.1 in ./venv/lib/python3.11/site-packages (from huggingface-hub>=0.30.2->langchain_huggingface) (4.67.1)\n",
      "Requirement already satisfied: hf-xet<2.0.0,>=1.1.2 in ./venv/lib/python3.11/site-packages (from huggingface-hub>=0.30.2->langchain_huggingface) (1.1.2)\n",
      "Requirement already satisfied: torch>=1.11.0 in ./venv/lib/python3.11/site-packages (from sentence-transformers>=2.6.0->langchain_huggingface) (2.7.0)\n",
      "Requirement already satisfied: scikit-learn in ./venv/lib/python3.11/site-packages (from sentence-transformers>=2.6.0->langchain_huggingface) (1.6.1)\n",
      "Requirement already satisfied: scipy in ./venv/lib/python3.11/site-packages (from sentence-transformers>=2.6.0->langchain_huggingface) (1.15.3)\n",
      "Requirement already satisfied: Pillow in ./venv/lib/python3.11/site-packages (from sentence-transformers>=2.6.0->langchain_huggingface) (11.2.1)\n",
      "Requirement already satisfied: numpy>=1.17 in ./venv/lib/python3.11/site-packages (from transformers>=4.39.0->langchain_huggingface) (1.26.4)\n",
      "Requirement already satisfied: regex!=2019.12.17 in ./venv/lib/python3.11/site-packages (from transformers>=4.39.0->langchain_huggingface) (2024.11.6)\n",
      "Requirement already satisfied: safetensors>=0.4.3 in ./venv/lib/python3.11/site-packages (from transformers>=4.39.0->langchain_huggingface) (0.5.3)\n",
      "Requirement already satisfied: sympy>=1.13.3 in ./venv/lib/python3.11/site-packages (from torch>=1.11.0->sentence-transformers>=2.6.0->langchain_huggingface) (1.14.0)\n",
      "Requirement already satisfied: networkx in ./venv/lib/python3.11/site-packages (from torch>=1.11.0->sentence-transformers>=2.6.0->langchain_huggingface) (3.4.2)\n",
      "Requirement already satisfied: jinja2 in ./venv/lib/python3.11/site-packages (from torch>=1.11.0->sentence-transformers>=2.6.0->langchain_huggingface) (3.1.6)\n",
      "Requirement already satisfied: mpmath<1.4,>=1.1.0 in ./venv/lib/python3.11/site-packages (from sympy>=1.13.3->torch>=1.11.0->sentence-transformers>=2.6.0->langchain_huggingface) (1.3.0)\n",
      "Requirement already satisfied: sniffio>=1.1 in ./venv/lib/python3.11/site-packages (from anyio->httpx<1,>=0.23.0->langsmith<0.4,>=0.1.126->langchain-core<1.0.0,>=0.3.59->langchain_huggingface) (1.3.1)\n",
      "Requirement already satisfied: MarkupSafe>=2.0 in ./venv/lib/python3.11/site-packages (from jinja2->torch>=1.11.0->sentence-transformers>=2.6.0->langchain_huggingface) (3.0.2)\n",
      "Requirement already satisfied: joblib>=1.2.0 in ./venv/lib/python3.11/site-packages (from scikit-learn->sentence-transformers>=2.6.0->langchain_huggingface) (1.5.1)\n",
      "Requirement already satisfied: threadpoolctl>=3.1.0 in ./venv/lib/python3.11/site-packages (from scikit-learn->sentence-transformers>=2.6.0->langchain_huggingface) (3.6.0)\n",
      "Note: you may need to restart the kernel to use updated packages.\n"
     ]
    }
   ],
   "source": [
    "%pip install langchain_huggingface"
   ]
  },
  {
   "cell_type": "code",
   "execution_count": 26,
   "id": "650bc0f2",
   "metadata": {},
   "outputs": [],
   "source": [
    "# Selecting Embedding model\n",
    "# from langchain_openai import OpenAIEmbeddings\n",
    "# embeddings = OpenAIEmbeddings(model=\"text-embedding-3-small\")\n",
    "\n",
    "from langchain_huggingface import HuggingFaceEmbeddings\n",
    "# embedding_model = HuggingFaceEmbeddings(model_name=\"sentence-transformers/all-MiniLM-L6-v2\")\n",
    "embedding_model = HuggingFaceEmbeddings(model_name=\"intfloat/multilingual-e5-large-instruct\")\n",
    "# embedding_model = HuggingFaceEmbeddings(model_name=\"Alibaba-NLP/gte-Qwen2-7B-instruct\")"
   ]
  },
  {
   "cell_type": "code",
   "execution_count": null,
   "id": "2c041bc0",
   "metadata": {},
   "outputs": [],
   "source": [
    "#from langchain_openai import OpenAIEmbeddings\n",
    "#embedding_model = OpenAIEmbeddings(model=\"text-embedding-3-small\")"
   ]
  },
  {
   "cell_type": "code",
   "execution_count": 27,
   "id": "1b899173",
   "metadata": {},
   "outputs": [],
   "source": [
    "# Initiate Vector Code\n",
    "# In-memory \n",
    "\n",
    "from langchain_core.vectorstores import InMemoryVectorStore\n",
    "vector_store = InMemoryVectorStore(embedding_model)"
   ]
  },
  {
   "cell_type": "markdown",
   "id": "a96c86b1",
   "metadata": {},
   "source": [
    "## Document Loaders"
   ]
  },
  {
   "cell_type": "code",
   "execution_count": 6,
   "id": "dc7d8068",
   "metadata": {},
   "outputs": [
    {
     "name": "stdout",
     "output_type": "stream",
     "text": [
      "Note: you may need to restart the kernel to use updated packages.\n"
     ]
    }
   ],
   "source": [
    "%pip install -qU pypdf"
   ]
  },
  {
   "cell_type": "code",
   "execution_count": 7,
   "id": "eb387498",
   "metadata": {},
   "outputs": [],
   "source": [
    "##\n",
    "file_path = \"./docs/Tentang Dexa Medica.pdf\"\n",
    "\n",
    "from langchain_community.document_loaders import PyPDFLoader\n",
    "\n",
    "loader = PyPDFLoader(file_path)\n",
    "pages = []\n",
    "async for page in loader.alazy_load():\n",
    "    pages.append(page)"
   ]
  },
  {
   "cell_type": "code",
   "execution_count": 8,
   "id": "f44e1b3a",
   "metadata": {},
   "outputs": [
    {
     "name": "stdout",
     "output_type": "stream",
     "text": [
      "{'producer': 'Skia/PDF m136', 'creator': 'Mozilla/5.0 (Macintosh; Intel Mac OS X 10_15_7) AppleWebKit/537.36 (KHTML, like Gecko) Chrome/136.0.0.0 Safari/537.36', 'creationdate': '2025-05-25T09:21:53+00:00', 'title': 'Dexa Medica • Dexa Group', 'moddate': '2025-05-25T09:21:53+00:00', 'source': './docs/Tentang Dexa Medica.pdf', 'total_pages': 5, 'page': 0, 'page_label': '1'}\n",
      "\n",
      "Gambaran Umum\n",
      "Dexa Medica, salah satu perusahaan farmasi terbesar di Indonesia, telah secara konsisten\n",
      "menggunakan kemampuan penelitiannya yang canggih untuk memprioritaskan kebutuhan\n",
      "kesehatan masyarakat Indonesia. Mottonya — pemanfaatan keahlian untuk mempromosikan\n",
      "kesehatan — adalah konsekuensi alami dari komitmen jangka panjangnya meningkatkan\n",
      "perawatan kesehatan bagi semua orang. Perusahaan dan tim manajemen Dexa Medica dipandu\n",
      "oleh empat prinsip inti yaitu kejujuran, kepercayaan, dedikasi, dan komitmen.\n",
      "Dexa Medica didirikan di Palembang (Sumatera Selatan, Indonesia) pada tahun 1969 oleh\n",
      "almarhum Letkol apt. Drs. Rudy Soetikno. Sebagai seorang apoteker muda yang rendah hati di\n",
      "Korps Kesehatan/Medis TNI Angkatan Darat, beliau tergerak melihat kelangkaan pasokan obat-\n",
      "obatan di Indonesia. Pengabdian Drs. Soetikno pada negaranya dan keahliannya di bidang farmasi\n",
      "mendorongnya untuk mulai memasok obat-obatan — yang ternyata menjadi panggilan hidupnya.\n",
      "Bersama beberapa rekan, beliau mulai memproduksi tablet dasar di apotek kecil milik bersama.\n",
      "Sejak saat itu, Dexa Medica semakin kuat, berkembang menjadi salah satu perusahaan farmasi\n",
      "etis terbesar di Indonesia. Lingkungan perusahaan yang dibina dengan cermat oleh Drs. Soetikno\n",
      "dan tim manajemen yang tak kenal lelah, adalah lingkungan yang saling menghormati,\n",
      "menjunjung tinggi kerja tim, dan inovatif.\n",
      "Visi & Misi\n",
      "VISI\n",
      "Menjadi perusahaan terkemuka yang berdedikasi untuk memberikan nilai tambah yang signifikan\n",
      "bagi kepentingan pelanggan, mitra bisnis, dan pemangku kepentingan kami melalui operasi yang\n",
      "efektif, efisien, dan berkelanjutan untuk mencapai “kesehatan bagi semua orang” di seluruh\n",
      "penjuru negeri, juga secara regional dan global.\n",
      "MISI\n",
      "Membangun kapasitas dan kompetensi farmasi dalam meningkatkan kualitas sistem perawatan\n",
      "kesehatan melalui:\n",
      "aa\n",
      "2\n"
     ]
    }
   ],
   "source": [
    "print(f\"{pages[0].metadata}\\n\")\n",
    "print(pages[0].page_content)"
   ]
  },
  {
   "cell_type": "code",
   "execution_count": 9,
   "id": "33a3c150",
   "metadata": {},
   "outputs": [
    {
     "data": {
      "text/plain": [
       "[Document(metadata={'producer': 'Skia/PDF m136', 'creator': 'Mozilla/5.0 (Macintosh; Intel Mac OS X 10_15_7) AppleWebKit/537.36 (KHTML, like Gecko) Chrome/136.0.0.0 Safari/537.36', 'creationdate': '2025-05-25T09:21:53+00:00', 'title': 'Dexa Medica • Dexa Group', 'moddate': '2025-05-25T09:21:53+00:00', 'source': './docs/Tentang Dexa Medica.pdf', 'total_pages': 5, 'page': 0, 'page_label': '1'}, page_content='Gambaran Umum\\nDexa Medica, salah satu perusahaan farmasi terbesar di Indonesia, telah secara konsisten\\nmenggunakan kemampuan penelitiannya yang canggih untuk memprioritaskan kebutuhan\\nkesehatan masyarakat Indonesia. Mottonya — pemanfaatan keahlian untuk mempromosikan\\nkesehatan — adalah konsekuensi alami dari komitmen jangka panjangnya meningkatkan\\nperawatan kesehatan bagi semua orang. Perusahaan dan tim manajemen Dexa Medica dipandu\\noleh empat prinsip inti yaitu kejujuran, kepercayaan, dedikasi, dan komitmen.\\nDexa Medica didirikan di Palembang (Sumatera Selatan, Indonesia) pada tahun 1969 oleh\\nalmarhum Letkol apt. Drs. Rudy Soetikno. Sebagai seorang apoteker muda yang rendah hati di\\nKorps Kesehatan/Medis TNI Angkatan Darat, beliau tergerak melihat kelangkaan pasokan obat-\\nobatan di Indonesia. Pengabdian Drs. Soetikno pada negaranya dan keahliannya di bidang farmasi\\nmendorongnya untuk mulai memasok obat-obatan — yang ternyata menjadi panggilan hidupnya.\\nBersama beberapa rekan, beliau mulai memproduksi tablet dasar di apotek kecil milik bersama.\\nSejak saat itu, Dexa Medica semakin kuat, berkembang menjadi salah satu perusahaan farmasi\\netis terbesar di Indonesia. Lingkungan perusahaan yang dibina dengan cermat oleh Drs. Soetikno\\ndan tim manajemen yang tak kenal lelah, adalah lingkungan yang saling menghormati,\\nmenjunjung tinggi kerja tim, dan inovatif.\\nVisi & Misi\\nVISI\\nMenjadi perusahaan terkemuka yang berdedikasi untuk memberikan nilai tambah yang signifikan\\nbagi kepentingan pelanggan, mitra bisnis, dan pemangku kepentingan kami melalui operasi yang\\nefektif, efisien, dan berkelanjutan untuk mencapai “kesehatan bagi semua orang” di seluruh\\npenjuru negeri, juga secara regional dan global.\\nMISI\\nMembangun kapasitas dan kompetensi farmasi dalam meningkatkan kualitas sistem perawatan\\nkesehatan melalui:\\naa\\n2'),\n",
       " Document(metadata={'producer': 'Skia/PDF m136', 'creator': 'Mozilla/5.0 (Macintosh; Intel Mac OS X 10_15_7) AppleWebKit/537.36 (KHTML, like Gecko) Chrome/136.0.0.0 Safari/537.36', 'creationdate': '2025-05-25T09:21:53+00:00', 'title': 'Dexa Medica • Dexa Group', 'moddate': '2025-05-25T09:21:53+00:00', 'source': './docs/Tentang Dexa Medica.pdf', 'total_pages': 5, 'page': 1, 'page_label': '2'}, page_content='Inovasi dan peningkatan berkelanjutan\\nMeningkatkan pasar\\nKepemimpinan biaya\\nMembangun aliansi strategis\\nNilai Dasar\\nNama Dexa terinspirasi dari bahasa Yunani δέκα , berarti 10—sebuah simbol universal dari\\nkesempurnaan. Nama mencerminkan filosofi perusahaan, yang bercita-cita, bahkan hari ini,\\nuntuk melanjutkan tradisi panjang perfeksionisme. Selama lebih dari lima dekade, Dexa Medica\\ntelah memegang tiga nilai dasar:\\n\\xa0\\n\\xa0\\nSTRIVE FOR EXCELLENCE\\nKomitmen untuk memberikan hasil terbaik kepada pelanggan.\\nACT PROFESSIONALLY\\nBertindak professional yang menekankan pada kejujuran dan integritas.\\nDEAL WITH CARE\\nKepedulian untuk selalu memahami dan menghormati satu sama lain.\\nKompetensi Inti\\nDexa Medica memfokuskan kegiatan pada empat kompetensi inti:\\nPENGELOLAAN SUMBER DAYA\\nMengerahkan sumber daya untuk menghasilkan produk terbaik dengan cara yang paling efisien.\\n2'),\n",
       " Document(metadata={'producer': 'Skia/PDF m136', 'creator': 'Mozilla/5.0 (Macintosh; Intel Mac OS X 10_15_7) AppleWebKit/537.36 (KHTML, like Gecko) Chrome/136.0.0.0 Safari/537.36', 'creationdate': '2025-05-25T09:21:53+00:00', 'title': 'Dexa Medica • Dexa Group', 'moddate': '2025-05-25T09:21:53+00:00', 'source': './docs/Tentang Dexa Medica.pdf', 'total_pages': 5, 'page': 2, 'page_label': '3'}, page_content='INOVASI\\nMemberikan opsi untuk melakukan kegiatan yang diperlukan untuk menyediakan produk yang\\nunggul, khas, dan terdiferensiasi.\\nALIANSI STRATEGIS\\nMemilih dan mempertahankan mitra yang tepat untuk perbaikan sinergis.\\nPERUBAHAN MANAJEMEN\\nMengantisipasi perubahan dan proaktif mengimplementasikan rencana untuk memanfaatkan\\nperubahan yang akan datang dalam bisnis dan industri.\\nBisnis Utama\\nBisnis Dexa berfokus pada dua aspek utama: manufaktur serta penelitian dan pengembangan.\\nProduksi kami lakukan di tiga pabrik utama:\\nPT DEXA MEDICA PALEMBANG\\nuntuk produksi padat dan sefalosporin\\nPT DEXA MEDICA CIKARANG\\nuntuk Produksi API – Penemuan, Penelitian, dan Pengembangan\\nPT BETA PHARMACON KARAWANG\\nuntuk produksi padat produk volume tinggi\\nDexa telah melakukan investasi berulang yang konsisten ke dalam bisnis intinya, terus\\nmengembangkan produk farmasi yang sangat inovatif melalui penelitian dan pengembangan\\nyang cermat. Dexa mengoperasikan fasilitas penelitian canggih dan terintegrasi, Dexa\\nDevelopment Center (DDC) di Jababeka, Cikarang. DDC dirancang secara khusus untuk\\nmenampung hingga 250 ilmuwan sehingga dapat menghasilkan sebanyak 30 dosir (CTDs dan\\nACTD) setiap tahunnya. Kegiatannya tidak hanya meliputi formulasi konvensional, tetapi juga\\npengembangan Sistem Penghantaran Obat Baru (NDDS).\\nSejak tahun 2005, divisi riset perusahaan, Dexa Laboratories of Biomolecular Sciences (DLBS) juga\\ntelah menemukan bahan aktif yang asli berasal dari Indonesia. Bahan-bahan langka ini kemudian\\ndigunakan dalam obat-obatan herbal yang diproduksi oleh Dexa Group, dan ditawarkan kepada\\nmasyarakat dengan harga yang terjangkau. Hal ini sejalan dengan komitmen perusahaan untuk\\nmeningkatkan perawatan kesehatan bagi semua orang. DLBS menggunakan sumber hidup\\norganisme — seperti tumbuhan, hewan, dan mikroba — untuk meningkatkan kualitas hidup\\nmanusia. DLBS adalah rumah bagi sebagian ilmuwan dan apoteker paling berbakat di dunia, di\\nmana ratusan di antaranya adalah orang Indonesia. DLBS juga bekerja sama dengan, dan melatih,\\npetani untuk menghasilkan bahan-bahan alami berkualitas tinggi dan terstandarisasi.\\nKontribusi\\nOMAI\\n2'),\n",
       " Document(metadata={'producer': 'Skia/PDF m136', 'creator': 'Mozilla/5.0 (Macintosh; Intel Mac OS X 10_15_7) AppleWebKit/537.36 (KHTML, like Gecko) Chrome/136.0.0.0 Safari/537.36', 'creationdate': '2025-05-25T09:21:53+00:00', 'title': 'Dexa Medica • Dexa Group', 'moddate': '2025-05-25T09:21:53+00:00', 'source': './docs/Tentang Dexa Medica.pdf', 'total_pages': 5, 'page': 3, 'page_label': '4'}, page_content='PT Dexa Medica memberikan kontribusi yang sangat besar dalam pengembangan Obat Modern\\nAsli Indonesia (OMAI). OMAI adalah obat yang diambil dari kekayaan alam Indonesia dan\\ndikembangkan dengan teknologi modern. OMAI terdiri dari Obat Herbal Terstandar (OHT) yang\\ntelah lulus uji praklinis, dan fitofarmaka yang telah lolos uji klinis. Saat ini, 37 dari 97 OHT dan 28\\ndari 31 fitofarmaka yang terdaftar adalah hasil produksi Dexa.\\nOGB\\nPT Dexa Medica adalah perusahaan swasta pertama di Indonesia yang memproduksi Obat\\nGenerik Berlogo/OGB (obat generik tidak bermerek), dan satu dari lima perusahaan farmasi yang\\ntelah menerima sertifikasi Cara Pembuatan Obat yang Baik (CPOB).\\nOGBdexa telah meluncurkan lebih dari 50 obat baru dalam 5 tahun terakhir, dan memiliki\\nportofolio lebih dari 187 obat. Untuk memenuhi permintaan pasar OGB, Dexa Medica\\nmemproduksi lebih dari 1 miliar tablet, vial, dan ampul obat setiap tahun. OGBdexa tersedia di\\nseluruh Indonesia, di lebih dari 21.000 apotek, rumah sakit, kantor kesehatan, dan klinik\\nkesehatan masyarakat. Sebagai bagian dari Jaminan Kesehatan Nasional (JKN), OGBdexa\\nmemainkan peran penting dalam menyediakan obat-obatan bagi 262 juta penerima manfaat JKN.\\nSUREL\\nInformasi Umum:\\ninfo@dexagroup.com\\nHUBUNGI KAMI\\nNama\\nSurel\\nNomor Telepon\\nKategori\\nSubjek\\nPesan\\nKirim =\\n2'),\n",
       " Document(metadata={'producer': 'Skia/PDF m136', 'creator': 'Mozilla/5.0 (Macintosh; Intel Mac OS X 10_15_7) AppleWebKit/537.36 (KHTML, like Gecko) Chrome/136.0.0.0 Safari/537.36', 'creationdate': '2025-05-25T09:21:53+00:00', 'title': 'Dexa Medica • Dexa Group', 'moddate': '2025-05-25T09:21:53+00:00', 'source': './docs/Tentang Dexa Medica.pdf', 'total_pages': 5, 'page': 4, 'page_label': '5'}, page_content='Relasi Pemerintahan & Media:\\ncorporate.communications@dexagroup.com\\nHR dan Rekrutmen:\\nrecruitment.corporate@dexagroup.com\\nTELEPON\\n+62 21 7454-111\\nTERHUBUNG DENGAN KAMI\\nIkuti sosial media kami dan jadilah bagian dari misi untuk meningkatkan kesehatan\\nALAMAT\\nTitan Center, Lantai 3,\\nJalan Boulevard Bintaro,\\nBlok B7/B1 No. 5,\\nBintaro Jaya, Sektor 7,\\nTangerang 15424, Indonesia\\n© 2021-2022 Dexa Group\\n2')]"
      ]
     },
     "execution_count": 9,
     "metadata": {},
     "output_type": "execute_result"
    }
   ],
   "source": [
    "docs = loader.load()\n",
    "docs"
   ]
  },
  {
   "cell_type": "markdown",
   "id": "01848a38",
   "metadata": {},
   "source": [
    "## Splitting"
   ]
  },
  {
   "cell_type": "code",
   "execution_count": 10,
   "id": "8dd6f9a0",
   "metadata": {},
   "outputs": [
    {
     "data": {
      "text/plain": [
       "18"
      ]
     },
     "execution_count": 10,
     "metadata": {},
     "output_type": "execute_result"
    }
   ],
   "source": [
    "from langchain_text_splitters import RecursiveCharacterTextSplitter\n",
    "\n",
    "text_splitter = RecursiveCharacterTextSplitter(\n",
    "    chunk_size=500, chunk_overlap=100\n",
    ")\n",
    "\n",
    "all_splits = text_splitter.split_documents(docs)\n",
    "\n",
    "len(all_splits)"
   ]
  },
  {
   "cell_type": "code",
   "execution_count": 11,
   "id": "88582c61",
   "metadata": {},
   "outputs": [
    {
     "name": "stdout",
     "output_type": "stream",
     "text": [
      "page_content='Gambaran Umum\n",
      "Dexa Medica, salah satu perusahaan farmasi terbesar di Indonesia, telah secara konsisten\n",
      "menggunakan kemampuan penelitiannya yang canggih untuk memprioritaskan kebutuhan\n",
      "kesehatan masyarakat Indonesia. Mottonya — pemanfaatan keahlian untuk mempromosikan\n",
      "kesehatan — adalah konsekuensi alami dari komitmen jangka panjangnya meningkatkan\n",
      "perawatan kesehatan bagi semua orang. Perusahaan dan tim manajemen Dexa Medica dipandu' metadata={'producer': 'Skia/PDF m136', 'creator': 'Mozilla/5.0 (Macintosh; Intel Mac OS X 10_15_7) AppleWebKit/537.36 (KHTML, like Gecko) Chrome/136.0.0.0 Safari/537.36', 'creationdate': '2025-05-25T09:21:53+00:00', 'title': 'Dexa Medica • Dexa Group', 'moddate': '2025-05-25T09:21:53+00:00', 'source': './docs/Tentang Dexa Medica.pdf', 'total_pages': 5, 'page': 0, 'page_label': '1'}\n",
      "page_content='perawatan kesehatan bagi semua orang. Perusahaan dan tim manajemen Dexa Medica dipandu\n",
      "oleh empat prinsip inti yaitu kejujuran, kepercayaan, dedikasi, dan komitmen.\n",
      "Dexa Medica didirikan di Palembang (Sumatera Selatan, Indonesia) pada tahun 1969 oleh\n",
      "almarhum Letkol apt. Drs. Rudy Soetikno. Sebagai seorang apoteker muda yang rendah hati di\n",
      "Korps Kesehatan/Medis TNI Angkatan Darat, beliau tergerak melihat kelangkaan pasokan obat-' metadata={'producer': 'Skia/PDF m136', 'creator': 'Mozilla/5.0 (Macintosh; Intel Mac OS X 10_15_7) AppleWebKit/537.36 (KHTML, like Gecko) Chrome/136.0.0.0 Safari/537.36', 'creationdate': '2025-05-25T09:21:53+00:00', 'title': 'Dexa Medica • Dexa Group', 'moddate': '2025-05-25T09:21:53+00:00', 'source': './docs/Tentang Dexa Medica.pdf', 'total_pages': 5, 'page': 0, 'page_label': '1'}\n",
      "page_content='Korps Kesehatan/Medis TNI Angkatan Darat, beliau tergerak melihat kelangkaan pasokan obat-\n",
      "obatan di Indonesia. Pengabdian Drs. Soetikno pada negaranya dan keahliannya di bidang farmasi\n",
      "mendorongnya untuk mulai memasok obat-obatan — yang ternyata menjadi panggilan hidupnya.\n",
      "Bersama beberapa rekan, beliau mulai memproduksi tablet dasar di apotek kecil milik bersama.\n",
      "Sejak saat itu, Dexa Medica semakin kuat, berkembang menjadi salah satu perusahaan farmasi' metadata={'producer': 'Skia/PDF m136', 'creator': 'Mozilla/5.0 (Macintosh; Intel Mac OS X 10_15_7) AppleWebKit/537.36 (KHTML, like Gecko) Chrome/136.0.0.0 Safari/537.36', 'creationdate': '2025-05-25T09:21:53+00:00', 'title': 'Dexa Medica • Dexa Group', 'moddate': '2025-05-25T09:21:53+00:00', 'source': './docs/Tentang Dexa Medica.pdf', 'total_pages': 5, 'page': 0, 'page_label': '1'}\n",
      "page_content='Sejak saat itu, Dexa Medica semakin kuat, berkembang menjadi salah satu perusahaan farmasi\n",
      "etis terbesar di Indonesia. Lingkungan perusahaan yang dibina dengan cermat oleh Drs. Soetikno\n",
      "dan tim manajemen yang tak kenal lelah, adalah lingkungan yang saling menghormati,\n",
      "menjunjung tinggi kerja tim, dan inovatif.\n",
      "Visi & Misi\n",
      "VISI\n",
      "Menjadi perusahaan terkemuka yang berdedikasi untuk memberikan nilai tambah yang signifikan' metadata={'producer': 'Skia/PDF m136', 'creator': 'Mozilla/5.0 (Macintosh; Intel Mac OS X 10_15_7) AppleWebKit/537.36 (KHTML, like Gecko) Chrome/136.0.0.0 Safari/537.36', 'creationdate': '2025-05-25T09:21:53+00:00', 'title': 'Dexa Medica • Dexa Group', 'moddate': '2025-05-25T09:21:53+00:00', 'source': './docs/Tentang Dexa Medica.pdf', 'total_pages': 5, 'page': 0, 'page_label': '1'}\n",
      "page_content='VISI\n",
      "Menjadi perusahaan terkemuka yang berdedikasi untuk memberikan nilai tambah yang signifikan\n",
      "bagi kepentingan pelanggan, mitra bisnis, dan pemangku kepentingan kami melalui operasi yang\n",
      "efektif, efisien, dan berkelanjutan untuk mencapai “kesehatan bagi semua orang” di seluruh\n",
      "penjuru negeri, juga secara regional dan global.\n",
      "MISI\n",
      "Membangun kapasitas dan kompetensi farmasi dalam meningkatkan kualitas sistem perawatan\n",
      "kesehatan melalui:\n",
      "aa\n",
      "2' metadata={'producer': 'Skia/PDF m136', 'creator': 'Mozilla/5.0 (Macintosh; Intel Mac OS X 10_15_7) AppleWebKit/537.36 (KHTML, like Gecko) Chrome/136.0.0.0 Safari/537.36', 'creationdate': '2025-05-25T09:21:53+00:00', 'title': 'Dexa Medica • Dexa Group', 'moddate': '2025-05-25T09:21:53+00:00', 'source': './docs/Tentang Dexa Medica.pdf', 'total_pages': 5, 'page': 0, 'page_label': '1'}\n",
      "page_content='Inovasi dan peningkatan berkelanjutan\n",
      "Meningkatkan pasar\n",
      "Kepemimpinan biaya\n",
      "Membangun aliansi strategis\n",
      "Nilai Dasar\n",
      "Nama Dexa terinspirasi dari bahasa Yunani δέκα , berarti 10—sebuah simbol universal dari\n",
      "kesempurnaan. Nama mencerminkan filosofi perusahaan, yang bercita-cita, bahkan hari ini,\n",
      "untuk melanjutkan tradisi panjang perfeksionisme. Selama lebih dari lima dekade, Dexa Medica\n",
      "telah memegang tiga nilai dasar:\n",
      " \n",
      " \n",
      "STRIVE FOR EXCELLENCE' metadata={'producer': 'Skia/PDF m136', 'creator': 'Mozilla/5.0 (Macintosh; Intel Mac OS X 10_15_7) AppleWebKit/537.36 (KHTML, like Gecko) Chrome/136.0.0.0 Safari/537.36', 'creationdate': '2025-05-25T09:21:53+00:00', 'title': 'Dexa Medica • Dexa Group', 'moddate': '2025-05-25T09:21:53+00:00', 'source': './docs/Tentang Dexa Medica.pdf', 'total_pages': 5, 'page': 1, 'page_label': '2'}\n",
      "page_content='telah memegang tiga nilai dasar:\n",
      " \n",
      " \n",
      "STRIVE FOR EXCELLENCE\n",
      "Komitmen untuk memberikan hasil terbaik kepada pelanggan.\n",
      "ACT PROFESSIONALLY\n",
      "Bertindak professional yang menekankan pada kejujuran dan integritas.\n",
      "DEAL WITH CARE\n",
      "Kepedulian untuk selalu memahami dan menghormati satu sama lain.\n",
      "Kompetensi Inti\n",
      "Dexa Medica memfokuskan kegiatan pada empat kompetensi inti:\n",
      "PENGELOLAAN SUMBER DAYA\n",
      "Mengerahkan sumber daya untuk menghasilkan produk terbaik dengan cara yang paling efisien.\n",
      "2' metadata={'producer': 'Skia/PDF m136', 'creator': 'Mozilla/5.0 (Macintosh; Intel Mac OS X 10_15_7) AppleWebKit/537.36 (KHTML, like Gecko) Chrome/136.0.0.0 Safari/537.36', 'creationdate': '2025-05-25T09:21:53+00:00', 'title': 'Dexa Medica • Dexa Group', 'moddate': '2025-05-25T09:21:53+00:00', 'source': './docs/Tentang Dexa Medica.pdf', 'total_pages': 5, 'page': 1, 'page_label': '2'}\n",
      "page_content='INOVASI\n",
      "Memberikan opsi untuk melakukan kegiatan yang diperlukan untuk menyediakan produk yang\n",
      "unggul, khas, dan terdiferensiasi.\n",
      "ALIANSI STRATEGIS\n",
      "Memilih dan mempertahankan mitra yang tepat untuk perbaikan sinergis.\n",
      "PERUBAHAN MANAJEMEN\n",
      "Mengantisipasi perubahan dan proaktif mengimplementasikan rencana untuk memanfaatkan\n",
      "perubahan yang akan datang dalam bisnis dan industri.\n",
      "Bisnis Utama\n",
      "Bisnis Dexa berfokus pada dua aspek utama: manufaktur serta penelitian dan pengembangan.' metadata={'producer': 'Skia/PDF m136', 'creator': 'Mozilla/5.0 (Macintosh; Intel Mac OS X 10_15_7) AppleWebKit/537.36 (KHTML, like Gecko) Chrome/136.0.0.0 Safari/537.36', 'creationdate': '2025-05-25T09:21:53+00:00', 'title': 'Dexa Medica • Dexa Group', 'moddate': '2025-05-25T09:21:53+00:00', 'source': './docs/Tentang Dexa Medica.pdf', 'total_pages': 5, 'page': 2, 'page_label': '3'}\n",
      "page_content='Bisnis Dexa berfokus pada dua aspek utama: manufaktur serta penelitian dan pengembangan.\n",
      "Produksi kami lakukan di tiga pabrik utama:\n",
      "PT DEXA MEDICA PALEMBANG\n",
      "untuk produksi padat dan sefalosporin\n",
      "PT DEXA MEDICA CIKARANG\n",
      "untuk Produksi API – Penemuan, Penelitian, dan Pengembangan\n",
      "PT BETA PHARMACON KARAWANG\n",
      "untuk produksi padat produk volume tinggi\n",
      "Dexa telah melakukan investasi berulang yang konsisten ke dalam bisnis intinya, terus' metadata={'producer': 'Skia/PDF m136', 'creator': 'Mozilla/5.0 (Macintosh; Intel Mac OS X 10_15_7) AppleWebKit/537.36 (KHTML, like Gecko) Chrome/136.0.0.0 Safari/537.36', 'creationdate': '2025-05-25T09:21:53+00:00', 'title': 'Dexa Medica • Dexa Group', 'moddate': '2025-05-25T09:21:53+00:00', 'source': './docs/Tentang Dexa Medica.pdf', 'total_pages': 5, 'page': 2, 'page_label': '3'}\n",
      "page_content='Dexa telah melakukan investasi berulang yang konsisten ke dalam bisnis intinya, terus\n",
      "mengembangkan produk farmasi yang sangat inovatif melalui penelitian dan pengembangan\n",
      "yang cermat. Dexa mengoperasikan fasilitas penelitian canggih dan terintegrasi, Dexa\n",
      "Development Center (DDC) di Jababeka, Cikarang. DDC dirancang secara khusus untuk\n",
      "menampung hingga 250 ilmuwan sehingga dapat menghasilkan sebanyak 30 dosir (CTDs dan' metadata={'producer': 'Skia/PDF m136', 'creator': 'Mozilla/5.0 (Macintosh; Intel Mac OS X 10_15_7) AppleWebKit/537.36 (KHTML, like Gecko) Chrome/136.0.0.0 Safari/537.36', 'creationdate': '2025-05-25T09:21:53+00:00', 'title': 'Dexa Medica • Dexa Group', 'moddate': '2025-05-25T09:21:53+00:00', 'source': './docs/Tentang Dexa Medica.pdf', 'total_pages': 5, 'page': 2, 'page_label': '3'}\n",
      "page_content='menampung hingga 250 ilmuwan sehingga dapat menghasilkan sebanyak 30 dosir (CTDs dan\n",
      "ACTD) setiap tahunnya. Kegiatannya tidak hanya meliputi formulasi konvensional, tetapi juga\n",
      "pengembangan Sistem Penghantaran Obat Baru (NDDS).\n",
      "Sejak tahun 2005, divisi riset perusahaan, Dexa Laboratories of Biomolecular Sciences (DLBS) juga\n",
      "telah menemukan bahan aktif yang asli berasal dari Indonesia. Bahan-bahan langka ini kemudian' metadata={'producer': 'Skia/PDF m136', 'creator': 'Mozilla/5.0 (Macintosh; Intel Mac OS X 10_15_7) AppleWebKit/537.36 (KHTML, like Gecko) Chrome/136.0.0.0 Safari/537.36', 'creationdate': '2025-05-25T09:21:53+00:00', 'title': 'Dexa Medica • Dexa Group', 'moddate': '2025-05-25T09:21:53+00:00', 'source': './docs/Tentang Dexa Medica.pdf', 'total_pages': 5, 'page': 2, 'page_label': '3'}\n",
      "page_content='telah menemukan bahan aktif yang asli berasal dari Indonesia. Bahan-bahan langka ini kemudian\n",
      "digunakan dalam obat-obatan herbal yang diproduksi oleh Dexa Group, dan ditawarkan kepada\n",
      "masyarakat dengan harga yang terjangkau. Hal ini sejalan dengan komitmen perusahaan untuk\n",
      "meningkatkan perawatan kesehatan bagi semua orang. DLBS menggunakan sumber hidup\n",
      "organisme — seperti tumbuhan, hewan, dan mikroba — untuk meningkatkan kualitas hidup' metadata={'producer': 'Skia/PDF m136', 'creator': 'Mozilla/5.0 (Macintosh; Intel Mac OS X 10_15_7) AppleWebKit/537.36 (KHTML, like Gecko) Chrome/136.0.0.0 Safari/537.36', 'creationdate': '2025-05-25T09:21:53+00:00', 'title': 'Dexa Medica • Dexa Group', 'moddate': '2025-05-25T09:21:53+00:00', 'source': './docs/Tentang Dexa Medica.pdf', 'total_pages': 5, 'page': 2, 'page_label': '3'}\n",
      "page_content='organisme — seperti tumbuhan, hewan, dan mikroba — untuk meningkatkan kualitas hidup\n",
      "manusia. DLBS adalah rumah bagi sebagian ilmuwan dan apoteker paling berbakat di dunia, di\n",
      "mana ratusan di antaranya adalah orang Indonesia. DLBS juga bekerja sama dengan, dan melatih,\n",
      "petani untuk menghasilkan bahan-bahan alami berkualitas tinggi dan terstandarisasi.\n",
      "Kontribusi\n",
      "OMAI\n",
      "2' metadata={'producer': 'Skia/PDF m136', 'creator': 'Mozilla/5.0 (Macintosh; Intel Mac OS X 10_15_7) AppleWebKit/537.36 (KHTML, like Gecko) Chrome/136.0.0.0 Safari/537.36', 'creationdate': '2025-05-25T09:21:53+00:00', 'title': 'Dexa Medica • Dexa Group', 'moddate': '2025-05-25T09:21:53+00:00', 'source': './docs/Tentang Dexa Medica.pdf', 'total_pages': 5, 'page': 2, 'page_label': '3'}\n",
      "page_content='PT Dexa Medica memberikan kontribusi yang sangat besar dalam pengembangan Obat Modern\n",
      "Asli Indonesia (OMAI). OMAI adalah obat yang diambil dari kekayaan alam Indonesia dan\n",
      "dikembangkan dengan teknologi modern. OMAI terdiri dari Obat Herbal Terstandar (OHT) yang\n",
      "telah lulus uji praklinis, dan fitofarmaka yang telah lolos uji klinis. Saat ini, 37 dari 97 OHT dan 28\n",
      "dari 31 fitofarmaka yang terdaftar adalah hasil produksi Dexa.\n",
      "OGB' metadata={'producer': 'Skia/PDF m136', 'creator': 'Mozilla/5.0 (Macintosh; Intel Mac OS X 10_15_7) AppleWebKit/537.36 (KHTML, like Gecko) Chrome/136.0.0.0 Safari/537.36', 'creationdate': '2025-05-25T09:21:53+00:00', 'title': 'Dexa Medica • Dexa Group', 'moddate': '2025-05-25T09:21:53+00:00', 'source': './docs/Tentang Dexa Medica.pdf', 'total_pages': 5, 'page': 3, 'page_label': '4'}\n",
      "page_content='dari 31 fitofarmaka yang terdaftar adalah hasil produksi Dexa.\n",
      "OGB\n",
      "PT Dexa Medica adalah perusahaan swasta pertama di Indonesia yang memproduksi Obat\n",
      "Generik Berlogo/OGB (obat generik tidak bermerek), dan satu dari lima perusahaan farmasi yang\n",
      "telah menerima sertifikasi Cara Pembuatan Obat yang Baik (CPOB).\n",
      "OGBdexa telah meluncurkan lebih dari 50 obat baru dalam 5 tahun terakhir, dan memiliki\n",
      "portofolio lebih dari 187 obat. Untuk memenuhi permintaan pasar OGB, Dexa Medica' metadata={'producer': 'Skia/PDF m136', 'creator': 'Mozilla/5.0 (Macintosh; Intel Mac OS X 10_15_7) AppleWebKit/537.36 (KHTML, like Gecko) Chrome/136.0.0.0 Safari/537.36', 'creationdate': '2025-05-25T09:21:53+00:00', 'title': 'Dexa Medica • Dexa Group', 'moddate': '2025-05-25T09:21:53+00:00', 'source': './docs/Tentang Dexa Medica.pdf', 'total_pages': 5, 'page': 3, 'page_label': '4'}\n",
      "page_content='portofolio lebih dari 187 obat. Untuk memenuhi permintaan pasar OGB, Dexa Medica\n",
      "memproduksi lebih dari 1 miliar tablet, vial, dan ampul obat setiap tahun. OGBdexa tersedia di\n",
      "seluruh Indonesia, di lebih dari 21.000 apotek, rumah sakit, kantor kesehatan, dan klinik\n",
      "kesehatan masyarakat. Sebagai bagian dari Jaminan Kesehatan Nasional (JKN), OGBdexa\n",
      "memainkan peran penting dalam menyediakan obat-obatan bagi 262 juta penerima manfaat JKN.\n",
      "SUREL\n",
      "Informasi Umum:\n",
      "info@dexagroup.com\n",
      "HUBUNGI KAMI\n",
      "Nama' metadata={'producer': 'Skia/PDF m136', 'creator': 'Mozilla/5.0 (Macintosh; Intel Mac OS X 10_15_7) AppleWebKit/537.36 (KHTML, like Gecko) Chrome/136.0.0.0 Safari/537.36', 'creationdate': '2025-05-25T09:21:53+00:00', 'title': 'Dexa Medica • Dexa Group', 'moddate': '2025-05-25T09:21:53+00:00', 'source': './docs/Tentang Dexa Medica.pdf', 'total_pages': 5, 'page': 3, 'page_label': '4'}\n",
      "page_content='SUREL\n",
      "Informasi Umum:\n",
      "info@dexagroup.com\n",
      "HUBUNGI KAMI\n",
      "Nama\n",
      "Surel\n",
      "Nomor Telepon\n",
      "Kategori\n",
      "Subjek\n",
      "Pesan\n",
      "Kirim =\n",
      "2' metadata={'producer': 'Skia/PDF m136', 'creator': 'Mozilla/5.0 (Macintosh; Intel Mac OS X 10_15_7) AppleWebKit/537.36 (KHTML, like Gecko) Chrome/136.0.0.0 Safari/537.36', 'creationdate': '2025-05-25T09:21:53+00:00', 'title': 'Dexa Medica • Dexa Group', 'moddate': '2025-05-25T09:21:53+00:00', 'source': './docs/Tentang Dexa Medica.pdf', 'total_pages': 5, 'page': 3, 'page_label': '4'}\n",
      "page_content='Relasi Pemerintahan & Media:\n",
      "corporate.communications@dexagroup.com\n",
      "HR dan Rekrutmen:\n",
      "recruitment.corporate@dexagroup.com\n",
      "TELEPON\n",
      "+62 21 7454-111\n",
      "TERHUBUNG DENGAN KAMI\n",
      "Ikuti sosial media kami dan jadilah bagian dari misi untuk meningkatkan kesehatan\n",
      "ALAMAT\n",
      "Titan Center, Lantai 3,\n",
      "Jalan Boulevard Bintaro,\n",
      "Blok B7/B1 No. 5,\n",
      "Bintaro Jaya, Sektor 7,\n",
      "Tangerang 15424, Indonesia\n",
      "© 2021-2022 Dexa Group\n",
      "2' metadata={'producer': 'Skia/PDF m136', 'creator': 'Mozilla/5.0 (Macintosh; Intel Mac OS X 10_15_7) AppleWebKit/537.36 (KHTML, like Gecko) Chrome/136.0.0.0 Safari/537.36', 'creationdate': '2025-05-25T09:21:53+00:00', 'title': 'Dexa Medica • Dexa Group', 'moddate': '2025-05-25T09:21:53+00:00', 'source': './docs/Tentang Dexa Medica.pdf', 'total_pages': 5, 'page': 4, 'page_label': '5'}\n"
     ]
    }
   ],
   "source": [
    "for split in all_splits:\n",
    "    print(split)"
   ]
  },
  {
   "cell_type": "markdown",
   "id": "f61afdca",
   "metadata": {},
   "source": [
    "## Embedding and Indexing"
   ]
  },
  {
   "cell_type": "code",
   "execution_count": 28,
   "id": "5d20f59f",
   "metadata": {},
   "outputs": [
    {
     "data": {
      "text/plain": [
       "['7bb54d15-6d9d-45d4-88a1-22ec6b624f89',\n",
       " '7ef36d58-1fcf-4b95-a3b1-3e9ba86e8722',\n",
       " '7e66eadf-9757-4614-87b9-57b59c7a9a81',\n",
       " 'b9cc8cb4-27bb-4ecb-85c1-1804e945613b',\n",
       " '17d14170-686a-463b-b333-975c2a9df7bf',\n",
       " 'b0222152-ac11-4256-a32e-82afa236ded3',\n",
       " 'ec85eebb-3359-4f89-baa4-5dce539b237a',\n",
       " '90f3818b-980a-4f95-b3ea-9a148c90b406',\n",
       " '49d02e2a-caa6-4cdc-b6a5-d4dac5ab47f5',\n",
       " '4d4dc849-3a2b-41ae-ba52-2f0c250147a3',\n",
       " '1e12ba51-19e0-4e0d-81c6-9c49567852df',\n",
       " '4e32d4de-ebb1-4df9-a522-33c9bad37afd',\n",
       " '842e0b21-65af-46e8-9323-96699b4e1def',\n",
       " '3d13511e-ce1a-40c1-b4cb-2a92be097dab',\n",
       " 'a78f1ab8-7cd9-4bcf-91ab-73569eb9ad62',\n",
       " '09f1f6a0-d414-4106-9c0d-535b34090002',\n",
       " 'd1176e79-d30b-41d4-9224-f75186726daa',\n",
       " '01f46d77-f06d-450d-8c12-ad8d29439346']"
      ]
     },
     "execution_count": 28,
     "metadata": {},
     "output_type": "execute_result"
    }
   ],
   "source": [
    "vector_store.add_documents(all_splits)"
   ]
  },
  {
   "cell_type": "code",
   "execution_count": 13,
   "id": "26fa6f79",
   "metadata": {},
   "outputs": [
    {
     "data": {
      "text/plain": [
       "[Document(id='e2494cbd-3e89-4e6d-bc62-41451991899a', metadata={'producer': 'Skia/PDF m136', 'creator': 'Mozilla/5.0 (Macintosh; Intel Mac OS X 10_15_7) AppleWebKit/537.36 (KHTML, like Gecko) Chrome/136.0.0.0 Safari/537.36', 'creationdate': '2025-05-25T09:21:53+00:00', 'title': 'Dexa Medica • Dexa Group', 'moddate': '2025-05-25T09:21:53+00:00', 'source': './docs/Tentang Dexa Medica.pdf', 'total_pages': 5, 'page': 0, 'page_label': '1'}, page_content='perawatan kesehatan bagi semua orang. Perusahaan dan tim manajemen Dexa Medica dipandu\\noleh empat prinsip inti yaitu kejujuran, kepercayaan, dedikasi, dan komitmen.\\nDexa Medica didirikan di Palembang (Sumatera Selatan, Indonesia) pada tahun 1969 oleh\\nalmarhum Letkol apt. Drs. Rudy Soetikno. Sebagai seorang apoteker muda yang rendah hati di\\nKorps Kesehatan/Medis TNI Angkatan Darat, beliau tergerak melihat kelangkaan pasokan obat-'),\n",
       " Document(id='dd90ad2a-7075-4ca4-98e8-93d779422f7b', metadata={'producer': 'Skia/PDF m136', 'creator': 'Mozilla/5.0 (Macintosh; Intel Mac OS X 10_15_7) AppleWebKit/537.36 (KHTML, like Gecko) Chrome/136.0.0.0 Safari/537.36', 'creationdate': '2025-05-25T09:21:53+00:00', 'title': 'Dexa Medica • Dexa Group', 'moddate': '2025-05-25T09:21:53+00:00', 'source': './docs/Tentang Dexa Medica.pdf', 'total_pages': 5, 'page': 3, 'page_label': '4'}, page_content='dari 31 fitofarmaka yang terdaftar adalah hasil produksi Dexa.\\nOGB\\nPT Dexa Medica adalah perusahaan swasta pertama di Indonesia yang memproduksi Obat\\nGenerik Berlogo/OGB (obat generik tidak bermerek), dan satu dari lima perusahaan farmasi yang\\ntelah menerima sertifikasi Cara Pembuatan Obat yang Baik (CPOB).\\nOGBdexa telah meluncurkan lebih dari 50 obat baru dalam 5 tahun terakhir, dan memiliki\\nportofolio lebih dari 187 obat. Untuk memenuhi permintaan pasar OGB, Dexa Medica'),\n",
       " Document(id='8595ba7f-2cb2-4b18-bf5a-cedf32277290', metadata={'producer': 'Skia/PDF m136', 'creator': 'Mozilla/5.0 (Macintosh; Intel Mac OS X 10_15_7) AppleWebKit/537.36 (KHTML, like Gecko) Chrome/136.0.0.0 Safari/537.36', 'creationdate': '2025-05-25T09:21:53+00:00', 'title': 'Dexa Medica • Dexa Group', 'moddate': '2025-05-25T09:21:53+00:00', 'source': './docs/Tentang Dexa Medica.pdf', 'total_pages': 5, 'page': 3, 'page_label': '4'}, page_content='portofolio lebih dari 187 obat. Untuk memenuhi permintaan pasar OGB, Dexa Medica\\nmemproduksi lebih dari 1 miliar tablet, vial, dan ampul obat setiap tahun. OGBdexa tersedia di\\nseluruh Indonesia, di lebih dari 21.000 apotek, rumah sakit, kantor kesehatan, dan klinik\\nkesehatan masyarakat. Sebagai bagian dari Jaminan Kesehatan Nasional (JKN), OGBdexa\\nmemainkan peran penting dalam menyediakan obat-obatan bagi 262 juta penerima manfaat JKN.\\nSUREL\\nInformasi Umum:\\ninfo@dexagroup.com\\nHUBUNGI KAMI\\nNama'),\n",
       " Document(id='a7a2f6b9-bf7b-4947-9ed2-f4f74770a9d4', metadata={'producer': 'Skia/PDF m136', 'creator': 'Mozilla/5.0 (Macintosh; Intel Mac OS X 10_15_7) AppleWebKit/537.36 (KHTML, like Gecko) Chrome/136.0.0.0 Safari/537.36', 'creationdate': '2025-05-25T09:21:53+00:00', 'title': 'Dexa Medica • Dexa Group', 'moddate': '2025-05-25T09:21:53+00:00', 'source': './docs/Tentang Dexa Medica.pdf', 'total_pages': 5, 'page': 2, 'page_label': '3'}, page_content='Bisnis Dexa berfokus pada dua aspek utama: manufaktur serta penelitian dan pengembangan.\\nProduksi kami lakukan di tiga pabrik utama:\\nPT DEXA MEDICA PALEMBANG\\nuntuk produksi padat dan sefalosporin\\nPT DEXA MEDICA CIKARANG\\nuntuk Produksi API – Penemuan, Penelitian, dan Pengembangan\\nPT BETA PHARMACON KARAWANG\\nuntuk produksi padat produk volume tinggi\\nDexa telah melakukan investasi berulang yang konsisten ke dalam bisnis intinya, terus')]"
      ]
     },
     "execution_count": 13,
     "metadata": {},
     "output_type": "execute_result"
    }
   ],
   "source": [
    "vector_store.similarity_search(\"siapa pendiri Dexa Medica\")"
   ]
  },
  {
   "cell_type": "markdown",
   "id": "4eb956f7",
   "metadata": {},
   "source": [
    "## Defining Nodes"
   ]
  },
  {
   "cell_type": "code",
   "execution_count": 29,
   "id": "67c24e65",
   "metadata": {},
   "outputs": [],
   "source": [
    "from langchain_core.tools import tool\n",
    "\n",
    "@tool(response_format=\"content_and_artifact\")\n",
    "def retrieve(query: str):\n",
    "    \"\"\"Retrieve information related to a query.\"\"\"\n",
    "    retrieved_docs = vector_store.similarity_search(query, k=5)\n",
    "    serialized = \"\\n\\n\".join(\n",
    "        (f\"Source: {doc.metadata}\\n\" f\"Content: {doc.page_content}\")\n",
    "        for doc in retrieved_docs\n",
    "    )\n",
    "    return serialized, retrieved_docs"
   ]
  },
  {
   "cell_type": "code",
   "execution_count": 30,
   "id": "a7439272",
   "metadata": {},
   "outputs": [],
   "source": [
    "from langgraph.graph import MessagesState, StateGraph\n",
    "from langchain_core.messages import SystemMessage\n",
    "from langgraph.prebuilt import ToolNode\n",
    "\n",
    "\n",
    "# Step 1: Generate an AIMessage that may include a tool-call to be sent.\n",
    "def query_or_respond(state: MessagesState):\n",
    "    \"\"\"Generate tool call for retrieval or respond.\"\"\"\n",
    "    llm_with_tools = llm.bind_tools([retrieve])\n",
    "    response = llm_with_tools.invoke(state[\"messages\"])\n",
    "    # MessagesState appends messages to state instead of overwriting\n",
    "    return {\"messages\": [response]}\n",
    "\n",
    "\n",
    "# Step 2: Execute the retrieval.\n",
    "tools = ToolNode([retrieve])\n",
    "\n",
    "\n",
    "# Step 3: Generate a response using the retrieved content.\n",
    "def generate(state: MessagesState):\n",
    "    \"\"\"Generate answer.\"\"\"\n",
    "    # Get generated ToolMessages\n",
    "    recent_tool_messages = []\n",
    "    for message in reversed(state[\"messages\"]):\n",
    "        if message.type == \"tool\":\n",
    "            recent_tool_messages.append(message)\n",
    "        else:\n",
    "            break\n",
    "    tool_messages = recent_tool_messages[::-1]\n",
    "\n",
    "    # Format into prompt\n",
    "    docs_content = \"\\n\\n\".join(doc.content for doc in tool_messages)\n",
    "    system_message_content = (\n",
    "        \"You are an assistant for question-answering tasks. \"\n",
    "        \"Use the following pieces of retrieved context to answer \"\n",
    "        \"the question. If you don't know the answer, say that you \"\n",
    "        \"don't know. Keep the answer concise.\"\n",
    "        \"\\n\\n\"\n",
    "        f\"{docs_content}\"\n",
    "    )\n",
    "    conversation_messages = [\n",
    "        message\n",
    "        for message in state[\"messages\"]\n",
    "        if message.type in (\"human\", \"system\")\n",
    "        or (message.type == \"ai\" and not message.tool_calls)\n",
    "    ]\n",
    "    prompt = [SystemMessage(system_message_content)] + conversation_messages\n",
    "\n",
    "    # Run\n",
    "    response = llm.invoke(prompt)\n",
    "    return {\"messages\": [response]}"
   ]
  },
  {
   "cell_type": "code",
   "execution_count": 31,
   "id": "c2bcbe68",
   "metadata": {},
   "outputs": [],
   "source": [
    "from langgraph.graph import END\n",
    "from langgraph.prebuilt import ToolNode, tools_condition\n",
    "\n",
    "graph_builder = StateGraph(MessagesState)\n",
    "graph_builder.add_node(query_or_respond)\n",
    "graph_builder.add_node(tools)\n",
    "graph_builder.add_node(generate)\n",
    "\n",
    "graph_builder.set_entry_point(\"query_or_respond\")\n",
    "graph_builder.add_conditional_edges(\n",
    "    \"query_or_respond\",\n",
    "    tools_condition,\n",
    "    {END: END, \"tools\": \"tools\"},\n",
    ")\n",
    "graph_builder.add_edge(\"tools\", \"generate\")\n",
    "graph_builder.add_edge(\"generate\", END)\n",
    "\n",
    "graph = graph_builder.compile()"
   ]
  },
  {
   "cell_type": "code",
   "execution_count": 32,
   "id": "b5779ea2",
   "metadata": {},
   "outputs": [
    {
     "data": {
      "image/png": "[encoded data removed]",
      "text/plain": [
       "<IPython.core.display.Image object>"
      ]
     },
     "metadata": {},
     "output_type": "display_data"
    }
   ],
   "source": [
    "from IPython.display import Image, display\n",
    "\n",
    "display(Image(graph.get_graph().draw_mermaid_png()))"
   ]
  },
  {
   "cell_type": "code",
   "execution_count": 18,
   "id": "8aef92c5",
   "metadata": {},
   "outputs": [
    {
     "name": "stdout",
     "output_type": "stream",
     "text": [
      "================================\u001b[1m Human Message \u001b[0m=================================\n",
      "\n",
      "Hello\n",
      "==================================\u001b[1m Ai Message \u001b[0m==================================\n",
      "\n",
      "Hello! How can I help you today?\n"
     ]
    }
   ],
   "source": [
    "input_message = \"Hello\"\n",
    "\n",
    "for step in graph.stream(\n",
    "    {\"messages\": [{\"role\": \"user\", \"content\": input_message}]},\n",
    "    stream_mode=\"values\",\n",
    "):\n",
    "    step[\"messages\"][-1].pretty_print()"
   ]
  },
  {
   "cell_type": "code",
   "execution_count": 19,
   "id": "fe56c817",
   "metadata": {},
   "outputs": [
    {
     "name": "stdout",
     "output_type": "stream",
     "text": [
      "================================\u001b[1m Human Message \u001b[0m=================================\n",
      "\n",
      "Siapa pendiri Dexa Medica?\n",
      "==================================\u001b[1m Ai Message \u001b[0m==================================\n",
      "Tool Calls:\n",
      "  retrieve (call_vZ637fnFag350fChYbFOl9lU)\n",
      " Call ID: call_vZ637fnFag350fChYbFOl9lU\n",
      "  Args:\n",
      "    query: Pendiri Dexa Medica\n",
      "=================================\u001b[1m Tool Message \u001b[0m=================================\n",
      "Name: retrieve\n",
      "\n",
      "Source: {'producer': 'Skia/PDF m136', 'creator': 'Mozilla/5.0 (Macintosh; Intel Mac OS X 10_15_7) AppleWebKit/537.36 (KHTML, like Gecko) Chrome/136.0.0.0 Safari/537.36', 'creationdate': '2025-05-25T09:21:53+00:00', 'title': 'Dexa Medica • Dexa Group', 'moddate': '2025-05-25T09:21:53+00:00', 'source': './docs/Tentang Dexa Medica.pdf', 'total_pages': 5, 'page': 3, 'page_label': '4'}\n",
      "Content: dari 31 fitofarmaka yang terdaftar adalah hasil produksi Dexa.\n",
      "OGB\n",
      "PT Dexa Medica adalah perusahaan swasta pertama di Indonesia yang memproduksi Obat\n",
      "Generik Berlogo/OGB (obat generik tidak bermerek), dan satu dari lima perusahaan farmasi yang\n",
      "telah menerima sertifikasi Cara Pembuatan Obat yang Baik (CPOB).\n",
      "OGBdexa telah meluncurkan lebih dari 50 obat baru dalam 5 tahun terakhir, dan memiliki\n",
      "portofolio lebih dari 187 obat. Untuk memenuhi permintaan pasar OGB, Dexa Medica\n",
      "\n",
      "Source: {'producer': 'Skia/PDF m136', 'creator': 'Mozilla/5.0 (Macintosh; Intel Mac OS X 10_15_7) AppleWebKit/537.36 (KHTML, like Gecko) Chrome/136.0.0.0 Safari/537.36', 'creationdate': '2025-05-25T09:21:53+00:00', 'title': 'Dexa Medica • Dexa Group', 'moddate': '2025-05-25T09:21:53+00:00', 'source': './docs/Tentang Dexa Medica.pdf', 'total_pages': 5, 'page': 3, 'page_label': '4'}\n",
      "Content: portofolio lebih dari 187 obat. Untuk memenuhi permintaan pasar OGB, Dexa Medica\n",
      "memproduksi lebih dari 1 miliar tablet, vial, dan ampul obat setiap tahun. OGBdexa tersedia di\n",
      "seluruh Indonesia, di lebih dari 21.000 apotek, rumah sakit, kantor kesehatan, dan klinik\n",
      "kesehatan masyarakat. Sebagai bagian dari Jaminan Kesehatan Nasional (JKN), OGBdexa\n",
      "memainkan peran penting dalam menyediakan obat-obatan bagi 262 juta penerima manfaat JKN.\n",
      "SUREL\n",
      "Informasi Umum:\n",
      "info@dexagroup.com\n",
      "HUBUNGI KAMI\n",
      "Nama\n",
      "\n",
      "Source: {'producer': 'Skia/PDF m136', 'creator': 'Mozilla/5.0 (Macintosh; Intel Mac OS X 10_15_7) AppleWebKit/537.36 (KHTML, like Gecko) Chrome/136.0.0.0 Safari/537.36', 'creationdate': '2025-05-25T09:21:53+00:00', 'title': 'Dexa Medica • Dexa Group', 'moddate': '2025-05-25T09:21:53+00:00', 'source': './docs/Tentang Dexa Medica.pdf', 'total_pages': 5, 'page': 2, 'page_label': '3'}\n",
      "Content: Bisnis Dexa berfokus pada dua aspek utama: manufaktur serta penelitian dan pengembangan.\n",
      "Produksi kami lakukan di tiga pabrik utama:\n",
      "PT DEXA MEDICA PALEMBANG\n",
      "untuk produksi padat dan sefalosporin\n",
      "PT DEXA MEDICA CIKARANG\n",
      "untuk Produksi API – Penemuan, Penelitian, dan Pengembangan\n",
      "PT BETA PHARMACON KARAWANG\n",
      "untuk produksi padat produk volume tinggi\n",
      "Dexa telah melakukan investasi berulang yang konsisten ke dalam bisnis intinya, terus\n",
      "\n",
      "Source: {'producer': 'Skia/PDF m136', 'creator': 'Mozilla/5.0 (Macintosh; Intel Mac OS X 10_15_7) AppleWebKit/537.36 (KHTML, like Gecko) Chrome/136.0.0.0 Safari/537.36', 'creationdate': '2025-05-25T09:21:53+00:00', 'title': 'Dexa Medica • Dexa Group', 'moddate': '2025-05-25T09:21:53+00:00', 'source': './docs/Tentang Dexa Medica.pdf', 'total_pages': 5, 'page': 0, 'page_label': '1'}\n",
      "Content: perawatan kesehatan bagi semua orang. Perusahaan dan tim manajemen Dexa Medica dipandu\n",
      "oleh empat prinsip inti yaitu kejujuran, kepercayaan, dedikasi, dan komitmen.\n",
      "Dexa Medica didirikan di Palembang (Sumatera Selatan, Indonesia) pada tahun 1969 oleh\n",
      "almarhum Letkol apt. Drs. Rudy Soetikno. Sebagai seorang apoteker muda yang rendah hati di\n",
      "Korps Kesehatan/Medis TNI Angkatan Darat, beliau tergerak melihat kelangkaan pasokan obat-\n",
      "\n",
      "Source: {'producer': 'Skia/PDF m136', 'creator': 'Mozilla/5.0 (Macintosh; Intel Mac OS X 10_15_7) AppleWebKit/537.36 (KHTML, like Gecko) Chrome/136.0.0.0 Safari/537.36', 'creationdate': '2025-05-25T09:21:53+00:00', 'title': 'Dexa Medica • Dexa Group', 'moddate': '2025-05-25T09:21:53+00:00', 'source': './docs/Tentang Dexa Medica.pdf', 'total_pages': 5, 'page': 3, 'page_label': '4'}\n",
      "Content: PT Dexa Medica memberikan kontribusi yang sangat besar dalam pengembangan Obat Modern\n",
      "Asli Indonesia (OMAI). OMAI adalah obat yang diambil dari kekayaan alam Indonesia dan\n",
      "dikembangkan dengan teknologi modern. OMAI terdiri dari Obat Herbal Terstandar (OHT) yang\n",
      "telah lulus uji praklinis, dan fitofarmaka yang telah lolos uji klinis. Saat ini, 37 dari 97 OHT dan 28\n",
      "dari 31 fitofarmaka yang terdaftar adalah hasil produksi Dexa.\n",
      "OGB\n",
      "==================================\u001b[1m Ai Message \u001b[0m==================================\n",
      "\n",
      "Pendiri Dexa Medica adalah almarhum Letkol apt. Drs. Rudy Soetikno.\n"
     ]
    }
   ],
   "source": [
    "config = {\"configurable\": {\"thread_id\": \"1\"}}\n",
    "\n",
    "input_message = \"Siapa pendiri Dexa Medica?\"\n",
    "\n",
    "for step in graph.stream(\n",
    "    {\"messages\": [{\"role\": \"user\", \"content\": input_message}]},\n",
    "    stream_mode=\"values\",\n",
    "    config=config,\n",
    "):\n",
    "    step[\"messages\"][-1].pretty_print()"
   ]
  },
  {
   "cell_type": "code",
   "execution_count": 20,
   "id": "f5848a57",
   "metadata": {},
   "outputs": [
    {
     "name": "stdout",
     "output_type": "stream",
     "text": [
      "================================\u001b[1m Human Message \u001b[0m=================================\n",
      "\n",
      "dimana Dexa Medica didirikan?\n",
      "==================================\u001b[1m Ai Message \u001b[0m==================================\n",
      "Tool Calls:\n",
      "  retrieve (call_Un1ojy4fFQXhxgUfRyc6InkJ)\n",
      " Call ID: call_Un1ojy4fFQXhxgUfRyc6InkJ\n",
      "  Args:\n",
      "    query: Dexa Medica didirikan\n",
      "=================================\u001b[1m Tool Message \u001b[0m=================================\n",
      "Name: retrieve\n",
      "\n",
      "Source: {'producer': 'Skia/PDF m136', 'creator': 'Mozilla/5.0 (Macintosh; Intel Mac OS X 10_15_7) AppleWebKit/537.36 (KHTML, like Gecko) Chrome/136.0.0.0 Safari/537.36', 'creationdate': '2025-05-25T09:21:53+00:00', 'title': 'Dexa Medica • Dexa Group', 'moddate': '2025-05-25T09:21:53+00:00', 'source': './docs/Tentang Dexa Medica.pdf', 'total_pages': 5, 'page': 3, 'page_label': '4'}\n",
      "Content: dari 31 fitofarmaka yang terdaftar adalah hasil produksi Dexa.\n",
      "OGB\n",
      "PT Dexa Medica adalah perusahaan swasta pertama di Indonesia yang memproduksi Obat\n",
      "Generik Berlogo/OGB (obat generik tidak bermerek), dan satu dari lima perusahaan farmasi yang\n",
      "telah menerima sertifikasi Cara Pembuatan Obat yang Baik (CPOB).\n",
      "OGBdexa telah meluncurkan lebih dari 50 obat baru dalam 5 tahun terakhir, dan memiliki\n",
      "portofolio lebih dari 187 obat. Untuk memenuhi permintaan pasar OGB, Dexa Medica\n",
      "\n",
      "Source: {'producer': 'Skia/PDF m136', 'creator': 'Mozilla/5.0 (Macintosh; Intel Mac OS X 10_15_7) AppleWebKit/537.36 (KHTML, like Gecko) Chrome/136.0.0.0 Safari/537.36', 'creationdate': '2025-05-25T09:21:53+00:00', 'title': 'Dexa Medica • Dexa Group', 'moddate': '2025-05-25T09:21:53+00:00', 'source': './docs/Tentang Dexa Medica.pdf', 'total_pages': 5, 'page': 0, 'page_label': '1'}\n",
      "Content: perawatan kesehatan bagi semua orang. Perusahaan dan tim manajemen Dexa Medica dipandu\n",
      "oleh empat prinsip inti yaitu kejujuran, kepercayaan, dedikasi, dan komitmen.\n",
      "Dexa Medica didirikan di Palembang (Sumatera Selatan, Indonesia) pada tahun 1969 oleh\n",
      "almarhum Letkol apt. Drs. Rudy Soetikno. Sebagai seorang apoteker muda yang rendah hati di\n",
      "Korps Kesehatan/Medis TNI Angkatan Darat, beliau tergerak melihat kelangkaan pasokan obat-\n",
      "\n",
      "Source: {'producer': 'Skia/PDF m136', 'creator': 'Mozilla/5.0 (Macintosh; Intel Mac OS X 10_15_7) AppleWebKit/537.36 (KHTML, like Gecko) Chrome/136.0.0.0 Safari/537.36', 'creationdate': '2025-05-25T09:21:53+00:00', 'title': 'Dexa Medica • Dexa Group', 'moddate': '2025-05-25T09:21:53+00:00', 'source': './docs/Tentang Dexa Medica.pdf', 'total_pages': 5, 'page': 3, 'page_label': '4'}\n",
      "Content: portofolio lebih dari 187 obat. Untuk memenuhi permintaan pasar OGB, Dexa Medica\n",
      "memproduksi lebih dari 1 miliar tablet, vial, dan ampul obat setiap tahun. OGBdexa tersedia di\n",
      "seluruh Indonesia, di lebih dari 21.000 apotek, rumah sakit, kantor kesehatan, dan klinik\n",
      "kesehatan masyarakat. Sebagai bagian dari Jaminan Kesehatan Nasional (JKN), OGBdexa\n",
      "memainkan peran penting dalam menyediakan obat-obatan bagi 262 juta penerima manfaat JKN.\n",
      "SUREL\n",
      "Informasi Umum:\n",
      "info@dexagroup.com\n",
      "HUBUNGI KAMI\n",
      "Nama\n",
      "\n",
      "Source: {'producer': 'Skia/PDF m136', 'creator': 'Mozilla/5.0 (Macintosh; Intel Mac OS X 10_15_7) AppleWebKit/537.36 (KHTML, like Gecko) Chrome/136.0.0.0 Safari/537.36', 'creationdate': '2025-05-25T09:21:53+00:00', 'title': 'Dexa Medica • Dexa Group', 'moddate': '2025-05-25T09:21:53+00:00', 'source': './docs/Tentang Dexa Medica.pdf', 'total_pages': 5, 'page': 3, 'page_label': '4'}\n",
      "Content: PT Dexa Medica memberikan kontribusi yang sangat besar dalam pengembangan Obat Modern\n",
      "Asli Indonesia (OMAI). OMAI adalah obat yang diambil dari kekayaan alam Indonesia dan\n",
      "dikembangkan dengan teknologi modern. OMAI terdiri dari Obat Herbal Terstandar (OHT) yang\n",
      "telah lulus uji praklinis, dan fitofarmaka yang telah lolos uji klinis. Saat ini, 37 dari 97 OHT dan 28\n",
      "dari 31 fitofarmaka yang terdaftar adalah hasil produksi Dexa.\n",
      "OGB\n",
      "\n",
      "Source: {'producer': 'Skia/PDF m136', 'creator': 'Mozilla/5.0 (Macintosh; Intel Mac OS X 10_15_7) AppleWebKit/537.36 (KHTML, like Gecko) Chrome/136.0.0.0 Safari/537.36', 'creationdate': '2025-05-25T09:21:53+00:00', 'title': 'Dexa Medica • Dexa Group', 'moddate': '2025-05-25T09:21:53+00:00', 'source': './docs/Tentang Dexa Medica.pdf', 'total_pages': 5, 'page': 2, 'page_label': '3'}\n",
      "Content: Bisnis Dexa berfokus pada dua aspek utama: manufaktur serta penelitian dan pengembangan.\n",
      "Produksi kami lakukan di tiga pabrik utama:\n",
      "PT DEXA MEDICA PALEMBANG\n",
      "untuk produksi padat dan sefalosporin\n",
      "PT DEXA MEDICA CIKARANG\n",
      "untuk Produksi API – Penemuan, Penelitian, dan Pengembangan\n",
      "PT BETA PHARMACON KARAWANG\n",
      "untuk produksi padat produk volume tinggi\n",
      "Dexa telah melakukan investasi berulang yang konsisten ke dalam bisnis intinya, terus\n",
      "==================================\u001b[1m Ai Message \u001b[0m==================================\n",
      "\n",
      "Dexa Medica didirikan di Palembang, Sumatera Selatan, Indonesia.\n"
     ]
    }
   ],
   "source": [
    "input_message = \"dimana Dexa Medica didirikan?\"\n",
    "\n",
    "for step in graph.stream(\n",
    "    {\"messages\": [{\"role\": \"user\", \"content\": input_message}]},\n",
    "    stream_mode=\"values\",\n",
    "    config=config,\n",
    "):\n",
    "    step[\"messages\"][-1].pretty_print()"
   ]
  },
  {
   "cell_type": "code",
   "execution_count": 21,
   "id": "0876a814",
   "metadata": {},
   "outputs": [
    {
     "name": "stdout",
     "output_type": "stream",
     "text": [
      "================================\u001b[1m Human Message \u001b[0m=================================\n",
      "\n",
      "Sebutkan 4 kompetensi inti yang dimiliki Dexa Medica.\n",
      "==================================\u001b[1m Ai Message \u001b[0m==================================\n",
      "Tool Calls:\n",
      "  retrieve (call_glkaQCtk9Wu6VcqzYRZYwozX)\n",
      " Call ID: call_glkaQCtk9Wu6VcqzYRZYwozX\n",
      "  Args:\n",
      "    query: 4 kompetensi inti Dexa Medica\n",
      "=================================\u001b[1m Tool Message \u001b[0m=================================\n",
      "Name: retrieve\n",
      "\n",
      "Source: {'producer': 'Skia/PDF m136', 'creator': 'Mozilla/5.0 (Macintosh; Intel Mac OS X 10_15_7) AppleWebKit/537.36 (KHTML, like Gecko) Chrome/136.0.0.0 Safari/537.36', 'creationdate': '2025-05-25T09:21:53+00:00', 'title': 'Dexa Medica • Dexa Group', 'moddate': '2025-05-25T09:21:53+00:00', 'source': './docs/Tentang Dexa Medica.pdf', 'total_pages': 5, 'page': 3, 'page_label': '4'}\n",
      "Content: dari 31 fitofarmaka yang terdaftar adalah hasil produksi Dexa.\n",
      "OGB\n",
      "PT Dexa Medica adalah perusahaan swasta pertama di Indonesia yang memproduksi Obat\n",
      "Generik Berlogo/OGB (obat generik tidak bermerek), dan satu dari lima perusahaan farmasi yang\n",
      "telah menerima sertifikasi Cara Pembuatan Obat yang Baik (CPOB).\n",
      "OGBdexa telah meluncurkan lebih dari 50 obat baru dalam 5 tahun terakhir, dan memiliki\n",
      "portofolio lebih dari 187 obat. Untuk memenuhi permintaan pasar OGB, Dexa Medica\n",
      "\n",
      "Source: {'producer': 'Skia/PDF m136', 'creator': 'Mozilla/5.0 (Macintosh; Intel Mac OS X 10_15_7) AppleWebKit/537.36 (KHTML, like Gecko) Chrome/136.0.0.0 Safari/537.36', 'creationdate': '2025-05-25T09:21:53+00:00', 'title': 'Dexa Medica • Dexa Group', 'moddate': '2025-05-25T09:21:53+00:00', 'source': './docs/Tentang Dexa Medica.pdf', 'total_pages': 5, 'page': 0, 'page_label': '1'}\n",
      "Content: perawatan kesehatan bagi semua orang. Perusahaan dan tim manajemen Dexa Medica dipandu\n",
      "oleh empat prinsip inti yaitu kejujuran, kepercayaan, dedikasi, dan komitmen.\n",
      "Dexa Medica didirikan di Palembang (Sumatera Selatan, Indonesia) pada tahun 1969 oleh\n",
      "almarhum Letkol apt. Drs. Rudy Soetikno. Sebagai seorang apoteker muda yang rendah hati di\n",
      "Korps Kesehatan/Medis TNI Angkatan Darat, beliau tergerak melihat kelangkaan pasokan obat-\n",
      "\n",
      "Source: {'producer': 'Skia/PDF m136', 'creator': 'Mozilla/5.0 (Macintosh; Intel Mac OS X 10_15_7) AppleWebKit/537.36 (KHTML, like Gecko) Chrome/136.0.0.0 Safari/537.36', 'creationdate': '2025-05-25T09:21:53+00:00', 'title': 'Dexa Medica • Dexa Group', 'moddate': '2025-05-25T09:21:53+00:00', 'source': './docs/Tentang Dexa Medica.pdf', 'total_pages': 5, 'page': 2, 'page_label': '3'}\n",
      "Content: Bisnis Dexa berfokus pada dua aspek utama: manufaktur serta penelitian dan pengembangan.\n",
      "Produksi kami lakukan di tiga pabrik utama:\n",
      "PT DEXA MEDICA PALEMBANG\n",
      "untuk produksi padat dan sefalosporin\n",
      "PT DEXA MEDICA CIKARANG\n",
      "untuk Produksi API – Penemuan, Penelitian, dan Pengembangan\n",
      "PT BETA PHARMACON KARAWANG\n",
      "untuk produksi padat produk volume tinggi\n",
      "Dexa telah melakukan investasi berulang yang konsisten ke dalam bisnis intinya, terus\n",
      "\n",
      "Source: {'producer': 'Skia/PDF m136', 'creator': 'Mozilla/5.0 (Macintosh; Intel Mac OS X 10_15_7) AppleWebKit/537.36 (KHTML, like Gecko) Chrome/136.0.0.0 Safari/537.36', 'creationdate': '2025-05-25T09:21:53+00:00', 'title': 'Dexa Medica • Dexa Group', 'moddate': '2025-05-25T09:21:53+00:00', 'source': './docs/Tentang Dexa Medica.pdf', 'total_pages': 5, 'page': 3, 'page_label': '4'}\n",
      "Content: portofolio lebih dari 187 obat. Untuk memenuhi permintaan pasar OGB, Dexa Medica\n",
      "memproduksi lebih dari 1 miliar tablet, vial, dan ampul obat setiap tahun. OGBdexa tersedia di\n",
      "seluruh Indonesia, di lebih dari 21.000 apotek, rumah sakit, kantor kesehatan, dan klinik\n",
      "kesehatan masyarakat. Sebagai bagian dari Jaminan Kesehatan Nasional (JKN), OGBdexa\n",
      "memainkan peran penting dalam menyediakan obat-obatan bagi 262 juta penerima manfaat JKN.\n",
      "SUREL\n",
      "Informasi Umum:\n",
      "info@dexagroup.com\n",
      "HUBUNGI KAMI\n",
      "Nama\n",
      "\n",
      "Source: {'producer': 'Skia/PDF m136', 'creator': 'Mozilla/5.0 (Macintosh; Intel Mac OS X 10_15_7) AppleWebKit/537.36 (KHTML, like Gecko) Chrome/136.0.0.0 Safari/537.36', 'creationdate': '2025-05-25T09:21:53+00:00', 'title': 'Dexa Medica • Dexa Group', 'moddate': '2025-05-25T09:21:53+00:00', 'source': './docs/Tentang Dexa Medica.pdf', 'total_pages': 5, 'page': 0, 'page_label': '1'}\n",
      "Content: Gambaran Umum\n",
      "Dexa Medica, salah satu perusahaan farmasi terbesar di Indonesia, telah secara konsisten\n",
      "menggunakan kemampuan penelitiannya yang canggih untuk memprioritaskan kebutuhan\n",
      "kesehatan masyarakat Indonesia. Mottonya — pemanfaatan keahlian untuk mempromosikan\n",
      "kesehatan — adalah konsekuensi alami dari komitmen jangka panjangnya meningkatkan\n",
      "perawatan kesehatan bagi semua orang. Perusahaan dan tim manajemen Dexa Medica dipandu\n",
      "==================================\u001b[1m Ai Message \u001b[0m==================================\n",
      "\n",
      "Empat kompetensi inti yang dimiliki Dexa Medica adalah penelitian dan pengembangan, manufaktur, kemampuan riset yang canggih, serta distribusi produk ke seluruh Indonesia.\n"
     ]
    }
   ],
   "source": [
    "input_message = \"Sebutkan 4 kompetensi inti yang dimiliki Dexa Medica.\"\n",
    "\n",
    "for step in graph.stream(\n",
    "    {\"messages\": [{\"role\": \"user\", \"content\": input_message}]},\n",
    "    stream_mode=\"values\",\n",
    "    config=config,\n",
    "):\n",
    "    step[\"messages\"][-1].pretty_print()"
   ]
  },
  {
   "cell_type": "code",
   "execution_count": 22,
   "id": "e1b8ba4e",
   "metadata": {},
   "outputs": [
    {
     "name": "stdout",
     "output_type": "stream",
     "text": [
      "================================\u001b[1m Human Message \u001b[0m=================================\n",
      "\n",
      "Apa saja kontribusi yang sudah dilakukan oleh Dexa Medica?\n",
      "==================================\u001b[1m Ai Message \u001b[0m==================================\n",
      "Tool Calls:\n",
      "  retrieve (call_RQgMa2C2dNomUxcgH3ALWIdv)\n",
      " Call ID: call_RQgMa2C2dNomUxcgH3ALWIdv\n",
      "  Args:\n",
      "    query: kontribusi Dexa Medica\n",
      "=================================\u001b[1m Tool Message \u001b[0m=================================\n",
      "Name: retrieve\n",
      "\n",
      "Source: {'producer': 'Skia/PDF m136', 'creator': 'Mozilla/5.0 (Macintosh; Intel Mac OS X 10_15_7) AppleWebKit/537.36 (KHTML, like Gecko) Chrome/136.0.0.0 Safari/537.36', 'creationdate': '2025-05-25T09:21:53+00:00', 'title': 'Dexa Medica • Dexa Group', 'moddate': '2025-05-25T09:21:53+00:00', 'source': './docs/Tentang Dexa Medica.pdf', 'total_pages': 5, 'page': 3, 'page_label': '4'}\n",
      "Content: dari 31 fitofarmaka yang terdaftar adalah hasil produksi Dexa.\n",
      "OGB\n",
      "PT Dexa Medica adalah perusahaan swasta pertama di Indonesia yang memproduksi Obat\n",
      "Generik Berlogo/OGB (obat generik tidak bermerek), dan satu dari lima perusahaan farmasi yang\n",
      "telah menerima sertifikasi Cara Pembuatan Obat yang Baik (CPOB).\n",
      "OGBdexa telah meluncurkan lebih dari 50 obat baru dalam 5 tahun terakhir, dan memiliki\n",
      "portofolio lebih dari 187 obat. Untuk memenuhi permintaan pasar OGB, Dexa Medica\n",
      "\n",
      "Source: {'producer': 'Skia/PDF m136', 'creator': 'Mozilla/5.0 (Macintosh; Intel Mac OS X 10_15_7) AppleWebKit/537.36 (KHTML, like Gecko) Chrome/136.0.0.0 Safari/537.36', 'creationdate': '2025-05-25T09:21:53+00:00', 'title': 'Dexa Medica • Dexa Group', 'moddate': '2025-05-25T09:21:53+00:00', 'source': './docs/Tentang Dexa Medica.pdf', 'total_pages': 5, 'page': 3, 'page_label': '4'}\n",
      "Content: PT Dexa Medica memberikan kontribusi yang sangat besar dalam pengembangan Obat Modern\n",
      "Asli Indonesia (OMAI). OMAI adalah obat yang diambil dari kekayaan alam Indonesia dan\n",
      "dikembangkan dengan teknologi modern. OMAI terdiri dari Obat Herbal Terstandar (OHT) yang\n",
      "telah lulus uji praklinis, dan fitofarmaka yang telah lolos uji klinis. Saat ini, 37 dari 97 OHT dan 28\n",
      "dari 31 fitofarmaka yang terdaftar adalah hasil produksi Dexa.\n",
      "OGB\n",
      "\n",
      "Source: {'producer': 'Skia/PDF m136', 'creator': 'Mozilla/5.0 (Macintosh; Intel Mac OS X 10_15_7) AppleWebKit/537.36 (KHTML, like Gecko) Chrome/136.0.0.0 Safari/537.36', 'creationdate': '2025-05-25T09:21:53+00:00', 'title': 'Dexa Medica • Dexa Group', 'moddate': '2025-05-25T09:21:53+00:00', 'source': './docs/Tentang Dexa Medica.pdf', 'total_pages': 5, 'page': 2, 'page_label': '3'}\n",
      "Content: Bisnis Dexa berfokus pada dua aspek utama: manufaktur serta penelitian dan pengembangan.\n",
      "Produksi kami lakukan di tiga pabrik utama:\n",
      "PT DEXA MEDICA PALEMBANG\n",
      "untuk produksi padat dan sefalosporin\n",
      "PT DEXA MEDICA CIKARANG\n",
      "untuk Produksi API – Penemuan, Penelitian, dan Pengembangan\n",
      "PT BETA PHARMACON KARAWANG\n",
      "untuk produksi padat produk volume tinggi\n",
      "Dexa telah melakukan investasi berulang yang konsisten ke dalam bisnis intinya, terus\n",
      "\n",
      "Source: {'producer': 'Skia/PDF m136', 'creator': 'Mozilla/5.0 (Macintosh; Intel Mac OS X 10_15_7) AppleWebKit/537.36 (KHTML, like Gecko) Chrome/136.0.0.0 Safari/537.36', 'creationdate': '2025-05-25T09:21:53+00:00', 'title': 'Dexa Medica • Dexa Group', 'moddate': '2025-05-25T09:21:53+00:00', 'source': './docs/Tentang Dexa Medica.pdf', 'total_pages': 5, 'page': 0, 'page_label': '1'}\n",
      "Content: perawatan kesehatan bagi semua orang. Perusahaan dan tim manajemen Dexa Medica dipandu\n",
      "oleh empat prinsip inti yaitu kejujuran, kepercayaan, dedikasi, dan komitmen.\n",
      "Dexa Medica didirikan di Palembang (Sumatera Selatan, Indonesia) pada tahun 1969 oleh\n",
      "almarhum Letkol apt. Drs. Rudy Soetikno. Sebagai seorang apoteker muda yang rendah hati di\n",
      "Korps Kesehatan/Medis TNI Angkatan Darat, beliau tergerak melihat kelangkaan pasokan obat-\n",
      "\n",
      "Source: {'producer': 'Skia/PDF m136', 'creator': 'Mozilla/5.0 (Macintosh; Intel Mac OS X 10_15_7) AppleWebKit/537.36 (KHTML, like Gecko) Chrome/136.0.0.0 Safari/537.36', 'creationdate': '2025-05-25T09:21:53+00:00', 'title': 'Dexa Medica • Dexa Group', 'moddate': '2025-05-25T09:21:53+00:00', 'source': './docs/Tentang Dexa Medica.pdf', 'total_pages': 5, 'page': 3, 'page_label': '4'}\n",
      "Content: portofolio lebih dari 187 obat. Untuk memenuhi permintaan pasar OGB, Dexa Medica\n",
      "memproduksi lebih dari 1 miliar tablet, vial, dan ampul obat setiap tahun. OGBdexa tersedia di\n",
      "seluruh Indonesia, di lebih dari 21.000 apotek, rumah sakit, kantor kesehatan, dan klinik\n",
      "kesehatan masyarakat. Sebagai bagian dari Jaminan Kesehatan Nasional (JKN), OGBdexa\n",
      "memainkan peran penting dalam menyediakan obat-obatan bagi 262 juta penerima manfaat JKN.\n",
      "SUREL\n",
      "Informasi Umum:\n",
      "info@dexagroup.com\n",
      "HUBUNGI KAMI\n",
      "Nama\n",
      "==================================\u001b[1m Ai Message \u001b[0m==================================\n",
      "\n",
      "Dexa Medica telah memberikan kontribusi besar dalam pengembangan Obat Modern Asli Indonesia (OMAI), termasuk menghasilkan obat herbal terstandar dan fitofarmaka yang telah lolos uji klinis. Mereka juga berperan dalam produksi obat generik berlogo (OGB) yang tersedia di seluruh Indonesia dan mendukung program Jaminan Kesehatan Nasional (JKN).\n"
     ]
    }
   ],
   "source": [
    "input_message = \"Apa saja kontribusi yang sudah dilakukan oleh Dexa Medica?\"\n",
    "\n",
    "for step in graph.stream(\n",
    "    {\"messages\": [{\"role\": \"user\", \"content\": input_message}]},\n",
    "    stream_mode=\"values\",\n",
    "    config=config,\n",
    "):\n",
    "    step[\"messages\"][-1].pretty_print()"
   ]
  },
  {
   "cell_type": "code",
   "execution_count": 23,
   "id": "1bec0148",
   "metadata": {},
   "outputs": [
    {
     "name": "stdout",
     "output_type": "stream",
     "text": [
      "================================\u001b[1m Human Message \u001b[0m=================================\n",
      "\n",
      "Carikan informasi tentang Dexa Medica. Meliputi Motto, lokasi, dan pendiri.\n",
      "==================================\u001b[1m Ai Message \u001b[0m==================================\n",
      "Tool Calls:\n",
      "  retrieve (call_S34jw7aqbNTvKPK23eP8ZEX2)\n",
      " Call ID: call_S34jw7aqbNTvKPK23eP8ZEX2\n",
      "  Args:\n",
      "    query: Dexa Medica\n",
      "  retrieve (call_VZa7AFoPM5GlEAuA4Dg5dbIs)\n",
      " Call ID: call_VZa7AFoPM5GlEAuA4Dg5dbIs\n",
      "  Args:\n",
      "    query: Motto Dexa Medica\n",
      "  retrieve (call_KQ433cRkKUEjTNxTyLpbHJY1)\n",
      " Call ID: call_KQ433cRkKUEjTNxTyLpbHJY1\n",
      "  Args:\n",
      "    query: Lokasi Dexa Medica\n",
      "  retrieve (call_ozMFeX1OU5vrvddeCWbZDXOJ)\n",
      " Call ID: call_ozMFeX1OU5vrvddeCWbZDXOJ\n",
      "  Args:\n",
      "    query: Pendiri Dexa Medica\n",
      "=================================\u001b[1m Tool Message \u001b[0m=================================\n",
      "Name: retrieve\n",
      "\n",
      "Source: {'producer': 'Skia/PDF m136', 'creator': 'Mozilla/5.0 (Macintosh; Intel Mac OS X 10_15_7) AppleWebKit/537.36 (KHTML, like Gecko) Chrome/136.0.0.0 Safari/537.36', 'creationdate': '2025-05-25T09:21:53+00:00', 'title': 'Dexa Medica • Dexa Group', 'moddate': '2025-05-25T09:21:53+00:00', 'source': './docs/Tentang Dexa Medica.pdf', 'total_pages': 5, 'page': 3, 'page_label': '4'}\n",
      "Content: dari 31 fitofarmaka yang terdaftar adalah hasil produksi Dexa.\n",
      "OGB\n",
      "PT Dexa Medica adalah perusahaan swasta pertama di Indonesia yang memproduksi Obat\n",
      "Generik Berlogo/OGB (obat generik tidak bermerek), dan satu dari lima perusahaan farmasi yang\n",
      "telah menerima sertifikasi Cara Pembuatan Obat yang Baik (CPOB).\n",
      "OGBdexa telah meluncurkan lebih dari 50 obat baru dalam 5 tahun terakhir, dan memiliki\n",
      "portofolio lebih dari 187 obat. Untuk memenuhi permintaan pasar OGB, Dexa Medica\n",
      "\n",
      "Source: {'producer': 'Skia/PDF m136', 'creator': 'Mozilla/5.0 (Macintosh; Intel Mac OS X 10_15_7) AppleWebKit/537.36 (KHTML, like Gecko) Chrome/136.0.0.0 Safari/537.36', 'creationdate': '2025-05-25T09:21:53+00:00', 'title': 'Dexa Medica • Dexa Group', 'moddate': '2025-05-25T09:21:53+00:00', 'source': './docs/Tentang Dexa Medica.pdf', 'total_pages': 5, 'page': 3, 'page_label': '4'}\n",
      "Content: portofolio lebih dari 187 obat. Untuk memenuhi permintaan pasar OGB, Dexa Medica\n",
      "memproduksi lebih dari 1 miliar tablet, vial, dan ampul obat setiap tahun. OGBdexa tersedia di\n",
      "seluruh Indonesia, di lebih dari 21.000 apotek, rumah sakit, kantor kesehatan, dan klinik\n",
      "kesehatan masyarakat. Sebagai bagian dari Jaminan Kesehatan Nasional (JKN), OGBdexa\n",
      "memainkan peran penting dalam menyediakan obat-obatan bagi 262 juta penerima manfaat JKN.\n",
      "SUREL\n",
      "Informasi Umum:\n",
      "info@dexagroup.com\n",
      "HUBUNGI KAMI\n",
      "Nama\n",
      "\n",
      "Source: {'producer': 'Skia/PDF m136', 'creator': 'Mozilla/5.0 (Macintosh; Intel Mac OS X 10_15_7) AppleWebKit/537.36 (KHTML, like Gecko) Chrome/136.0.0.0 Safari/537.36', 'creationdate': '2025-05-25T09:21:53+00:00', 'title': 'Dexa Medica • Dexa Group', 'moddate': '2025-05-25T09:21:53+00:00', 'source': './docs/Tentang Dexa Medica.pdf', 'total_pages': 5, 'page': 2, 'page_label': '3'}\n",
      "Content: Bisnis Dexa berfokus pada dua aspek utama: manufaktur serta penelitian dan pengembangan.\n",
      "Produksi kami lakukan di tiga pabrik utama:\n",
      "PT DEXA MEDICA PALEMBANG\n",
      "untuk produksi padat dan sefalosporin\n",
      "PT DEXA MEDICA CIKARANG\n",
      "untuk Produksi API – Penemuan, Penelitian, dan Pengembangan\n",
      "PT BETA PHARMACON KARAWANG\n",
      "untuk produksi padat produk volume tinggi\n",
      "Dexa telah melakukan investasi berulang yang konsisten ke dalam bisnis intinya, terus\n",
      "\n",
      "Source: {'producer': 'Skia/PDF m136', 'creator': 'Mozilla/5.0 (Macintosh; Intel Mac OS X 10_15_7) AppleWebKit/537.36 (KHTML, like Gecko) Chrome/136.0.0.0 Safari/537.36', 'creationdate': '2025-05-25T09:21:53+00:00', 'title': 'Dexa Medica • Dexa Group', 'moddate': '2025-05-25T09:21:53+00:00', 'source': './docs/Tentang Dexa Medica.pdf', 'total_pages': 5, 'page': 0, 'page_label': '1'}\n",
      "Content: perawatan kesehatan bagi semua orang. Perusahaan dan tim manajemen Dexa Medica dipandu\n",
      "oleh empat prinsip inti yaitu kejujuran, kepercayaan, dedikasi, dan komitmen.\n",
      "Dexa Medica didirikan di Palembang (Sumatera Selatan, Indonesia) pada tahun 1969 oleh\n",
      "almarhum Letkol apt. Drs. Rudy Soetikno. Sebagai seorang apoteker muda yang rendah hati di\n",
      "Korps Kesehatan/Medis TNI Angkatan Darat, beliau tergerak melihat kelangkaan pasokan obat-\n",
      "\n",
      "Source: {'producer': 'Skia/PDF m136', 'creator': 'Mozilla/5.0 (Macintosh; Intel Mac OS X 10_15_7) AppleWebKit/537.36 (KHTML, like Gecko) Chrome/136.0.0.0 Safari/537.36', 'creationdate': '2025-05-25T09:21:53+00:00', 'title': 'Dexa Medica • Dexa Group', 'moddate': '2025-05-25T09:21:53+00:00', 'source': './docs/Tentang Dexa Medica.pdf', 'total_pages': 5, 'page': 3, 'page_label': '4'}\n",
      "Content: PT Dexa Medica memberikan kontribusi yang sangat besar dalam pengembangan Obat Modern\n",
      "Asli Indonesia (OMAI). OMAI adalah obat yang diambil dari kekayaan alam Indonesia dan\n",
      "dikembangkan dengan teknologi modern. OMAI terdiri dari Obat Herbal Terstandar (OHT) yang\n",
      "telah lulus uji praklinis, dan fitofarmaka yang telah lolos uji klinis. Saat ini, 37 dari 97 OHT dan 28\n",
      "dari 31 fitofarmaka yang terdaftar adalah hasil produksi Dexa.\n",
      "OGB\n",
      "==================================\u001b[1m Ai Message \u001b[0m==================================\n",
      "\n",
      "Dexa Medica memiliki motto \"Strive for Excellence.\" Perusahaan ini didirikan di Palembang, Sumatera Selatan, Indonesia, pada tahun 1969 oleh almarhum Letkol apt. Drs. Rudy Soetikno.\n"
     ]
    }
   ],
   "source": [
    "input_message = \"Carikan informasi tentang Dexa Medica. Meliputi Motto, lokasi, dan pendiri.\"\n",
    "\n",
    "for step in graph.stream(\n",
    "    {\"messages\": [{\"role\": \"user\", \"content\": input_message}]},\n",
    "    stream_mode=\"values\",\n",
    "    config=config,\n",
    "):\n",
    "    step[\"messages\"][-1].pretty_print()"
   ]
  },
  {
   "cell_type": "code",
   "execution_count": 33,
   "id": "89533a2b",
   "metadata": {},
   "outputs": [
    {
     "name": "stdout",
     "output_type": "stream",
     "text": [
      "================================\u001b[1m Human Message \u001b[0m=================================\n",
      "\n",
      "sebutkan visi dan misi Dexa Medica\n",
      "==================================\u001b[1m Ai Message \u001b[0m==================================\n",
      "Tool Calls:\n",
      "  retrieve (call_B3qR2t405a8BYNrWd7ZvcbWC)\n",
      " Call ID: call_B3qR2t405a8BYNrWd7ZvcbWC\n",
      "  Args:\n",
      "    query: visi dan misi Dexa Medica\n",
      "=================================\u001b[1m Tool Message \u001b[0m=================================\n",
      "Name: retrieve\n",
      "\n",
      "Source: {'producer': 'Skia/PDF m136', 'creator': 'Mozilla/5.0 (Macintosh; Intel Mac OS X 10_15_7) AppleWebKit/537.36 (KHTML, like Gecko) Chrome/136.0.0.0 Safari/537.36', 'creationdate': '2025-05-25T09:21:53+00:00', 'title': 'Dexa Medica • Dexa Group', 'moddate': '2025-05-25T09:21:53+00:00', 'source': './docs/Tentang Dexa Medica.pdf', 'total_pages': 5, 'page': 0, 'page_label': '1'}\n",
      "Content: Sejak saat itu, Dexa Medica semakin kuat, berkembang menjadi salah satu perusahaan farmasi\n",
      "etis terbesar di Indonesia. Lingkungan perusahaan yang dibina dengan cermat oleh Drs. Soetikno\n",
      "dan tim manajemen yang tak kenal lelah, adalah lingkungan yang saling menghormati,\n",
      "menjunjung tinggi kerja tim, dan inovatif.\n",
      "Visi & Misi\n",
      "VISI\n",
      "Menjadi perusahaan terkemuka yang berdedikasi untuk memberikan nilai tambah yang signifikan\n",
      "\n",
      "Source: {'producer': 'Skia/PDF m136', 'creator': 'Mozilla/5.0 (Macintosh; Intel Mac OS X 10_15_7) AppleWebKit/537.36 (KHTML, like Gecko) Chrome/136.0.0.0 Safari/537.36', 'creationdate': '2025-05-25T09:21:53+00:00', 'title': 'Dexa Medica • Dexa Group', 'moddate': '2025-05-25T09:21:53+00:00', 'source': './docs/Tentang Dexa Medica.pdf', 'total_pages': 5, 'page': 1, 'page_label': '2'}\n",
      "Content: Inovasi dan peningkatan berkelanjutan\n",
      "Meningkatkan pasar\n",
      "Kepemimpinan biaya\n",
      "Membangun aliansi strategis\n",
      "Nilai Dasar\n",
      "Nama Dexa terinspirasi dari bahasa Yunani δέκα , berarti 10—sebuah simbol universal dari\n",
      "kesempurnaan. Nama mencerminkan filosofi perusahaan, yang bercita-cita, bahkan hari ini,\n",
      "untuk melanjutkan tradisi panjang perfeksionisme. Selama lebih dari lima dekade, Dexa Medica\n",
      "telah memegang tiga nilai dasar:\n",
      " \n",
      " \n",
      "STRIVE FOR EXCELLENCE\n",
      "\n",
      "Source: {'producer': 'Skia/PDF m136', 'creator': 'Mozilla/5.0 (Macintosh; Intel Mac OS X 10_15_7) AppleWebKit/537.36 (KHTML, like Gecko) Chrome/136.0.0.0 Safari/537.36', 'creationdate': '2025-05-25T09:21:53+00:00', 'title': 'Dexa Medica • Dexa Group', 'moddate': '2025-05-25T09:21:53+00:00', 'source': './docs/Tentang Dexa Medica.pdf', 'total_pages': 5, 'page': 0, 'page_label': '1'}\n",
      "Content: Gambaran Umum\n",
      "Dexa Medica, salah satu perusahaan farmasi terbesar di Indonesia, telah secara konsisten\n",
      "menggunakan kemampuan penelitiannya yang canggih untuk memprioritaskan kebutuhan\n",
      "kesehatan masyarakat Indonesia. Mottonya — pemanfaatan keahlian untuk mempromosikan\n",
      "kesehatan — adalah konsekuensi alami dari komitmen jangka panjangnya meningkatkan\n",
      "perawatan kesehatan bagi semua orang. Perusahaan dan tim manajemen Dexa Medica dipandu\n",
      "\n",
      "Source: {'producer': 'Skia/PDF m136', 'creator': 'Mozilla/5.0 (Macintosh; Intel Mac OS X 10_15_7) AppleWebKit/537.36 (KHTML, like Gecko) Chrome/136.0.0.0 Safari/537.36', 'creationdate': '2025-05-25T09:21:53+00:00', 'title': 'Dexa Medica • Dexa Group', 'moddate': '2025-05-25T09:21:53+00:00', 'source': './docs/Tentang Dexa Medica.pdf', 'total_pages': 5, 'page': 1, 'page_label': '2'}\n",
      "Content: telah memegang tiga nilai dasar:\n",
      " \n",
      " \n",
      "STRIVE FOR EXCELLENCE\n",
      "Komitmen untuk memberikan hasil terbaik kepada pelanggan.\n",
      "ACT PROFESSIONALLY\n",
      "Bertindak professional yang menekankan pada kejujuran dan integritas.\n",
      "DEAL WITH CARE\n",
      "Kepedulian untuk selalu memahami dan menghormati satu sama lain.\n",
      "Kompetensi Inti\n",
      "Dexa Medica memfokuskan kegiatan pada empat kompetensi inti:\n",
      "PENGELOLAAN SUMBER DAYA\n",
      "Mengerahkan sumber daya untuk menghasilkan produk terbaik dengan cara yang paling efisien.\n",
      "2\n",
      "\n",
      "Source: {'producer': 'Skia/PDF m136', 'creator': 'Mozilla/5.0 (Macintosh; Intel Mac OS X 10_15_7) AppleWebKit/537.36 (KHTML, like Gecko) Chrome/136.0.0.0 Safari/537.36', 'creationdate': '2025-05-25T09:21:53+00:00', 'title': 'Dexa Medica • Dexa Group', 'moddate': '2025-05-25T09:21:53+00:00', 'source': './docs/Tentang Dexa Medica.pdf', 'total_pages': 5, 'page': 0, 'page_label': '1'}\n",
      "Content: VISI\n",
      "Menjadi perusahaan terkemuka yang berdedikasi untuk memberikan nilai tambah yang signifikan\n",
      "bagi kepentingan pelanggan, mitra bisnis, dan pemangku kepentingan kami melalui operasi yang\n",
      "efektif, efisien, dan berkelanjutan untuk mencapai “kesehatan bagi semua orang” di seluruh\n",
      "penjuru negeri, juga secara regional dan global.\n",
      "MISI\n",
      "Membangun kapasitas dan kompetensi farmasi dalam meningkatkan kualitas sistem perawatan\n",
      "kesehatan melalui:\n",
      "aa\n",
      "2\n",
      "==================================\u001b[1m Ai Message \u001b[0m==================================\n",
      "\n",
      "Visi Dexa Medica adalah menjadi perusahaan terkemuka yang berdedikasi untuk memberikan nilai tambah yang signifikan bagi pelanggan, mitra bisnis, dan pemangku kepentingan melalui operasi yang efektif, efisien, dan berkelanjutan, dengan tujuan mencapai \"kesehatan bagi semua orang\". Misi-nya adalah membangun kapasitas dan kompetensi farmasi dalam meningkatkan kualitas sistem perawatan kesehatan.\n"
     ]
    }
   ],
   "source": [
    "from langgraph.checkpoint.memory import MemorySaver\n",
    "\n",
    "memory = MemorySaver()\n",
    "graph = graph_builder.compile(checkpointer=memory)\n",
    "\n",
    "# Specify an ID for the thread\n",
    "config = {\"configurable\": {\"thread_id\": \"2\"}}\n",
    "\n",
    "input_message = \"sebutkan visi dan misi Dexa Medica\"\n",
    "\n",
    "for step in graph.stream(\n",
    "    {\"messages\": [{\"role\": \"user\", \"content\": input_message}]},\n",
    "    stream_mode=\"values\",\n",
    "    config=config,\n",
    "):\n",
    "    step[\"messages\"][-1].pretty_print()"
   ]
  },
  {
   "cell_type": "markdown",
   "id": "14a6cf87",
   "metadata": {},
   "source": [
    "### Check Similarity Search"
   ]
  },
  {
   "cell_type": "code",
   "execution_count": 25,
   "id": "de9e33a1",
   "metadata": {},
   "outputs": [
    {
     "data": {
      "text/plain": [
       "[Document(id='e2494cbd-3e89-4e6d-bc62-41451991899a', metadata={'producer': 'Skia/PDF m136', 'creator': 'Mozilla/5.0 (Macintosh; Intel Mac OS X 10_15_7) AppleWebKit/537.36 (KHTML, like Gecko) Chrome/136.0.0.0 Safari/537.36', 'creationdate': '2025-05-25T09:21:53+00:00', 'title': 'Dexa Medica • Dexa Group', 'moddate': '2025-05-25T09:21:53+00:00', 'source': './docs/Tentang Dexa Medica.pdf', 'total_pages': 5, 'page': 0, 'page_label': '1'}, page_content='perawatan kesehatan bagi semua orang. Perusahaan dan tim manajemen Dexa Medica dipandu\\noleh empat prinsip inti yaitu kejujuran, kepercayaan, dedikasi, dan komitmen.\\nDexa Medica didirikan di Palembang (Sumatera Selatan, Indonesia) pada tahun 1969 oleh\\nalmarhum Letkol apt. Drs. Rudy Soetikno. Sebagai seorang apoteker muda yang rendah hati di\\nKorps Kesehatan/Medis TNI Angkatan Darat, beliau tergerak melihat kelangkaan pasokan obat-'),\n",
       " Document(id='dd90ad2a-7075-4ca4-98e8-93d779422f7b', metadata={'producer': 'Skia/PDF m136', 'creator': 'Mozilla/5.0 (Macintosh; Intel Mac OS X 10_15_7) AppleWebKit/537.36 (KHTML, like Gecko) Chrome/136.0.0.0 Safari/537.36', 'creationdate': '2025-05-25T09:21:53+00:00', 'title': 'Dexa Medica • Dexa Group', 'moddate': '2025-05-25T09:21:53+00:00', 'source': './docs/Tentang Dexa Medica.pdf', 'total_pages': 5, 'page': 3, 'page_label': '4'}, page_content='dari 31 fitofarmaka yang terdaftar adalah hasil produksi Dexa.\\nOGB\\nPT Dexa Medica adalah perusahaan swasta pertama di Indonesia yang memproduksi Obat\\nGenerik Berlogo/OGB (obat generik tidak bermerek), dan satu dari lima perusahaan farmasi yang\\ntelah menerima sertifikasi Cara Pembuatan Obat yang Baik (CPOB).\\nOGBdexa telah meluncurkan lebih dari 50 obat baru dalam 5 tahun terakhir, dan memiliki\\nportofolio lebih dari 187 obat. Untuk memenuhi permintaan pasar OGB, Dexa Medica'),\n",
       " Document(id='a619c2f7-f447-42aa-9577-ae7c20e9661f', metadata={'producer': 'Skia/PDF m136', 'creator': 'Mozilla/5.0 (Macintosh; Intel Mac OS X 10_15_7) AppleWebKit/537.36 (KHTML, like Gecko) Chrome/136.0.0.0 Safari/537.36', 'creationdate': '2025-05-25T09:21:53+00:00', 'title': 'Dexa Medica • Dexa Group', 'moddate': '2025-05-25T09:21:53+00:00', 'source': './docs/Tentang Dexa Medica.pdf', 'total_pages': 5, 'page': 0, 'page_label': '1'}, page_content='Gambaran Umum\\nDexa Medica, salah satu perusahaan farmasi terbesar di Indonesia, telah secara konsisten\\nmenggunakan kemampuan penelitiannya yang canggih untuk memprioritaskan kebutuhan\\nkesehatan masyarakat Indonesia. Mottonya — pemanfaatan keahlian untuk mempromosikan\\nkesehatan — adalah konsekuensi alami dari komitmen jangka panjangnya meningkatkan\\nperawatan kesehatan bagi semua orang. Perusahaan dan tim manajemen Dexa Medica dipandu'),\n",
       " Document(id='1f52a330-1f3c-46c8-b633-dfe0502f1098', metadata={'producer': 'Skia/PDF m136', 'creator': 'Mozilla/5.0 (Macintosh; Intel Mac OS X 10_15_7) AppleWebKit/537.36 (KHTML, like Gecko) Chrome/136.0.0.0 Safari/537.36', 'creationdate': '2025-05-25T09:21:53+00:00', 'title': 'Dexa Medica • Dexa Group', 'moddate': '2025-05-25T09:21:53+00:00', 'source': './docs/Tentang Dexa Medica.pdf', 'total_pages': 5, 'page': 3, 'page_label': '4'}, page_content='PT Dexa Medica memberikan kontribusi yang sangat besar dalam pengembangan Obat Modern\\nAsli Indonesia (OMAI). OMAI adalah obat yang diambil dari kekayaan alam Indonesia dan\\ndikembangkan dengan teknologi modern. OMAI terdiri dari Obat Herbal Terstandar (OHT) yang\\ntelah lulus uji praklinis, dan fitofarmaka yang telah lolos uji klinis. Saat ini, 37 dari 97 OHT dan 28\\ndari 31 fitofarmaka yang terdaftar adalah hasil produksi Dexa.\\nOGB')]"
      ]
     },
     "execution_count": 25,
     "metadata": {},
     "output_type": "execute_result"
    }
   ],
   "source": [
    "vector_store.similarity_search(\"sebutkan visi dan misi Dexa Medica\")"
   ]
  },
  {
   "cell_type": "markdown",
   "id": "3e4071ae",
   "metadata": {},
   "source": [
    "# END"
   ]
  }
 ],
 "metadata": {
  "kernelspec": {
   "display_name": "venv",
   "language": "python",
   "name": "python3"
  },
  "language_info": {
   "codemirror_mode": {
    "name": "ipython",
    "version": 3
   },
   "file_extension": ".py",
   "mimetype": "text/x-python",
   "name": "python",
   "nbconvert_exporter": "python",
   "pygments_lexer": "ipython3",
   "version": "3.11.5"
  }
 },
 "nbformat": 4,
 "nbformat_minor": 5
}
