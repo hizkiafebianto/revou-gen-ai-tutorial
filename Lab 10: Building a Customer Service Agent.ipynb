{
 "cells": [
  {
   "cell_type": "markdown",
   "id": "bae911a4",
   "metadata": {},
   "source": [
    "# Lab 10"
   ]
  },
  {
   "cell_type": "markdown",
   "id": "e0821ecd",
   "metadata": {},
   "source": []
  }
 ],
 "metadata": {
  "language_info": {
   "name": "python"
  }
 },
 "nbformat": 4,
 "nbformat_minor": 5
}
