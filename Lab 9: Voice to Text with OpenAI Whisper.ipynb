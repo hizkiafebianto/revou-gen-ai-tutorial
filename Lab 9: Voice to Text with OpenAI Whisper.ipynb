{
 "cells": [
  {
   "cell_type": "markdown",
   "id": "79417933",
   "metadata": {},
   "source": [
    "# Lab 9"
   ]
  },
  {
   "cell_type": "markdown",
   "id": "6ca2613f",
   "metadata": {},
   "source": []
  }
 ],
 "metadata": {
  "language_info": {
   "name": "python"
  }
 },
 "nbformat": 4,
 "nbformat_minor": 5
}
