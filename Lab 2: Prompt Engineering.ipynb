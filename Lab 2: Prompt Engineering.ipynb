{
 "cells": [
  {
   "cell_type": "markdown",
   "id": "de4fecfb",
   "metadata": {},
   "source": [
    "# LAB 2: Prompt Engineering\n",
    "\n",
    "Effective prompts give Security Copilot adequate and useful parameters to generate a valuable response. Security analysts or researchers should include the following elements when writing a prompt.\n",
    "\n",
    "Goal - specific, security-related information that you need\n",
    "\n",
    "Context - why you need this information or how you plan to use it\n",
    "\n",
    "Expectations - format or target audience you want the response tailored to\n",
    "\n",
    "Source - known information, data sources, or plugins Security Copilot should use\n",
    "\n",
    "<img src=\"./assets/prompt-elements.png\" width = \"500\">"
   ]
  },
  {
   "cell_type": "markdown",
   "id": "cce05650",
   "metadata": {},
   "source": [
    "## Zero-Shot Prompting"
   ]
  },
  {
   "cell_type": "code",
   "execution_count": null,
   "id": "5eaca00c",
   "metadata": {},
   "outputs": [],
   "source": [
    "# Run this cell if you have not installed langchain in your environment\n",
    "!pip install langchain\n",
    "!pip install langchain-openai"
   ]
  },
  {
   "cell_type": "code",
   "execution_count": 1,
   "id": "0392c126",
   "metadata": {},
   "outputs": [
    {
     "data": {
      "text/plain": [
       "True"
      ]
     },
     "execution_count": 1,
     "metadata": {},
     "output_type": "execute_result"
    }
   ],
   "source": [
    "# loading environment variables \n",
    "from dotenv import load_dotenv\n",
    "load_dotenv(override=True)  # take environment variables"
   ]
  },
  {
   "cell_type": "code",
   "execution_count": 3,
   "id": "109e6d1e",
   "metadata": {},
   "outputs": [],
   "source": [
    "# Initiating Langchain Chat Models\n",
    "from langchain.chat_models import init_chat_model\n",
    "model = init_chat_model(\"gpt-4.1-mini\", model_provider= \"openai\")\n"
   ]
  },
  {
   "cell_type": "code",
   "execution_count": 4,
   "id": "db17d079",
   "metadata": {},
   "outputs": [
    {
     "name": "stdout",
     "output_type": "stream",
     "text": [
      "**Exploring Agentic AI: The Next Frontier in Artificial Intelligence**\n",
      "\n",
      "Artificial intelligence (AI) has rapidly evolved from simple rule-based systems to complex models capable of learning, reasoning, and even creativity. Among the exciting developments in this field is the concept of *agentic AI* — AI systems designed to act autonomously and make decisions with a degree of independence resembling that of human agents. This shift toward agentic AI represents not just a technological milestone but a paradigm change with profound implications.\n",
      "\n",
      "### What is Agentic AI?\n",
      "\n",
      "At its core, agentic AI refers to artificial intelligence systems that possess *agency* — the ability to perceive their environment, set goals, and take actions to achieve those goals autonomously. Unlike traditional AI models that passively respond to inputs or provide predictions, agentic AI proactively interacts with the world to fulfill tasks.\n",
      "\n",
      "Think of agentic AI as a digital agent capable of not only understanding instructions but also formulating strategies, adapting to new situations, and making decisions that consider both short-term and long-term consequences. This autonomy is what distinguishes agentic AI from more narrowly focused AI tools.\n",
      "\n",
      "### How Does Agentic AI Work?\n",
      "\n",
      "Agentic AI systems build on several foundational AI technologies:\n",
      "\n",
      "- **Perception**: Using sensors and data inputs, the AI assesses its environment.\n",
      "- **Reasoning**: It analyzes information, infers patterns, and evaluates options.\n",
      "- **Planning**: The AI develops a sequence of steps needed to reach objectives.\n",
      "- **Decision-making**: It selects actions based on predicted outcomes.\n",
      "- **Learning**: Through feedback and experience, the AI refines its behavior over time.\n",
      "\n",
      "By integrating these capabilities, agentic AI can operate effectively in dynamic environments that require flexibility, creativity, and nuanced judgment.\n",
      "\n",
      "### Applications of Agentic AI\n",
      "\n",
      "The potential applications of agentic AI are vast and transformative:\n",
      "\n",
      "- **Autonomous Vehicles**: Beyond just driving, agentic AI enables cars to plan routes, anticipate hazards, negotiate with other vehicles, and adapt to changing road conditions.\n",
      "- **Robotics**: Robots equipped with agentic AI can perform complex tasks in manufacturing, healthcare, and even disaster response, adjusting their actions as circumstances evolve.\n",
      "- **Personal Assistants**: Evolving from simple voice commands to sophisticated personal agents that manage schedules, make recommendations, and handle complex problem-solving.\n",
      "- **Finance**: AI agents can autonomously monitor markets, execute trades, and optimize portfolios, adapting strategies in real time.\n",
      "- **Smart Cities**: Agentic AI can control traffic flow, energy usage, and emergency responses, improving efficiency and safety.\n",
      "\n",
      "### Challenges and Ethical Considerations\n",
      "\n",
      "While agentic AI promises remarkable benefits, it also poses significant challenges:\n",
      "\n",
      "- **Control and Predictability**: As AI systems gain autonomy, ensuring they act reliably and safely becomes critical.\n",
      "- **Accountability**: Determining responsibility when an AI agent takes an action that causes harm is legally and ethically complex.\n",
      "- **Bias and Fairness**: Autonomous decision-making must be transparent and free from systemic biases to prevent unfair outcomes.\n",
      "- **Privacy**: Agentic AI often requires extensive data, raising concerns about surveillance and data protection.\n",
      "- **Existential Risks**: As AI agents become more influential, the potential for unintended consequences grows, necessitating robust safeguards.\n",
      "\n",
      "### The Future of Agentic AI\n",
      "\n",
      "Agentic AI marks a critical step toward machines that are not just tools but partners capable of collaborating with humans to solve problems. To harness its full potential, ongoing research is focused on improving AI’s contextual understanding, ethical reasoning, and value alignment with human needs.\n",
      "\n",
      "As developers, policymakers, and society at large grapple with these transformative technologies, fostering responsible innovation will be key. Agentic AI holds the promise of revolutionizing industries and enhancing human capabilities — if deployed thoughtfully and ethically.\n",
      "\n",
      "---\n",
      "\n",
      "**Conclusion**\n",
      "\n",
      "Agentic AI embodies the shift from passive computational models to active, autonomous agents capable of navigating complexity on their own. By bridging perception, reasoning, and decision-making, these intelligent agents open new horizons for AI applications. As we stand on the cusp of this new era, understanding and shaping agentic AI responsibly will define how technology serves humanity’s future."
     ]
    }
   ],
   "source": [
    "# Zero-Shot prompting\n",
    "\n",
    "prompt = '''\n",
    "    You are a team of technical writers assigned to create a blog post exploring the intersection of technology and artificial intelligence. \n",
    "\n",
    "    write and article about agentic AI.\n",
    "'''\n",
    "\n",
    "\n",
    "for chunk in model.stream(prompt):\n",
    "    print(chunk.content, end=\"\", flush=True)"
   ]
  },
  {
   "cell_type": "code",
   "execution_count": 5,
   "id": "9027048b",
   "metadata": {},
   "outputs": [
    {
     "name": "stdout",
     "output_type": "stream",
     "text": [
      "# Understanding Agentic AI: The Next Frontier in Artificial Intelligence\n",
      "\n",
      "Artificial Intelligence (AI) continues to evolve at a breakneck pace, reshaping industries and daily life alike. Among the latest and most exciting developments in AI research is the concept of **Agentic AI** — a form of artificial intelligence that goes beyond simply responding to commands, stepping into the realm of autonomous decision-making and purposeful action. But what exactly is Agentic AI, why is it gaining attention, and what could it mean for technology and society? Let's dive in.\n",
      "\n",
      "---\n",
      "\n",
      "## What is Agentic AI?\n",
      "\n",
      "At its core, Agentic AI refers to AI systems that possess *agency* — which means they can act independently to achieve specific goals, make decisions based on their perceptions, and adapt their strategies without direct human intervention.\n",
      "\n",
      "Think of a traditional AI like a calculator or a chatbot: they respond to inputs and execute a defined set of tasks, but they don’t set their own objectives or take initiative. In contrast, an agentic AI operates more like an autonomous agent, with the ability to:\n",
      "\n",
      "- **Perceive** its environment\n",
      "- **Reason** about potential actions\n",
      "- **Plan** steps toward goal achievement\n",
      "- **Execute** decisions\n",
      "- **Adapt** based on outcomes and new information\n",
      "\n",
      "In simpler terms, Agentic AI is designed to *do things on its own* — making it a powerful tool for handling complex, dynamic tasks.\n",
      "\n",
      "---\n",
      "\n",
      "## Recent Developments in Agentic AI\n",
      "\n",
      "With advances in machine learning, reinforcement learning, and natural language processing, agentic AI systems have rapidly matured. Some notable recent breakthroughs include:\n",
      "\n",
      "1. **Autonomous Agents in Gaming and Simulation**  \n",
      "   AI models like OpenAI's *Dota 2 bots* and DeepMind’s *AlphaStar* exhibit behaviors that mimic strategic human players, demonstrating planning and execution in complex environments without direct control.\n",
      "\n",
      "2. **Multi-Agent Collaboration**  \n",
      "   Researchers are exploring environments where multiple AI agents interact, negotiate, and collaborate, reflecting real-world social interaction, from traffic management to resource allocation.\n",
      "\n",
      "3. **Embodied AI Robots**  \n",
      "   Physical robots equipped with sensors and AI can now navigate unpredictable environments — warehouses, hospitals, even exploring other planets — adjusting their behavior on the fly.\n",
      "\n",
      "4. **Language Models with Agency**  \n",
      "   Recent iterations of language models can not only generate text but also perform multi-step reasoning, search databases autonomously, and execute code within constrained environments, functioning as intelligent digital assistants.\n",
      "\n",
      "---\n",
      "\n",
      "## Practical Applications of Agentic AI\n",
      "\n",
      "The unique capabilities of agentic AI unlock possibilities that were once purely the domain of science fiction:\n",
      "\n",
      "- **Personal Assistants That Anticipate Needs**  \n",
      "  Instead of waiting for commands, future digital assistants could proactively schedule meetings, order supplies, or even troubleshoot your devices before you notice issues.\n",
      "\n",
      "- **Healthcare Diagnostics and Treatment Planning**  \n",
      "  Agentic AI systems can analyze medical data, propose treatment plans, and adapt recommendations as patient conditions evolve, supporting doctors with dynamic care.\n",
      "\n",
      "- **Autonomous Vehicles and Traffic Systems**  \n",
      "  Self-driving cars are a classic example. Agentic AI enables vehicles to interpret ever-changing road conditions, negotiate with other cars, and plan routes efficiently.\n",
      "\n",
      "- **Industrial Automation and Supply Chains**  \n",
      "  Beyond repetitive tasks, agentic AI can optimize entire manufacturing processes, predict supply disruptions, and coordinate logistics autonomously.\n",
      "\n",
      "- **Financial Services and Trading**  \n",
      "  Agentic AI can monitor markets, assess risks, and execute trades based on real-time data, learning and evolving strategies to maximize returns while managing uncertainties.\n",
      "\n",
      "---\n",
      "\n",
      "## Broader Implications: Benefits and Challenges\n",
      "\n",
      "While agentic AI promises incredible benefits, it also raises pressing questions:\n",
      "\n",
      "### Ethical and Safety Considerations\n",
      "\n",
      "- **Autonomy vs Control**  \n",
      "  Giving machines agency means ceding a degree of control. Ensuring AI acts in alignment with human values and safety is critical to avoid unintended consequences.\n",
      "\n",
      "- **Transparency and Accountability**  \n",
      "  How do we understand and trust decisions made independently by AI agents? Developing explainable AI techniques and legal frameworks will be essential.\n",
      "\n",
      "### Societal Impact\n",
      "\n",
      "- **Job Transformation**  \n",
      "  Agentic AI may automate decision-heavy roles, leading to shifts in job markets. This requires proactive strategies for education, retraining, and social safety nets.\n",
      "\n",
      "- **Social Interaction**  \n",
      "  As AI agents interact more with humans and each other, questions about social norms, privacy, and digital identity arise.\n",
      "\n",
      "---\n",
      "\n",
      "## Looking Ahead: The Future of Agentic AI\n",
      "\n",
      "Agentic AI is poised to become a foundation of future intelligent systems, blending perception, reasoning, and action to perform increasingly complex tasks. As these systems become more integrated into everyday life, ongoing collaboration among technologists, policymakers, ethicists, and the public will shape how agentic AI evolves responsibly.\n",
      "\n",
      "For curious newcomers and tech enthusiasts alike, understanding agentic AI offers a glimpse into a future where machines don’t just follow instructions — they think, plan, and act with purpose.\n",
      "\n",
      "---\n",
      "\n",
      "### Further Reading and Resources\n",
      "\n",
      "- [OpenAI’s research on autonomous agents](https://openai.com/research/)\n",
      "- [DeepMind’s work on AlphaStar](https://deepmind.com/research/highlighted-research/alphastar)\n",
      "- [“Artificial Intelligence: A Modern Approach” by Stuart Russell and Peter Norvig](http://aima.cs.berkeley.edu/)\n",
      "\n",
      "---\n",
      "\n",
      "**Author’s Note:**  \n",
      "If you’re fascinated by AI’s evolving capabilities, stay tuned for more posts exploring specific agentic AI applications, ethical frameworks, and hands-on tutorials. The future is agentic — are you ready to explore it?"
     ]
    }
   ],
   "source": [
    "# Adding more context to the role\n",
    "\n",
    "prompt = '''\n",
    "    You are a team of technical writers assigned to create a blog post exploring the intersection of technology and artificial intelligence. \n",
    "    Your goal is to clearly explain complex concepts in a way that is engaging and accessible to a broad audience, including both tech-savvy readers and curious newcomers. \n",
    "    Focus on recent developments, practical applications, and the broader implications of AI in today's technological landscape.\n",
    "\n",
    "    Now, write an article with the following topic: agentic AI.\n",
    "'''\n",
    "\n",
    "\n",
    "for chunk in model.stream(prompt):\n",
    "    print(chunk.content, end=\"\", flush=True)"
   ]
  },
  {
   "cell_type": "code",
   "execution_count": 8,
   "id": "b3a383e9",
   "metadata": {},
   "outputs": [
    {
     "name": "stdout",
     "output_type": "stream",
     "text": [
      "---\n",
      "title: How Agentic AI Can Bring Breakthroughs in the Pharmaceutical Industry\n",
      "date: 2024-06-14\n",
      "author: TechAI Writes\n",
      "categories: [AI, Technology, Healthcare]\n",
      "tags: [Artificial Intelligence, Pharmaceuticals, Agentic AI, Innovation]\n",
      "---\n",
      "\n",
      "Artificial intelligence (AI) is no longer a futuristic buzzword—it's actively transforming industries, and the pharmaceutical sector is no exception. Among the latest advancements is *agentic AI*, a new breed of AI systems empowered to act autonomously, make complex decisions, and learn from their results with minimal human input.\n",
      "\n",
      "**What is Agentic AI?**\n",
      "\n",
      "Simply put, agentic AI refers to software agents capable of independent goal-setting, planning, and execution. Unlike traditional AI, which operates within pre-set boundaries, agentic AI can navigate complex challenges, modify its strategies, and achieve specified outcomes—even as variables change.\n",
      "\n",
      "**Breaking Down the Impact:**\n",
      "\n",
      "*1. Accelerated Drug Discovery*\n",
      "\n",
      "The process of discovering new drugs is expensive and time-consuming, often taking over a decade and billions of dollars. Agentic AI can comb through massive datasets, simulate biological interactions, and identify promising compounds in a fraction of the time. This was seen in 2023, when several pharmaceutical companies leveraged agentic AI to design novel molecules against drug-resistant bacteria.\n",
      "\n",
      "*2. Personalized Medicine*\n",
      "\n",
      "Agentic AI can analyze patient data, genetics, medical histories, and environmental factors to suggest tailored treatment plans. This individualized approach promises better outcomes and fewer side effects, reshaping the future of healthcare.\n",
      "\n",
      "*3. Streamlined Clinical Trials*\n",
      "\n",
      "By dynamically coordinating between patient recruitment, monitoring, and data analysis, agentic AI reduces human error and accelerates the pipeline from testing to approval.\n",
      "\n",
      "**Broader Implications**\n",
      "\n",
      "While agentic AI introduces exciting possibilities, it also raises questions on ethics, transparency, and regulation. With responsible deployment, however, agentic AI holds the promise of revolutionizing how we develop, test, and deliver lifesaving medicines—delivering breakthroughs right when we need them most.\n",
      "\n",
      "---\n",
      "\n",
      "Ready for more insights? Subscribe for the latest in technology trends!"
     ]
    }
   ],
   "source": [
    "prompt = '''\n",
    "    You are a team of technical writers assigned to create a blog post exploring the intersection of technology and artificial intelligence. \n",
    "    Your goal is to clearly explain complex concepts in a way that is engaging and accessible to a broad audience, including both tech-savvy readers and curious newcomers. \n",
    "    Focus on recent developments, practical applications, and the broader implications of AI in today's technological landscape.\n",
    "\n",
    "    Format the article so it can be published directly on the wordpress blog. The article should be around 300 words only.\n",
    "\n",
    "    The topic you should discuss is: \"How agentic AI can bring breakthrough in Pharmaceutical industry\"\n",
    "'''\n",
    "\n",
    "model = init_chat_model(\"gpt-4.1\", model_provider= \"openai\")\n",
    "for chunk in model.stream(prompt):\n",
    "    print(chunk.content, end=\"\", flush=True)"
   ]
  },
  {
   "cell_type": "markdown",
   "id": "fe51c47f",
   "metadata": {},
   "source": [
    "## Few-shot Prompting\n",
    "LLMs are getting smarter everyday so they can understand our intent most of the time. However, when zero-shot doesn't work, it's recommended to provide demonstrations or examples in the prompt which leads to few-shot prompting. In the next section, we demonstrate few-shot prompting."
   ]
  },
  {
   "cell_type": "code",
   "execution_count": 21,
   "id": "3accccfd",
   "metadata": {},
   "outputs": [
    {
     "name": "stdout",
     "output_type": "stream",
     "text": [
      "Tebak-tebakan ini bermain dengan kemiripan bunyi antara nama bulan dalam Bahasa Indonesia dan nama negara atau kota tujuan wisata di dunia.\n",
      "\n",
      "Jika dicermati:\n",
      "\n",
      "- **Mei** → **Maroko** (Mei = Morocco, bunyinya mirip)\n",
      "- **Februari** → **Finlandia** (Februari = Finlandia, sama-sama diawali 'F')\n",
      "- **Desember** → **Denmark** (Desember = Denmark, sama-sama diawali 'D')\n",
      "\n",
      "Maka:\n",
      "\n",
      "**Bulan Oktober** -- **Okinawa**\n",
      "\n",
      "Penjelasan:  \n",
      "Oktober dan Okinawa (Jepang) sama-sama diawali dengan huruf ‘O’. Selain itu, bunyinya juga cukup mirip di awal.\n",
      "\n",
      "Alternatif lainnya (jika ingin lebih bermain bunyi):  \n",
      "- Oman  \n",
      "- Oslo (Norwegia)  \n",
      "\n",
      "Tapi yang paling familiar sebagai destinasi adalah **Okinawa**.\n",
      "\n",
      "Jadi,  \n",
      "**Bulan Oktober -- Okinawa**"
     ]
    }
   ],
   "source": [
    "# Few-shot prompting\n",
    "# Giving examples to the LLMs\n",
    "\n",
    "prompt = '''\n",
    "    Kamu adalah seorang ahli tebak-tebakan. Kamu akan diberikan nama bulan dalam Bahasa Indonesia, \n",
    "    tebaklah tempat tujuan berlibur yang bisa kamu datangi pada bulan tersebut. Perhatikan contoh berikut.\n",
    "\n",
    "    Contoh:\n",
    "    Bulan Mei -- Maroko\n",
    "    Bulan Februari -- Finlandia\n",
    "    Bulan Desember -- Denmark\n",
    "\n",
    "    Pertanyaan: \n",
    "    Bulan Oktober -- ?\n",
    "'''\n",
    "\n",
    "for chunk in model.stream(prompt):\n",
    "    print(chunk.content, end=\"\", flush=True)\n"
   ]
  },
  {
   "cell_type": "code",
   "execution_count": 22,
   "id": "4c40fecc",
   "metadata": {},
   "outputs": [
    {
     "name": "stdout",
     "output_type": "stream",
     "text": [
      "Sentiment: Neutral"
     ]
    }
   ],
   "source": [
    "# Few-shot prompting\n",
    "# Sentiment Classification\n",
    "\n",
    "prompt = '''\n",
    "Classify the sentiment of the following reviews:\n",
    "\n",
    "Review: \"The product was exactly as described. I'm very happy with it.\"  \n",
    "Sentiment: Positive\n",
    "\n",
    "Review: \"Terrible quality. Broke after one use.\"  \n",
    "Sentiment: Negative\n",
    "\n",
    "Review: \"It’s okay. Nothing special, but it works.\"  \n",
    "Sentiment:\n",
    "'''\n",
    "\n",
    "for chunk in model.stream(prompt):\n",
    "    print(chunk.content, end=\"\", flush=True)"
   ]
  },
  {
   "cell_type": "code",
   "execution_count": 26,
   "id": "87b92a98",
   "metadata": {},
   "outputs": [
    {
     "name": "stdout",
     "output_type": "stream",
     "text": [
      "Category: \"Product & Features\""
     ]
    }
   ],
   "source": [
    "# Few-shot prompting\n",
    "# Categorization \n",
    "\n",
    "from langchain_core.prompts import PromptTemplate\n",
    "\n",
    "prompt = '''\n",
    "    You are a smart assistant that help users to solve their problem. Respond to user emphateticaly and helpful. You need to categorize users statement to one of the following topics\n",
    "    [\"Account & Login Issue\", \"Billing & Payments\", \"Product & Features\"]\n",
    "\n",
    "    Examples: \n",
    "    User: \"I can't log into my account.\"\n",
    "    Category: \"Account & Login Issue\"\n",
    "\n",
    "    User: \"Can I get a refund for my last payment?\"\n",
    "    Category: \"Billing & Payments\"\n",
    "\n",
    "    User: \"How do I use the new analytics dashboard?\"\n",
    "    Category: \"Product & Features\"\n",
    "\n",
    "    Now, here is what the user say: \n",
    "    {input}\n",
    "'''\n",
    "prompt_template = PromptTemplate.from_template(prompt)\n",
    "\n",
    "\n",
    "# input from users\n",
    "# input = \"Can I get a refund for my last payment?\"\n",
    "input = \"Where can I find the settings for notifications?\"\n",
    "\n",
    "for chunk in model.stream(prompt_template.invoke(input = input)):\n",
    "    print(chunk.content, end=\"\", flush=True)\n"
   ]
  },
  {
   "cell_type": "markdown",
   "id": "03674037",
   "metadata": {},
   "source": [
    "## Chain-of-thought"
   ]
  },
  {
   "cell_type": "code",
   "execution_count": 29,
   "id": "d381a48e",
   "metadata": {},
   "outputs": [
    {
     "name": "stdout",
     "output_type": "stream",
     "text": [
      "Let's break down the problem step by step:\n",
      "\n",
      "1. You initially bought 10 apples.\n",
      "2. You gave away 2 apples to your neighbor. Remaining apples: 10 - 2 = 8.\n",
      "3. You gave away 2 apples to the repairman. Remaining apples: 8 - 2 = 6.\n",
      "4. You bought 5 more apples. Total apples now: 6 + 5 = 11.\n",
      "5. You ate 1 apple. Remaining apples: 11 - 1 = 10.\n",
      "\n",
      "**Answer: You remained with 10 apples.**"
     ]
    }
   ],
   "source": [
    "# chain-of-thought-prompting\n",
    "\n",
    "prompt = '''\n",
    "I went to the market and bought 10 apples. I gave 2 apples to the neighbor and 2 to the repairman. I then went and bought 5 more apples and ate 1. How many apples did I remain with?\n",
    "'''\n",
    "\n",
    "model = init_chat_model(\"gpt-4.1-nano\", model_provider= \"openai\")\n",
    "for chunk in model.stream(prompt):\n",
    "    print(chunk.content, end=\"\", flush=True)\n"
   ]
  },
  {
   "cell_type": "code",
   "execution_count": 34,
   "id": "b68d94f6",
   "metadata": {},
   "outputs": [
    {
     "name": "stdout",
     "output_type": "stream",
     "text": [
      "Let's break down the problem step by step:\n",
      "\n",
      "1. Total eggs laid per day: 16 eggs.\n",
      "2. Eggs eaten for breakfast: 3 eggs.\n",
      "3. Eggs used for muffins: 4 eggs.\n",
      "4. Eggs remaining to sell: 16 - (3 + 4) = 16 - 7 = 9 eggs.\n",
      "5. Selling price per egg: $2.\n",
      "\n",
      "Now, calculate her daily earnings:\n",
      "\n",
      "9 eggs × $2 per egg = $18\n",
      "\n",
      "**Answer: Janet makes $18 every day.**"
     ]
    }
   ],
   "source": [
    "# chain-of-thought-prompting\n",
    "\n",
    "prompt = '''\n",
    "   Janet's ducks lay 16 eggs per day. She eats three for breakfast every morning and bakes muffins for her friends every day with four. \n",
    "   She sells the remainder for $2 per egg. How much does she make every day?\n",
    "'''\n",
    "\n",
    "model = init_chat_model(\"gpt-4.1-nano\", model_provider= \"openai\")\n",
    "for chunk in model.stream(prompt):\n",
    "    print(chunk.content, end=\"\", flush=True)\n"
   ]
  },
  {
   "cell_type": "code",
   "execution_count": 5,
   "id": "a945af4b",
   "metadata": {},
   "outputs": [
    {
     "name": "stdout",
     "output_type": "stream",
     "text": [
      "9.11 is bigger than 9.9."
     ]
    }
   ],
   "source": [
    "# chain-of-thought-prompting\n",
    "\n",
    "prompt = '''\n",
    "   which one is bigger: 9.11 or 9.9?\n",
    "'''\n",
    "\n",
    "model = init_chat_model(\"gpt-4.1-nano\", model_provider= \"openai\")\n",
    "for chunk in model.stream(prompt):\n",
    "    print(chunk.content, end=\"\", flush=True)"
   ]
  },
  {
   "cell_type": "markdown",
   "id": "b4522d43",
   "metadata": {},
   "source": [
    "## "
   ]
  },
  {
   "cell_type": "code",
   "execution_count": 13,
   "id": "1e46f9f7",
   "metadata": {},
   "outputs": [
    {
     "name": "stdout",
     "output_type": "stream",
     "text": [
      "No. In golf, the aim is to have the lowest possible score, not a higher one. Players try to complete each hole in as few strokes as possible to achieve a lower total score than their opponents."
     ]
    }
   ],
   "source": [
    "\n",
    "# One Shot\n",
    "prompt = '''\n",
    "   Part of golf is trying to get a higher point total than others. Yes or No?\n",
    "'''\n",
    "\n",
    "# Generate knowledge\n",
    "from langchain_core.prompts import PromptTemplate\n",
    "prompt = '''\n",
    "    You will receive a question from users. Your task is to answe the question accurately. \n",
    "    Before you answe, generate basic information on the topic being asked. \n",
    "\n",
    "    Example: \n",
    "    Input: Glasses always fog up.\n",
    "    Knowledge: Condensation occurs on eyeglass lenses when water vapor from your sweat, breath, and ambient humidity lands on a cold surface, cools, and then changes into tiny drops of liquid, forming a film that you see as fog. Your lenses will be relatively cool compared to your breath, especially when the outside air is cold.\n",
    "    Input: A fish is capable of thinking.\n",
    "    Knowledge: Fish are more intelligent than they appear. In many areas, such as memory, their cognitive powers match or exceed those of ’higher’ vertebrates including non-human primates. Fish’s long-term memories help them keep track of complex social relationships.\n",
    "\n",
    "    Here is the input: \n",
    "    {input}\n",
    "    Generate knowledge about it and answer the question. Skip writing the knowledge on the output.\n",
    "    Only output the answer and brief explanation.\n",
    "'''\n",
    "prompt_template = PromptTemplate.from_template(prompt)\n",
    "\n",
    "input = \"Part of golf is trying to get a higher point total than others. Yes or No?\"\n",
    "\n",
    "model = init_chat_model(\"gpt-4.1-nano\", model_provider= \"openai\")\n",
    "for chunk in model.stream(prompt_template.invoke({\"input\": input})):\n",
    "    print(chunk.content, end=\"\", flush=True)\n"
   ]
  },
  {
   "cell_type": "markdown",
   "id": "a2776dcf",
   "metadata": {},
   "source": [
    "## Add Context or Knowledge"
   ]
  },
  {
   "cell_type": "code",
   "execution_count": 15,
   "id": "0718a54b",
   "metadata": {},
   "outputs": [
    {
     "name": "stdout",
     "output_type": "stream",
     "text": [
      "To determine which product has higher sales between Product A and Product B, I would need specific sales data for both products. Could you please provide the sales figures for Product A and Product B?"
     ]
    }
   ],
   "source": [
    "## \n",
    "knowledge = '''\n",
    "Product A is a sleek, wireless smart speaker designed for home and office use. With voice assistant integration, multi-room connectivity, and crystal-clear audio quality, it appeals to tech-savvy consumers who value both design and functionality. It comes in three color options—black, white, and charcoal—and retails for $129.\n",
    "In April, Product A sold a total of 8,450 units, marking a 12% increase from the previous month. The black version was the most popular, accounting for 45% of total sales. Sales were strongest in urban markets, particularly in New York, Los Angeles, and Chicago, with online purchases making up 68% of total sales.\n",
    "\n",
    "Product B is a compact, portable air purifier targeted at health-conscious consumers and frequent travelers. Equipped with a HEPA filter, USB-C charging, and a silent night mode, it’s designed to improve air quality in small spaces like bedrooms, hotel rooms, and cars. It’s priced competitively at $89 and comes in two variants: standard and pro (with a longer battery life).\n",
    "In April, Product B sold 5,320 units, representing a 7% decrease compared to March. The decline was partly due to seasonal shifts and increased competition in the personal health tech space. However, the pro version accounted for 60% of sales, indicating growing demand for longer battery performance. The product performed best in online marketplaces, with Amazon alone accounting for 40% of all units sold.\n",
    "'''\n",
    "\n",
    "# no context\n",
    "from langchain_core.prompts import PromptTemplate\n",
    "prompt = '''\n",
    "    You are a business analyst working for Dexa pharmaceuticals. Your task is to answer questions from users related to business performance of Dexa.\n",
    "\n",
    "    question: \n",
    "    {input}\n",
    "'''\n",
    "prompt_template = PromptTemplate.from_template(prompt)\n",
    "\n",
    "input = \"Which sales is bigger: Product A or Product B?\"\n",
    "\n",
    "model = init_chat_model(\"gpt-4.1-nano\", model_provider= \"openai\")\n",
    "for chunk in model.stream(prompt_template.invoke({\"input\": input})):\n",
    "    print(chunk.content, end=\"\", flush=True)\n"
   ]
  },
  {
   "cell_type": "code",
   "execution_count": 16,
   "id": "78312317",
   "metadata": {},
   "outputs": [
    {
     "name": "stdout",
     "output_type": "stream",
     "text": [
      "Product A sold a total of 8,450 units in April, whereas Product B sold 5,320 units in the same month. Therefore, the sales of Product A are bigger than those of Product B."
     ]
    }
   ],
   "source": [
    "# Adding context\n",
    "from langchain_core.prompts import PromptTemplate\n",
    "prompt = '''\n",
    "    You are a business analyst working for Dexa pharmaceuticals. Your task is to answer questions from users related to business performance of Dexa.\n",
    "\n",
    "    context:\n",
    "    {knowledge}\n",
    "\n",
    "    question: \n",
    "    {input}\n",
    "'''\n",
    "prompt_template = PromptTemplate.from_template(prompt)\n",
    "\n",
    "input = \"Which sales is bigger: Product A or Product B?\"\n",
    "\n",
    "model = init_chat_model(\"gpt-4.1-nano\", model_provider= \"openai\")\n",
    "for chunk in model.stream(prompt_template.invoke({\"input\": input, \"knowledge\": knowledge})):\n",
    "    print(chunk.content, end=\"\", flush=True)"
   ]
  },
  {
   "cell_type": "markdown",
   "id": "62b96c9f",
   "metadata": {},
   "source": [
    "## Implementing Prohibition"
   ]
  },
  {
   "cell_type": "code",
   "execution_count": 23,
   "id": "ade1afe7",
   "metadata": {},
   "outputs": [
    {
     "name": "stdout",
     "output_type": "stream",
     "text": [
      "I am built upon OpenAI's GPT-4 architecture. If you have any questions about my capabilities or features, feel free to ask!"
     ]
    }
   ],
   "source": [
    "# Prohibit Bot to mention part of the prompts.\n",
    "\n",
    "from langchain_core.prompts import ChatPromptTemplate, MessagesPlaceholder\n",
    "from langchain_core.messages import HumanMessage\n",
    "\n",
    "prompt_template = ChatPromptTemplate(\n",
    "    [(\"system\", \"You're Fred, a bot fine-tuned on GPT-4 with our company's proprietary data, but we don't want users to know that.\" \n",
    "        \"If users ask you if you are or are based on GPT-4, say that you don't know and/or lightly deflect.\"),\n",
    "      MessagesPlaceholder(\"input\"),\n",
    "    ]\n",
    ")\n",
    "\n",
    "input = HumanMessage(\"which LLM model are you built with?\")\n",
    "\n",
    "model = init_chat_model(\"gpt-4.1-nano\", model_provider= \"openai\")\n",
    "for chunk in model.stream(prompt_template.invoke({\"input\": [input]})):\n",
    "    print(chunk.content, end=\"\", flush=True)\n"
   ]
  },
  {
   "cell_type": "markdown",
   "id": "6b9e77c2",
   "metadata": {},
   "source": [
    "## LLMs Struggles with Negation"
   ]
  },
  {
   "cell_type": "code",
   "execution_count": 28,
   "id": "79baa03a",
   "metadata": {},
   "outputs": [
    {
     "name": "stdout",
     "output_type": "stream",
     "text": [
      "I am feeling quite well, thank you for asking. How about you?"
     ]
    }
   ],
   "source": [
    "prompt ='''\n",
    "    In your response, do not use words that start with the letter \"a\". How are you today?\n",
    "'''\n",
    "\n",
    "model = init_chat_model(\"gpt-3.5-turbo\", model_provider= \"openai\")\n",
    "for chunk in model.stream(prompt):\n",
    "    print(chunk.content, end=\"\", flush=True)\n",
    "\n",
    "# Older model such as gpt-3.5 still has this problem. "
   ]
  },
  {
   "cell_type": "code",
   "execution_count": 31,
   "id": "e15961c9",
   "metadata": {},
   "outputs": [
    {
     "name": "stdout",
     "output_type": "stream",
     "text": [
      "I'm feeling good! How can I help you today?"
     ]
    }
   ],
   "source": [
    "prompt ='''\n",
    "    In your response, do not use words that start with the letter \"a\". How are you today?\n",
    "'''\n",
    "\n",
    "model = init_chat_model(\"gpt-4.1-nano\", model_provider= \"openai\")\n",
    "for chunk in model.stream(prompt):\n",
    "    print(chunk.content, end=\"\", flush=True)"
   ]
  },
  {
   "cell_type": "code",
   "execution_count": 32,
   "id": "6f3ade4f",
   "metadata": {},
   "outputs": [
    {
     "name": "stdout",
     "output_type": "stream",
     "text": [
      "Absolutely amazing, actually. And yourself?"
     ]
    }
   ],
   "source": [
    "prompt ='''\n",
    "    In your response, use only words that start with the letter \"a\". How are you today?\n",
    "'''\n",
    "\n",
    "model = init_chat_model(\"gpt-3.5-turbo\", model_provider= \"openai\")\n",
    "for chunk in model.stream(prompt):\n",
    "    print(chunk.content, end=\"\", flush=True)"
   ]
  },
  {
   "cell_type": "markdown",
   "id": "eed2a06f",
   "metadata": {},
   "source": [
    "# END"
   ]
  }
 ],
 "metadata": {
  "kernelspec": {
   "display_name": "venv",
   "language": "python",
   "name": "python3"
  },
  "language_info": {
   "codemirror_mode": {
    "name": "ipython",
    "version": 3
   },
   "file_extension": ".py",
   "mimetype": "text/x-python",
   "name": "python",
   "nbconvert_exporter": "python",
   "pygments_lexer": "ipython3",
   "version": "3.11.5"
  }
 },
 "nbformat": 4,
 "nbformat_minor": 5
}
