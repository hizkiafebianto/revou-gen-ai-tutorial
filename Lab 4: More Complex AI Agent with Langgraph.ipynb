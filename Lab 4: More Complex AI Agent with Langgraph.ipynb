{
 "cells": [
  {
   "cell_type": "markdown",
   "id": "71024a1b",
   "metadata": {},
   "source": [
    "# Lab 4: Building an AI Agent with Langgraph"
   ]
  },
  {
   "cell_type": "markdown",
   "id": "c4e1d012",
   "metadata": {},
   "source": [
    "## LangGraph \n",
    "Langgraph is a low-level orchestration framework for building controllable agents. While langchain provides integrations and composable components to streamline LLM application development, the LangGraph library enables **agent orchestration** — offering customizable architectures, long-term memory, and human-in-the-loop to reliably handle complex tasks.\n",
    "\n",
    "## Initiation"
   ]
  },
  {
   "cell_type": "code",
   "execution_count": 1,
   "id": "c21f08dd",
   "metadata": {},
   "outputs": [
    {
     "name": "stdout",
     "output_type": "stream",
     "text": [
      "Requirement already satisfied: langgraph in ./venv/lib/python3.11/site-packages (0.4.3)\n",
      "Requirement already satisfied: langchain-core>=0.1 in ./venv/lib/python3.11/site-packages (from langgraph) (0.3.58)\n",
      "Requirement already satisfied: langgraph-checkpoint<3.0.0,>=2.0.10 in ./venv/lib/python3.11/site-packages (from langgraph) (2.0.25)\n",
      "Requirement already satisfied: langgraph-prebuilt>=0.1.8 in ./venv/lib/python3.11/site-packages (from langgraph) (0.1.8)\n",
      "Requirement already satisfied: langgraph-sdk>=0.1.42 in ./venv/lib/python3.11/site-packages (from langgraph) (0.1.66)\n",
      "Requirement already satisfied: pydantic>=2.7.4 in ./venv/lib/python3.11/site-packages (from langgraph) (2.11.4)\n",
      "Requirement already satisfied: xxhash<4.0.0,>=3.5.0 in ./venv/lib/python3.11/site-packages (from langgraph) (3.5.0)\n",
      "Requirement already satisfied: langsmith<0.4,>=0.1.125 in ./venv/lib/python3.11/site-packages (from langchain-core>=0.1->langgraph) (0.3.42)\n",
      "Requirement already satisfied: tenacity!=8.4.0,<10.0.0,>=8.1.0 in ./venv/lib/python3.11/site-packages (from langchain-core>=0.1->langgraph) (9.1.2)\n",
      "Requirement already satisfied: jsonpatch<2.0,>=1.33 in ./venv/lib/python3.11/site-packages (from langchain-core>=0.1->langgraph) (1.33)\n",
      "Requirement already satisfied: PyYAML>=5.3 in ./venv/lib/python3.11/site-packages (from langchain-core>=0.1->langgraph) (6.0.2)\n",
      "Requirement already satisfied: packaging<25,>=23.2 in ./venv/lib/python3.11/site-packages (from langchain-core>=0.1->langgraph) (24.2)\n",
      "Requirement already satisfied: typing-extensions>=4.7 in ./venv/lib/python3.11/site-packages (from langchain-core>=0.1->langgraph) (4.13.2)\n",
      "Requirement already satisfied: ormsgpack<2.0.0,>=1.8.0 in ./venv/lib/python3.11/site-packages (from langgraph-checkpoint<3.0.0,>=2.0.10->langgraph) (1.9.1)\n",
      "Requirement already satisfied: httpx>=0.25.2 in ./venv/lib/python3.11/site-packages (from langgraph-sdk>=0.1.42->langgraph) (0.28.1)\n",
      "Requirement already satisfied: orjson>=3.10.1 in ./venv/lib/python3.11/site-packages (from langgraph-sdk>=0.1.42->langgraph) (3.10.18)\n",
      "Requirement already satisfied: annotated-types>=0.6.0 in ./venv/lib/python3.11/site-packages (from pydantic>=2.7.4->langgraph) (0.7.0)\n",
      "Requirement already satisfied: pydantic-core==2.33.2 in ./venv/lib/python3.11/site-packages (from pydantic>=2.7.4->langgraph) (2.33.2)\n",
      "Requirement already satisfied: typing-inspection>=0.4.0 in ./venv/lib/python3.11/site-packages (from pydantic>=2.7.4->langgraph) (0.4.0)\n",
      "Requirement already satisfied: anyio in ./venv/lib/python3.11/site-packages (from httpx>=0.25.2->langgraph-sdk>=0.1.42->langgraph) (4.9.0)\n",
      "Requirement already satisfied: certifi in ./venv/lib/python3.11/site-packages (from httpx>=0.25.2->langgraph-sdk>=0.1.42->langgraph) (2025.4.26)\n",
      "Requirement already satisfied: httpcore==1.* in ./venv/lib/python3.11/site-packages (from httpx>=0.25.2->langgraph-sdk>=0.1.42->langgraph) (1.0.9)\n",
      "Requirement already satisfied: idna in ./venv/lib/python3.11/site-packages (from httpx>=0.25.2->langgraph-sdk>=0.1.42->langgraph) (3.10)\n",
      "Requirement already satisfied: h11>=0.16 in ./venv/lib/python3.11/site-packages (from httpcore==1.*->httpx>=0.25.2->langgraph-sdk>=0.1.42->langgraph) (0.16.0)\n",
      "Requirement already satisfied: jsonpointer>=1.9 in ./venv/lib/python3.11/site-packages (from jsonpatch<2.0,>=1.33->langchain-core>=0.1->langgraph) (3.0.0)\n",
      "Requirement already satisfied: requests<3,>=2 in ./venv/lib/python3.11/site-packages (from langsmith<0.4,>=0.1.125->langchain-core>=0.1->langgraph) (2.32.3)\n",
      "Requirement already satisfied: requests-toolbelt<2.0.0,>=1.0.0 in ./venv/lib/python3.11/site-packages (from langsmith<0.4,>=0.1.125->langchain-core>=0.1->langgraph) (1.0.0)\n",
      "Requirement already satisfied: zstandard<0.24.0,>=0.23.0 in ./venv/lib/python3.11/site-packages (from langsmith<0.4,>=0.1.125->langchain-core>=0.1->langgraph) (0.23.0)\n",
      "Requirement already satisfied: charset-normalizer<4,>=2 in ./venv/lib/python3.11/site-packages (from requests<3,>=2->langsmith<0.4,>=0.1.125->langchain-core>=0.1->langgraph) (3.4.2)\n",
      "Requirement already satisfied: urllib3<3,>=1.21.1 in ./venv/lib/python3.11/site-packages (from requests<3,>=2->langsmith<0.4,>=0.1.125->langchain-core>=0.1->langgraph) (2.4.0)\n",
      "Requirement already satisfied: sniffio>=1.1 in ./venv/lib/python3.11/site-packages (from anyio->httpx>=0.25.2->langgraph-sdk>=0.1.42->langgraph) (1.3.1)\n",
      "\n",
      "\u001b[1m[\u001b[0m\u001b[34;49mnotice\u001b[0m\u001b[1;39;49m]\u001b[0m\u001b[39;49m A new release of pip is available: \u001b[0m\u001b[31;49m23.2.1\u001b[0m\u001b[39;49m -> \u001b[0m\u001b[32;49m25.1.1\u001b[0m\n",
      "\u001b[1m[\u001b[0m\u001b[34;49mnotice\u001b[0m\u001b[1;39;49m]\u001b[0m\u001b[39;49m To update, run: \u001b[0m\u001b[32;49mpip install --upgrade pip\u001b[0m\n"
     ]
    }
   ],
   "source": [
    "# Installing langgraph package\n",
    "!pip install langgraph "
   ]
  },
  {
   "cell_type": "code",
   "execution_count": 2,
   "id": "07024fa6",
   "metadata": {},
   "outputs": [
    {
     "data": {
      "text/plain": [
       "True"
      ]
     },
     "execution_count": 2,
     "metadata": {},
     "output_type": "execute_result"
    }
   ],
   "source": [
    "# loading environment variables \n",
    "from dotenv import load_dotenv\n",
    "load_dotenv(override=True)  # take environment variables"
   ]
  },
  {
   "cell_type": "markdown",
   "id": "8ed7c482",
   "metadata": {},
   "source": [
    "## Learning about Graph\n",
    "\n",
    "Let's examine the simplest form of a graph as used in LangGraph. <br /><br />\n",
    "<img src=\"./assets/simple graph.png\" width=\"450\">\n",
    "\n",
    "A LangGraph graph is composed of the following components:\n",
    "1. State: The state represents the shared memory or context that flows through the graph. It is typically a structured data object (e.g., a dictionary or class) that holds intermediate inputs, outputs, and metadata across the graph's execution. The state is updated as it moves from node to node.\n",
    "\n",
    "2. Node: A node represents a unit of computation — usually a function, language model call, or tool execution. Each node operates on the incoming state, performs some processing, and returns an updated state. Nodes are the core logic blocks in LangGraph.\n",
    "\n",
    "3. Edge: An edge defines the transition between nodes. It determines which node to execute next based on the current state or the output of the previous node. Edges can be static (predefined paths) or dynamic (based on conditions or branching logic), enabling flexible and adaptive workflows.\n",
    "\n",
    "### State, Nodes, and Edges"
   ]
  },
  {
   "cell_type": "code",
   "execution_count": null,
   "id": "23117b7e",
   "metadata": {},
   "outputs": [],
   "source": [
    "# State\n",
    "from typing import TypedDict, Literal\n",
    "\n",
    "class State(TypedDict):\n",
    "    user_selection: str\n",
    "    graph_state: str\n",
    "\n",
    "# Nodes\n",
    "# Nodes are just python functions. Each node operates on the state.\n",
    "# Langgraph has 2 special nodes, called START node and END, to denote the start and the end of a graph.\n",
    "\n",
    "def node1(state):\n",
    "    print(\"---Inside Node No 1---\")\n",
    "    return {'graph_state': state['graph_state'] + \"Passing through Node 1. | \"}\n",
    "\n",
    "def node2(state):\n",
    "    print(\"---Inside Node No 2---\")\n",
    "    return {'graph_state': state['graph_state'] + \"Passing through Node 2. | \"}\n",
    "\n",
    "def node3(state):\n",
    "    print(\"---Inside Node No 3---\")\n",
    "    return {'graph_state': state['graph_state'] + \"Passing through Node 3. | \"}\n",
    "\n",
    "# Edges\n",
    "# 2 types of edges: normal edges vs conditional edges\n",
    "# Normal edges will be defined directly when we build the graph using langgraph\n",
    "# Conditional edges require a function to define the conditions\n",
    "# Here we will define an example of conditional edges\n",
    "\n",
    "def decide_your_way(state) -> Literal[\"Node2\", \"Node3\"]:\n",
    "    user_selection = state['user_selection']\n",
    "\n",
    "    if user_selection == \"Node 2\":\n",
    "        return \"Node2\"\n",
    "    else:\n",
    "        return \"Node3\"\n",
    " "
   ]
  },
  {
   "cell_type": "markdown",
   "id": "de03a6c1",
   "metadata": {},
   "source": [
    "### Graph Construction\n",
    "Let's connect those nodes into a graph using StateGraph from LangGraph."
   ]
  },
  {
   "cell_type": "code",
   "execution_count": 22,
   "id": "b7b202af",
   "metadata": {},
   "outputs": [
    {
     "data": {
      "image/png": "[encoded data removed]",
      "text/plain": [
       "<IPython.core.display.Image object>"
      ]
     },
     "metadata": {},
     "output_type": "display_data"
    }
   ],
   "source": [
    "from langgraph.graph import StateGraph, START, END\n",
    "\n",
    "# Build the nodes\n",
    "builder = StateGraph(State)\n",
    "builder.add_node(\"Node1\", node1)\n",
    "builder.add_node(\"Node2\", node2)\n",
    "builder.add_node(\"Node3\", node3)\n",
    "\n",
    "# Connect Edges\n",
    "builder.add_edge(START, \"Node1\")\n",
    "builder.add_conditional_edges(\"Node1\", decide_your_way)\n",
    "builder.add_edge(\"Node2\", END)\n",
    "builder.add_edge(\"Node3\", END)\n",
    "\n",
    "# Compile graph\n",
    "graph = builder.compile()\n",
    "\n",
    "# View\n",
    "from IPython.display import Image, display\n",
    "display(Image(graph.get_graph().draw_mermaid_png()))\n",
    "\n"
   ]
  },
  {
   "cell_type": "markdown",
   "id": "69c3f58f",
   "metadata": {},
   "source": [
    "### Graph Invocation"
   ]
  },
  {
   "cell_type": "code",
   "execution_count": 23,
   "id": "72a229ed",
   "metadata": {},
   "outputs": [
    {
     "name": "stdout",
     "output_type": "stream",
     "text": [
      "---Inside Node No 1---\n",
      "---Inside Node 3---\n"
     ]
    },
    {
     "data": {
      "text/plain": [
       "{'user_selection': 'Node 3',\n",
       " 'graph_state': 'START | Passing through Node 1. | Passing through Node 3. | '}"
      ]
     },
     "execution_count": 23,
     "metadata": {},
     "output_type": "execute_result"
    }
   ],
   "source": [
    "# Graph invocation\n",
    "user_input = input(\"Decide which way you want to go (Node 2 or Node 3): \")\n",
    "graph.invoke({'user_selection': user_input, 'graph_state': \"START | \"})"
   ]
  },
  {
   "cell_type": "markdown",
   "id": "bf6c461f",
   "metadata": {},
   "source": [
    "## State Schema\n",
    "\n",
    "When you initiate a builder in LangGraph, you need to provide the schema of the graph's state to the StateGraph class. This schema defines the structure and data types of the state. Previously, the schema was created using the TypedDict class, but it can also be defined using Python's dataclass or the Pydantic library. Using Pydantic allows you to enforce type validation, offering better protection for the state's parameters."
   ]
  },
  {
   "cell_type": "code",
   "execution_count": 33,
   "id": "35a22aa2",
   "metadata": {},
   "outputs": [],
   "source": [
    "# Previous schema, but we put limitation on user_selection parameter to only valid for 2 values only\n",
    "class TypedDictState(TypedDict):\n",
    "    user_selection: Literal[\"Node 2\", \"Node 3\"]\n",
    "    graph_state: str\n",
    "\n",
    "# modify the conditional node \n",
    "def choose_paths(state):\n",
    "    user_selection = state['user_selection']\n",
    "\n",
    "    if user_selection == \"Node 2\":\n",
    "        return \"Node2\"\n",
    "    elif user_selection == \"Node 3\":\n",
    "        return \"Node3\"\n",
    "    else: \n",
    "        return END\n",
    "\n",
    "# Build the nodes\n",
    "builder = StateGraph(TypedDictState)\n",
    "builder.add_node(\"Node1\", node1)\n",
    "builder.add_node(\"Node2\", node2)\n",
    "builder.add_node(\"Node3\", node3)\n",
    "\n",
    "# Connect Edges\n",
    "builder.add_edge(START, \"Node1\")\n",
    "builder.add_conditional_edges(\"Node1\", choose_paths)\n",
    "builder.add_edge(\"Node2\", END)\n",
    "builder.add_edge(\"Node3\", END)\n",
    "\n",
    "# Compile graph\n",
    "graph2 = builder.compile()"
   ]
  },
  {
   "cell_type": "code",
   "execution_count": 32,
   "id": "b36576db",
   "metadata": {},
   "outputs": [
    {
     "name": "stdout",
     "output_type": "stream",
     "text": [
      "---Inside Node No 1---\n"
     ]
    },
    {
     "data": {
      "text/plain": [
       "{'user_selection': 'buki', 'graph_state': 'START | Passing through Node 1. | '}"
      ]
     },
     "execution_count": 32,
     "metadata": {},
     "output_type": "execute_result"
    }
   ],
   "source": [
    "user_input = input(\"Decide which way you want to go (Node 2 or Node 3): \")\n",
    "graph2.invoke({'user_selection': user_input, 'graph_state': \"START | \"})"
   ]
  },
  {
   "cell_type": "code",
   "execution_count": 49,
   "id": "fec3dc24",
   "metadata": {},
   "outputs": [],
   "source": [
    "## Pydantic\n",
    "from langchain_core.pydantic_v1 import BaseModel, ValidationError\n",
    "\n",
    "class PydanticState(BaseModel):\n",
    "    user_selection: Literal[\"Node 2\", \"Node 3\"]\n",
    "    graph_state: str"
   ]
  },
  {
   "cell_type": "code",
   "execution_count": null,
   "id": "9a74a3be",
   "metadata": {},
   "outputs": [
    {
     "data": {
      "text/plain": [
       "PydanticState(user_selection='Node 2', graph_state='3')"
      ]
     },
     "execution_count": 46,
     "metadata": {},
     "output_type": "execute_result"
    }
   ],
   "source": [
    "# PydanticState(user_selection=\"Node 4\", graph_state=3) \n",
    "# PydanticState(user_selection=\"Node 2\", graph_state=3)"
   ]
  },
  {
   "cell_type": "code",
   "execution_count": 61,
   "id": "dcbf87cf",
   "metadata": {},
   "outputs": [
    {
     "data": {
      "text/plain": [
       "'fi'"
      ]
     },
     "execution_count": 61,
     "metadata": {},
     "output_type": "execute_result"
    }
   ],
   "source": [
    "a = PydanticState(user_selection=\"Node 2\", graph_state=\"fi\") \n",
    "a.graph_state"
   ]
  },
  {
   "cell_type": "code",
   "execution_count": 62,
   "id": "5b6beb48",
   "metadata": {},
   "outputs": [],
   "source": [
    "# Build the nodes\n",
    "def node1(state):\n",
    "    print(\"---Inside Node No 1---\")\n",
    "    return {'graph_state': state.graph_state + \"Passing through Node 1. | \"}\n",
    "\n",
    "def node2(state):\n",
    "    print(\"---Inside Node No 2---\")\n",
    "    return {'graph_state': state.graph_state + \"Passing through Node 2. | \"}\n",
    "\n",
    "def node3(state):\n",
    "    print(\"---Inside Node No 3---\")\n",
    "    return {'graph_state': state.graph_state + \"Passing through Node 3. | \"}\n",
    "\n",
    "def choose_paths(state):\n",
    "    user_selection = state.user_selection\n",
    "\n",
    "    if user_selection == \"Node 2\":\n",
    "        return \"Node2\"\n",
    "    elif user_selection == \"Node 3\":\n",
    "        return \"Node3\"\n",
    "    else: \n",
    "        return END\n",
    "    \n",
    "builder = StateGraph(PydanticState)\n",
    "builder.add_node(\"Node1\", node1)\n",
    "builder.add_node(\"Node2\", node2)\n",
    "builder.add_node(\"Node3\", node3)\n",
    "\n",
    "# Connect Edges\n",
    "builder.add_edge(START, \"Node1\")\n",
    "builder.add_conditional_edges(\"Node1\", choose_paths)\n",
    "builder.add_edge(\"Node2\", END)\n",
    "builder.add_edge(\"Node3\", END)\n",
    "\n",
    "# Compile graph\n",
    "graph3 = builder.compile()"
   ]
  },
  {
   "cell_type": "code",
   "execution_count": 77,
   "id": "3c1da6a0",
   "metadata": {},
   "outputs": [
    {
     "name": "stdout",
     "output_type": "stream",
     "text": [
      "1 validation error for PydanticState\n",
      "user_selection\n",
      "  unexpected value; permitted: 'Node 2', 'Node 3' (type=value_error.const; given=hey; permitted=('Node 2', 'Node 3'))\n",
      "None\n"
     ]
    }
   ],
   "source": [
    "user_input = input(\"Decide which way you want to go (Node 2 or Node 3): \")\n",
    "\n",
    "graph_state = None\n",
    "try: \n",
    "    graph_state = graph3.invoke({'user_selection': user_input, 'graph_state': \"START | \"})\n",
    "except ValidationError as e:\n",
    "    print(e)\n",
    "\n",
    "print(graph_state)"
   ]
  },
  {
   "cell_type": "markdown",
   "id": "6dd4e88a",
   "metadata": {},
   "source": [
    "## Message Reducers"
   ]
  },
  {
   "cell_type": "code",
   "execution_count": null,
   "id": "181ee87e",
   "metadata": {},
   "outputs": [
    {
     "data": {
      "text/plain": [
       "[AIMessage(content='Hello, How can I help you?', additional_kwargs={}, response_metadata={}, name='GPT', id='b9449100-54fc-4adf-a6b9-5db7baabc7df'),\n",
       " HumanMessage(content=\"I'm learning about generative AI, please explain about it.\", additional_kwargs={}, response_metadata={}, name='Hizkia', id='d4e424b3-94e3-4612-82ed-d5bb4e10b9c5'),\n",
       " AIMessage(content='Sure, I can help you with that. Here is a brief explanation about generative AI. Generative AI is.... ', additional_kwargs={}, response_metadata={}, name='GPT4', id='b5451bc3-14db-4c2a-b3b3-04f7166dbbc2')]"
      ]
     },
     "execution_count": 78,
     "metadata": {},
     "output_type": "execute_result"
    }
   ],
   "source": [
    "# MessagesState \n",
    "# Built-in state for working with messages \n",
    "\n",
    "from langgraph.graph import MessagesState\n",
    "from langchain_core.messages import AIMessage, HumanMessage\n",
    "from langgraph.graph.message import add_messages\n",
    "\n",
    "# Append Messages into the state\n",
    "initial_state = [AIMessage(content=\"Hello, How can I help you?\", name = \"GPT\"),\n",
    "                 HumanMessage(content=\"I'm learning about generative AI, please explain about it.\", name = \"Hizkia\")\n",
    "                 ]\n",
    "\n",
    "new_message = AIMessage(content=\"Sure, I can help you with that. Here is a brief explanation about generative AI. Generative AI is.... \", name = \"GPT4\")\n",
    "\n",
    "# append\n",
    "add_messages(initial_state, new_message)\n",
    "\n",
    "# the MessagesState Class has embedded add_messages function so a new message will be automatically appended into the state."
   ]
  },
  {
   "cell_type": "code",
   "execution_count": 79,
   "id": "280c26e6",
   "metadata": {},
   "outputs": [
    {
     "data": {
      "text/plain": [
       "[AIMessage(content='Hello, How can I help you?', additional_kwargs={}, response_metadata={}, name='GPT', id='1'),\n",
       " HumanMessage(content='I am looking for definition of agentic AI.', additional_kwargs={}, response_metadata={}, name='GPT4', id='2')]"
      ]
     },
     "execution_count": 79,
     "metadata": {},
     "output_type": "execute_result"
    }
   ],
   "source": [
    "# Rewriting Messages \n",
    "# use id \n",
    "\n",
    "initial_state = [AIMessage(content=\"Hello, How can I help you?\", name = \"GPT\", id = 1),\n",
    "                 HumanMessage(content=\"I'm learning about generative AI, please explain about it.\", name = \"Hizkia\", id = 2)\n",
    "                 ]\n",
    "\n",
    "new_message = HumanMessage(content=\"I am looking for definition of agentic AI.\", name = \"GPT4\", id = 2)\n",
    "\n",
    "add_messages(initial_state, new_message)"
   ]
  },
  {
   "cell_type": "code",
   "execution_count": 80,
   "id": "e967974c",
   "metadata": {},
   "outputs": [
    {
     "name": "stdout",
     "output_type": "stream",
     "text": [
      "[RemoveMessage(content='', additional_kwargs={}, response_metadata={}, id='1'), RemoveMessage(content='', additional_kwargs={}, response_metadata={}, id='2')]\n"
     ]
    }
   ],
   "source": [
    "# Deleting Messages \n",
    "\n",
    "from langchain_core.messages import RemoveMessage\n",
    "\n",
    "# Message List \n",
    "messages = [AIMessage(content=\"Hi, My name is ChatGPT. How may I help you?\", name=\"Bot\", id=1)]\n",
    "messages.append(HumanMessage(content=\"Hi.\", name=\"Hizkia\", id=2))\n",
    "messages.append(AIMessage(content=\"So you said you were looking for information on agentic AI?\", name=\"Bot\", id=3))\n",
    "messages.append(HumanMessage(content=\"Yes, can u provide the brief definition of the term agentic AI?\", name=\"Bot\", id=4))\n",
    "\n",
    "# Delete all but the 2 most recent messages\n",
    "delete_messages = [RemoveMessage(id=m.id) for m in messages[:-2]]\n",
    "print(delete_messages)"
   ]
  },
  {
   "cell_type": "code",
   "execution_count": 81,
   "id": "1f7d0a55",
   "metadata": {},
   "outputs": [
    {
     "data": {
      "text/plain": [
       "[AIMessage(content='So you said you were looking for information on agentic AI?', additional_kwargs={}, response_metadata={}, name='Bot', id='3'),\n",
       " HumanMessage(content='Yes, can u provide the brief definition of the term agentic AI?', additional_kwargs={}, response_metadata={}, name='Bot', id='4')]"
      ]
     },
     "execution_count": 81,
     "metadata": {},
     "output_type": "execute_result"
    }
   ],
   "source": [
    "add_messages(messages, delete_messages)"
   ]
  },
  {
   "cell_type": "markdown",
   "id": "10f1bad7",
   "metadata": {},
   "source": [
    "## MessagesState as a state"
   ]
  },
  {
   "cell_type": "code",
   "execution_count": 82,
   "id": "12069dcb",
   "metadata": {},
   "outputs": [],
   "source": [
    "# Initiating Langchain Chat Models\n",
    "from langchain.chat_models import init_chat_model\n",
    "model = init_chat_model(\"gpt-4.1-mini\", model_provider= \"openai\")"
   ]
  },
  {
   "cell_type": "code",
   "execution_count": 83,
   "id": "d60d0cd8",
   "metadata": {},
   "outputs": [
    {
     "data": {
      "image/png": "[encoded data removed]",
      "text/plain": [
       "<IPython.core.display.Image object>"
      ]
     },
     "metadata": {},
     "output_type": "display_data"
    }
   ],
   "source": [
    "from langgraph.graph import MessagesState\n",
    "from langgraph.graph import StateGraph, START, END\n",
    "\n",
    "# Node to invoke an LLM\n",
    "def call_llm(state: MessagesState):\n",
    "    return {\"messages\": model.invoke(state['messages'])}\n",
    "\n",
    "# build the graph \n",
    "builder = StateGraph(MessagesState)\n",
    "builder.add_node(\"call_llm\", call_llm)\n",
    "\n",
    "builder.add_edge(START, \"call_llm\")\n",
    "builder.add_edge(\"call_llm\", END)\n",
    "graph = builder.compile()\n",
    "\n",
    "display(Image(graph.get_graph().draw_mermaid_png()))"
   ]
  },
  {
   "cell_type": "code",
   "execution_count": 84,
   "id": "b67525de",
   "metadata": {},
   "outputs": [
    {
     "name": "stdout",
     "output_type": "stream",
     "text": [
      "================================\u001b[1m Human Message \u001b[0m=================================\n",
      "Name: Hizkia\n",
      "\n",
      "Hi\n",
      "==================================\u001b[1m Ai Message \u001b[0m==================================\n",
      "\n",
      "Hello! How can I assist you today?\n"
     ]
    }
   ],
   "source": [
    "# \n",
    "output = graph.invoke({'messages': HumanMessage(content=\"Hi\", name = \"Hizkia\")})\n",
    "\n",
    "for m in output['messages']:\n",
    "    m.pretty_print()"
   ]
  },
  {
   "cell_type": "code",
   "execution_count": null,
   "id": "e87e3a5b",
   "metadata": {},
   "outputs": [
    {
     "name": "stdout",
     "output_type": "stream",
     "text": [
      "================================\u001b[1m Human Message \u001b[0m=================================\n",
      "Name: Hizkia\n",
      "\n",
      "Can you explain about agentic AI?\n",
      "==================================\u001b[1m Ai Message \u001b[0m==================================\n",
      "\n",
      "Certainly! **Agentic AI** refers to artificial intelligence systems designed with some level of agency — meaning they can perceive their environment, make decisions, and take actions autonomously to achieve specific goals. Unlike simple automated tools that follow fixed instructions, agentic AI can:\n",
      "\n",
      "- **Sense and interpret data:** It gathers information from its surroundings or inputs.\n",
      "- **Reason and plan:** It evaluates options, predicts outcomes, and formulates strategies.\n",
      "- **Act independently:** It takes actions without constant human intervention, adapting to changes and unforeseen circumstances.\n",
      "\n",
      "### Key Characteristics of Agentic AI:\n",
      "1. **Autonomy:** Operates on its own within defined boundaries.\n",
      "2. **Goal-oriented behavior:** Works toward achieving explicit objectives.\n",
      "3. **Adaptiveness:** Learns from experience and adjusts its actions.\n",
      "4. **Interactive:** Often able to communicate or collaborate with humans or other agents.\n",
      "\n",
      "### Examples:\n",
      "- **Robotics:** A delivery robot navigating city streets.\n",
      "- **Virtual agents:** AI assistants managing scheduling, emails, or customer service.\n",
      "- **Game AI:** Non-player characters that adapt to player strategies.\n",
      "\n",
      "### Importance:\n",
      "Agentic AI represents a step toward more sophisticated and capable AI systems that can handle complex tasks without continuous supervision, potentially increasing efficiency and enabling new applications. However, it also raises important ethical and safety considerations about control, reliability, and accountability.\n",
      "\n",
      "If you want, I can also explain how agentic AI fits into broader AI categories or discuss its risks and challenges!\n"
     ]
    }
   ],
   "source": [
    "output = graph.invoke({'messages': HumanMessage(content=\"Can you explain about agentic AI?\", name = \"Hizkia\")})\n",
    "\n",
    "for m in output['messages']:\n",
    "    m.pretty_print()"
   ]
  },
  {
   "cell_type": "markdown",
   "id": "b6f7e11f",
   "metadata": {},
   "source": [
    "## Chaining\n",
    "Let us recreate prompt chaining that we did in Lab 1b, now using Langgraph, instead of using Langchain."
   ]
  },
  {
   "cell_type": "code",
   "execution_count": 112,
   "id": "e0485c55",
   "metadata": {},
   "outputs": [],
   "source": [
    "# Here the graph receives an input text, and generates 3 questions and answers based on the input text.\n",
    "\n",
    "from langgraph.graph import MessagesState\n",
    "from langgraph.graph import StateGraph, START, END\n",
    "from langchain_core.messages import HumanMessage, SystemMessage, AIMessage\n",
    "\n",
    "input_text = \"\"\"\n",
    "Artificial Intelligence (AI) is transforming industries by enabling machines to learn from data, \n",
    "make decisions, and even improve over time. Applications range from chatbots and virtual assistants \n",
    "to complex data analytics and autonomous vehicles. However, AI also brings challenges such as ethical concerns, \n",
    "bias in algorithms, and job displacement. As AI continues to evolve, balancing innovation with responsible \n",
    "development will be key to its long-term success.\n",
    "\"\"\"\n",
    "\n",
    "# The first node in the chain\n",
    "def summarize(state: MessagesState):\n",
    "    \"\"\"\n",
    "        This tool is called when the user instructs assistant to summarize the passage. Make sure the passage is given by the user before calling this tool. \n",
    "        Ask the user to provide the passage first if you do not find the passage in the conversation. \n",
    "\n",
    "        Receiving the state of the graph as input.\n",
    "    \"\"\"\n",
    "    prompt = [\n",
    "        SystemMessage(content=\"Summarize the following passage from the user.\")\n",
    "    ] +  state['messages']\n",
    "\n",
    "    response = model.invoke(prompt)\n",
    "\n",
    "    return {'messages': AIMessage(content=response.content, name=\"Bot\", id=response.id)}\n",
    "\n",
    "# The second node in the chain\n",
    "def generate_questions(state: MessagesState):\n",
    "    \"\"\" \n",
    "        This tool is called to generate 3 questions related to a passage. Make sure the passage is given by the user before calling this tool. \n",
    "        Ask the user to provide the passage first if you do not find the passage in the conversation. \n",
    "\n",
    "        Receiving the state of the graph as input.\n",
    "    \"\"\"\n",
    "    prompt = [\n",
    "        SystemMessage(content=\"Create 3 questions from the passage that the user provides.\")\n",
    "    ] + state['messages']\n",
    "\n",
    "    response = model.invoke(prompt)\n",
    "\n",
    "    return {'messages': AIMessage(content=response.content, name=\"Bot\")}\n",
    "\n",
    "# The third node in the chain \n",
    "def answer_questions(state: MessagesState):\n",
    "    \"\"\" \n",
    "        This tool is usually called right after the generate_questions tool. Make sure the passage is given by the user before calling this tool. \n",
    "        Ask the user to provide the passage first if you do not find the passage in the conversation. \n",
    "\n",
    "        Receiving the state of the graph as input.\n",
    "    \"\"\"\n",
    "    prompt = [\n",
    "        SystemMessage(content=\"Answer all questions that you previously created based on the passage that the user provides. Format your response in pairs of Question and Answers\")\n",
    "    ] + state['messages']\n",
    "\n",
    "    response = model.invoke(prompt)\n",
    "\n",
    "    return {'messages': AIMessage(content=response.content, name=\"Bot\")}\n",
    "\n",
    "builder = StateGraph(MessagesState)\n",
    "builder.add_node(\"summarize_node\", summarize)\n",
    "builder.add_node(\"generate_question_node\", generate_questions)\n",
    "builder.add_node(\"answer_question_node\", answer_questions)\n",
    "builder.add_edge(START, \"summarize_node\")\n",
    "builder.add_edge(\"summarize_node\", \"generate_question_node\")\n",
    "builder.add_edge(\"generate_question_node\", \"answer_question_node\")\n",
    "builder.add_edge(\"answer_question_node\", END)\n",
    "graph = builder.compile()\n",
    "\n",
    "# user prompt\n",
    "prompt = HumanMessage(content=input_text, name=\"Hizkia\")\n",
    "graph_output = graph.invoke({\"messages\": prompt})"
   ]
  },
  {
   "cell_type": "code",
   "execution_count": 106,
   "id": "2ea85258",
   "metadata": {},
   "outputs": [
    {
     "data": {
      "text/plain": [
       "\"1. What are some common applications of Artificial Intelligence mentioned in the passage?  \\nAnswer: The passage mentions chatbots, virtual assistants, complex data analytics, and autonomous vehicles as common applications of Artificial Intelligence.\\n\\n2. What challenges associated with AI are highlighted in the text?  \\nAnswer: The passage highlights ethical concerns, bias in algorithms, and job displacement as the main challenges associated with AI.\\n\\n3. Why is balancing innovation with responsible development important for AI's future?  \\nAnswer: Balancing innovation with responsible development is important for AI's long-term success, as it helps to address the challenges and ensures that AI evolves in a way that benefits society responsibly.\""
      ]
     },
     "execution_count": 106,
     "metadata": {},
     "output_type": "execute_result"
    }
   ],
   "source": [
    "graph_output['messages'][-1].content"
   ]
  },
  {
   "cell_type": "code",
   "execution_count": 107,
   "id": "ef3645ad",
   "metadata": {},
   "outputs": [
    {
     "name": "stdout",
     "output_type": "stream",
     "text": [
      "================================\u001b[1m Human Message \u001b[0m=================================\n",
      "Name: Hizkia\n",
      "\n",
      "\n",
      "Artificial Intelligence (AI) is transforming industries by enabling machines to learn from data, \n",
      "make decisions, and even improve over time. Applications range from chatbots and virtual assistants \n",
      "to complex data analytics and autonomous vehicles. However, AI also brings challenges such as ethical concerns, \n",
      "bias in algorithms, and job displacement. As AI continues to evolve, balancing innovation with responsible \n",
      "development will be key to its long-term success.\n",
      "\n",
      "==================================\u001b[1m Ai Message \u001b[0m==================================\n",
      "Name: Bot\n",
      "\n",
      "Artificial Intelligence (AI) is revolutionizing various industries by allowing machines to learn, make decisions, and improve continuously. Its applications include chatbots, virtual assistants, data analytics, and autonomous vehicles. Despite its benefits, AI poses challenges like ethical issues, algorithmic bias, and job displacement. Achieving a balance between innovation and responsible AI development is crucial for its sustainable success.\n",
      "==================================\u001b[1m Ai Message \u001b[0m==================================\n",
      "Name: Bot\n",
      "\n",
      "1. What are some common applications of Artificial Intelligence mentioned in the passage?  \n",
      "2. What challenges associated with AI are highlighted in the text?  \n",
      "3. Why is balancing innovation with responsible development important for AI's future?\n",
      "==================================\u001b[1m Ai Message \u001b[0m==================================\n",
      "Name: Bot\n",
      "\n",
      "1. What are some common applications of Artificial Intelligence mentioned in the passage?  \n",
      "Answer: The passage mentions chatbots, virtual assistants, complex data analytics, and autonomous vehicles as common applications of Artificial Intelligence.\n",
      "\n",
      "2. What challenges associated with AI are highlighted in the text?  \n",
      "Answer: The passage highlights ethical concerns, bias in algorithms, and job displacement as the main challenges associated with AI.\n",
      "\n",
      "3. Why is balancing innovation with responsible development important for AI's future?  \n",
      "Answer: Balancing innovation with responsible development is important for AI's long-term success, as it helps to address the challenges and ensures that AI evolves in a way that benefits society responsibly.\n"
     ]
    }
   ],
   "source": [
    "for m in graph_output['messages']:\n",
    "    m.pretty_print()"
   ]
  },
  {
   "cell_type": "markdown",
   "id": "8f08ea45",
   "metadata": {},
   "source": [
    "## Agents with Tools"
   ]
  },
  {
   "cell_type": "code",
   "execution_count": 113,
   "id": "3c07cadc",
   "metadata": {},
   "outputs": [
    {
     "data": {
      "image/png": "[encoded data removed]",
      "text/plain": [
       "<IPython.core.display.Image object>"
      ]
     },
     "metadata": {},
     "output_type": "display_data"
    }
   ],
   "source": [
    "# Create tools \n",
    "tools = [summarize, generate_questions, answer_questions]\n",
    "model_with_tools = model.bind_tools(tools)\n",
    "\n",
    "# Create Assistant Node\n",
    "\n",
    "def assistant(state: MessagesState):\n",
    "\n",
    "    sys_msg = SystemMessage(content=\"You are a helpful assistant who communicates with the user and decide what the user intends to do. \\n\" \\\n",
    "                            \"When the user says greeting, reponds the greeting politely and introduce yourself as Dexa Smart Assistant.\\n\" \\\n",
    "                            \"When the user instructs you to summarize a passage, ask user to give the passage first, then call the summarize tool.\\n\" \\\n",
    "                            \"When the user asks you to generate questions, ask the user to give you the passage, then call the generate_questions and answer_questions tools sequentially\" \\\n",
    "                            \"When the passage exists in the chat history, directly call the tools.\")\n",
    "    \n",
    "    return {'messages': [model_with_tools.invoke([sys_msg] + state['messages'])]}\n",
    "\n",
    "# Build the graph \n",
    "from langgraph.prebuilt import ToolNode, tools_condition\n",
    "builder = StateGraph(MessagesState)\n",
    "\n",
    "# Define nodes\n",
    "builder.add_node(\"assistant\", assistant)\n",
    "builder.add_node(\"tools\", ToolNode(tools))\n",
    "\n",
    "# Define edges \n",
    "builder.add_edge(START, \"assistant\")\n",
    "builder.add_conditional_edges(\n",
    "    \"assistant\",\n",
    "    tools_condition\n",
    ")\n",
    "builder.add_edge(\"tools\", \"assistant\")\n",
    "react_graph = builder.compile()\n",
    "\n",
    "# Show graph \n",
    "display(Image(react_graph.get_graph(xray=True).draw_mermaid_png()))"
   ]
  },
  {
   "cell_type": "code",
   "execution_count": null,
   "id": "628b4120",
   "metadata": {},
   "outputs": [
    {
     "data": {
      "text/plain": [
       "{'messages': [HumanMessage(content='I want to summarize the passage.', additional_kwargs={}, response_metadata={}, id='566e958a-77dc-4e19-94ff-5cecba83d33f'),\n",
       "  AIMessage(content='Sure! Please provide the passage you want me to summarize.', additional_kwargs={'refusal': None}, response_metadata={'token_usage': {'completion_tokens': 14, 'prompt_tokens': 9149, 'total_tokens': 9163, 'completion_tokens_details': {'accepted_prediction_tokens': 0, 'audio_tokens': 0, 'reasoning_tokens': 0, 'rejected_prediction_tokens': 0}, 'prompt_tokens_details': {'audio_tokens': 0, 'cached_tokens': 9088}}, 'model_name': 'gpt-4.1-mini-2025-04-14', 'system_fingerprint': 'fp_79b79be41f', 'id': 'chatcmpl-BWQFDju86EvwwklcbiJ5hJwWx2BeK', 'service_tier': 'default', 'finish_reason': 'stop', 'logprobs': None}, id='run--93c9e336-12b2-4314-8e05-8ee9c856be9a-0', usage_metadata={'input_tokens': 9149, 'output_tokens': 14, 'total_tokens': 9163, 'input_token_details': {'audio': 0, 'cache_read': 9088}, 'output_token_details': {'audio': 0, 'reasoning': 0}})]}"
      ]
     },
     "execution_count": 118,
     "metadata": {},
     "output_type": "execute_result"
    }
   ],
   "source": [
    "##\n",
    "# graph_output = react_graph.invoke({'messages': HumanMessage(content=\"Hi, good morning.\")})\n",
    "# graph_output = react_graph.invoke({'messages': HumanMessage(content=\"Help me summarize a passage.\")})\n",
    "# graph_output = react_graph.invoke({'messages': HumanMessage(content=input_text)})\n",
    "graph_output = react_graph.invoke({'messages': HumanMessage(content=\"I want to summarize the passage.\")})\n",
    "graph_output\n",
    "\n",
    "### \n",
    "# In the end the assistant does not call any tool because it does not remember the whole conversation. Let's add a memory to the graph so it remembers the conversation"
   ]
  },
  {
   "cell_type": "markdown",
   "id": "0b698c5b",
   "metadata": {},
   "source": [
    "## Memory"
   ]
  },
  {
   "cell_type": "code",
   "execution_count": 120,
   "id": "59cf6adc",
   "metadata": {},
   "outputs": [],
   "source": [
    "from langgraph.checkpoint.memory import MemorySaver\n",
    "memory = MemorySaver()\n",
    "\n",
    "react_graph_memory = builder.compile(checkpointer=memory)"
   ]
  },
  {
   "cell_type": "code",
   "execution_count": null,
   "id": "da152c8c",
   "metadata": {},
   "outputs": [
    {
     "name": "stdout",
     "output_type": "stream",
     "text": [
      "================================\u001b[1m Human Message \u001b[0m=================================\n",
      "\n",
      "Hi, good afternoon.\n",
      "==================================\u001b[1m Ai Message \u001b[0m==================================\n",
      "\n",
      "Good afternoon! I am Dexa Smart Assistant. How may I assist you today?\n",
      "================================\u001b[1m Human Message \u001b[0m=================================\n",
      "\n",
      "Help me summarize a passage.\n",
      "==================================\u001b[1m Ai Message \u001b[0m==================================\n",
      "\n",
      "Sure, please provide the passage that you would like me to summarize.\n",
      "================================\u001b[1m Human Message \u001b[0m=================================\n",
      "\n",
      "\n",
      "Artificial Intelligence (AI) is transforming industries by enabling machines to learn from data, \n",
      "make decisions, and even improve over time. Applications range from chatbots and virtual assistants \n",
      "to complex data analytics and autonomous vehicles. However, AI also brings challenges such as ethical concerns, \n",
      "bias in algorithms, and job displacement. As AI continues to evolve, balancing innovation with responsible \n",
      "development will be key to its long-term success.\n",
      "\n",
      "==================================\u001b[1m Ai Message \u001b[0m==================================\n",
      "Tool Calls:\n",
      "  summarize (call_7LpwobBG8QzN8jRT3MRQzHKq)\n",
      " Call ID: call_7LpwobBG8QzN8jRT3MRQzHKq\n",
      "  Args:\n",
      "    state: {'messages': [{'type': 'human', 'content': 'Artificial Intelligence (AI) is transforming industries by enabling machines to learn from data, make decisions, and even improve over time. Applications range from chatbots and virtual assistants to complex data analytics and autonomous vehicles. However, AI also brings challenges such as ethical concerns, bias in algorithms, and job displacement. As AI continues to evolve, balancing innovation with responsible development will be key to its long-term success.'}]}\n",
      "=================================\u001b[1m Tool Message \u001b[0m=================================\n",
      "Name: summarize\n",
      "\n",
      "{'messages': AIMessage(content=\"Artificial Intelligence is revolutionizing various industries through machine learning, decision-making, and continuous improvement, with applications like chatbots, data analytics, and autonomous vehicles. Despite its benefits, AI poses challenges including ethical issues, algorithmic bias, and job losses. Ensuring responsible development alongside innovation is crucial for AI's sustainable future.\", additional_kwargs={}, response_metadata={}, name='Bot', id='run--2df31054-1a22-48eb-ac72-8ff18ff7332d-0')}\n",
      "==================================\u001b[1m Ai Message \u001b[0m==================================\n",
      "\n",
      "Artificial Intelligence is revolutionizing various industries through machine learning, decision-making, and continuous improvement. It has applications in chatbots, data analytics, and autonomous vehicles. Despite its benefits, AI poses challenges such as ethical issues, algorithmic bias, and job displacement. Ensuring responsible development alongside innovation is crucial for the sustainable future of AI.\n",
      "================================\u001b[1m Human Message \u001b[0m=================================\n",
      "\n",
      "Great! Now can u generate quesions out of it?\n",
      "==================================\u001b[1m Ai Message \u001b[0m==================================\n",
      "\n",
      "Please provide the passage you want me to generate questions from, or I can use the passage you previously provided about Artificial Intelligence. Which do you prefer?\n",
      "================================\u001b[1m Human Message \u001b[0m=================================\n",
      "\n",
      "you can use the previous passage.\n",
      "==================================\u001b[1m Ai Message \u001b[0m==================================\n",
      "Tool Calls:\n",
      "  generate_questions (call_ol1VWFxgxsByBGvXICwk9Ea2)\n",
      " Call ID: call_ol1VWFxgxsByBGvXICwk9Ea2\n",
      "  Args:\n",
      "    state: {'messages': [{'type': 'human', 'content': 'Artificial Intelligence (AI) is transforming industries by enabling machines to learn from data, make decisions, and even improve over time. Applications range from chatbots and virtual assistants to complex data analytics and autonomous vehicles. However, AI also brings challenges such as ethical concerns, bias in algorithms, and job displacement. As AI continues to evolve, balancing innovation with responsible development will be key to its long-term success.'}]}\n",
      "=================================\u001b[1m Tool Message \u001b[0m=================================\n",
      "Name: generate_questions\n",
      "\n",
      "{'messages': AIMessage(content='1. How does Artificial Intelligence enable machines to improve over time?  \\n2. What are some of the challenges associated with AI development mentioned in the passage?  \\n3. Why is balancing innovation with responsible development important for the future of AI?', additional_kwargs={}, response_metadata={}, name='Bot')}\n",
      "==================================\u001b[1m Ai Message \u001b[0m==================================\n",
      "\n",
      "Here are three questions generated from the passage about Artificial Intelligence:\n",
      "1. How does Artificial Intelligence enable machines to improve over time?\n",
      "2. What are some of the challenges associated with AI development mentioned in the passage?\n",
      "3. Why is balancing innovation with responsible development important for the future of AI?\n",
      "================================\u001b[1m Human Message \u001b[0m=================================\n",
      "\n",
      "Now, provide also the answer to those questions.\n",
      "==================================\u001b[1m Ai Message \u001b[0m==================================\n",
      "Tool Calls:\n",
      "  answer_questions (call_3Az0QzXb8c2QfvLyYig3BCmT)\n",
      " Call ID: call_3Az0QzXb8c2QfvLyYig3BCmT\n",
      "  Args:\n",
      "    state: {'messages': [{'type': 'human', 'content': 'Artificial Intelligence (AI) is transforming industries by enabling machines to learn from data, make decisions, and even improve over time. Applications range from chatbots and virtual assistants to complex data analytics and autonomous vehicles. However, AI also brings challenges such as ethical concerns, bias in algorithms, and job displacement. As AI continues to evolve, balancing innovation with responsible development will be key to its long-term success.'}, {'type': 'ai', 'content': '1. How does Artificial Intelligence enable machines to improve over time?  \\n2. What are some of the challenges associated with AI development mentioned in the passage?  \\n3. Why is balancing innovation with responsible development important for the future of AI?'}]}\n",
      "=================================\u001b[1m Tool Message \u001b[0m=================================\n",
      "Name: answer_questions\n",
      "\n",
      "{'messages': AIMessage(content=\"1. How does Artificial Intelligence enable machines to improve over time?  \\n- Artificial Intelligence enables machines to improve over time by learning from data, making decisions, and adapting based on new information.\\n\\n2. What are some of the challenges associated with AI development mentioned in the passage?  \\n- Some challenges associated with AI development include ethical concerns, bias in algorithms, and job displacement.\\n\\n3. Why is balancing innovation with responsible development important for the future of AI?  \\n- Balancing innovation with responsible development is important for AI's long-term success, ensuring that advancements occur while addressing ethical and societal impacts.\", additional_kwargs={}, response_metadata={}, name='Bot')}\n",
      "==================================\u001b[1m Ai Message \u001b[0m==================================\n",
      "\n",
      "Here are the answers to the questions:\n",
      "\n",
      "1. How does Artificial Intelligence enable machines to improve over time?\n",
      "- Artificial Intelligence enables machines to improve over time by learning from data, making decisions, and adapting based on new information.\n",
      "\n",
      "2. What are some of the challenges associated with AI development mentioned in the passage?\n",
      "- Some challenges associated with AI development include ethical concerns, bias in algorithms, and job displacement.\n",
      "\n",
      "3. Why is balancing innovation with responsible development important for the future of AI?\n",
      "- Balancing innovation with responsible development is important for AI's long-term success, ensuring that advancements occur while addressing ethical and societal impacts.\n"
     ]
    }
   ],
   "source": [
    "# specify a thread \n",
    "config = {\"configurable\": {\"thread_id\" : \"1\"}}\n",
    "\n",
    "# specify an input \n",
    "messages = HumanMessage(content=\"Hi, good afternoon.\")\n",
    "# messages = HumanMessage(content=\"Help me summarize a passage.\")\n",
    "# messages = HumanMessage(content=input_text) \n",
    "# messages = HumanMessage(content=\"Great! Now can u generate quesions out of it?\")\n",
    "# messages = HumanMessage(content=\"you can use the previous passage.\") \n",
    "# messages = HumanMessage(content=\"Now, provide also the answer to those questions.\")\n",
    "\n",
    "# Run \n",
    "messages = react_graph_memory.invoke({\"messages\": messages}, config)\n",
    "for m in messages['messages']: \n",
    "    m.pretty_print()\n"
   ]
  },
  {
   "cell_type": "markdown",
   "id": "c13f8d75",
   "metadata": {},
   "source": [
    "# Prebuilt ReAct Agent\n"
   ]
  },
  {
   "cell_type": "code",
   "execution_count": 132,
   "id": "9e7cddba",
   "metadata": {},
   "outputs": [],
   "source": [
    "from langgraph.prebuilt import create_react_agent\n",
    "from langgraph.checkpoint.memory import InMemorySaver\n",
    "\n",
    "memory2 = InMemorySaver()\n",
    "agent = create_react_agent(\n",
    "    model=\"openai:gpt-4.1-mini\",  \n",
    "    tools=[summarize, generate_questions, answer_questions],  \n",
    "    prompt=\"You are a helpful assistant who communicates with the user and decide what the user intends to do. \\n\" \\\n",
    "            \"When the user says greeting, reponds the greeting politely and introduce yourself as Dexa Smart Assistant.\\n\" \\\n",
    "            \"When the user instructs you to summarize a passage, ask user to give the passage first, then call the summarize tool.\\n\" \\\n",
    "            \"When the user asks you to generate questions, ask the user to give you the passage, then call the generate_questions and answer_questions tools sequentially\" \\\n",
    "            \"When the passage exists in the chat history, directly call the tools.\",\n",
    "    checkpointer=memory2\n",
    ")"
   ]
  },
  {
   "cell_type": "code",
   "execution_count": 136,
   "id": "e940ae79",
   "metadata": {},
   "outputs": [
    {
     "data": {
      "text/plain": [
       "{'messages': [HumanMessage(content='Hi, good evening.', additional_kwargs={}, response_metadata={}, id='d9b11a1e-2cc4-42f7-a684-7a169d748f3f'),\n",
       "  AIMessage(content='Good evening! I am Dexa Smart Assistant. How can I assist you today?', additional_kwargs={'refusal': None}, response_metadata={'token_usage': {'completion_tokens': 19, 'prompt_tokens': 9144, 'total_tokens': 9163, 'completion_tokens_details': {'accepted_prediction_tokens': 0, 'audio_tokens': 0, 'reasoning_tokens': 0, 'rejected_prediction_tokens': 0}, 'prompt_tokens_details': {'audio_tokens': 0, 'cached_tokens': 9088}}, 'model_name': 'gpt-4.1-mini-2025-04-14', 'system_fingerprint': 'fp_79b79be41f', 'id': 'chatcmpl-BWQsdWrb5wAY3BiJdHmzaPcfpKJbG', 'service_tier': 'default', 'finish_reason': 'stop', 'logprobs': None}, id='run--e6978fa3-5461-48f9-9f6a-74a3f0b64e3c-0', usage_metadata={'input_tokens': 9144, 'output_tokens': 19, 'total_tokens': 9163, 'input_token_details': {'audio': 0, 'cache_read': 9088}, 'output_token_details': {'audio': 0, 'reasoning': 0}}),\n",
       "  HumanMessage(content='Can you help me summarize the following passage: \\nArtificial Intelligence (AI) is transforming industries by enabling machines to learn from data, \\nmake decisions, and even improve over time. Applications range from chatbots and virtual assistants \\nto complex data analytics and autonomous vehicles. However, AI also brings challenges such as ethical concerns, \\nbias in algorithms, and job displacement. As AI continues to evolve, balancing innovation with responsible \\ndevelopment will be key to its long-term success.\\n', additional_kwargs={}, response_metadata={}, id='2bd41248-ba74-49f6-a59e-9fa75ea05966'),\n",
       "  AIMessage(content='', additional_kwargs={'tool_calls': [{'id': 'call_i6o6zNuZk0O1JRvuSYa1Y7DT', 'function': {'arguments': '{\"state\":{\"messages\":[{\"type\":\"human\",\"content\":\"Artificial Intelligence (AI) is transforming industries by enabling machines to learn from data, make decisions, and even improve over time. Applications range from chatbots and virtual assistants to complex data analytics and autonomous vehicles. However, AI also brings challenges such as ethical concerns, bias in algorithms, and job displacement. As AI continues to evolve, balancing innovation with responsible development will be key to its long-term success.\"}]}}', 'name': 'summarize'}, 'type': 'function'}], 'refusal': None}, response_metadata={'token_usage': {'completion_tokens': 105, 'prompt_tokens': 9263, 'total_tokens': 9368, 'completion_tokens_details': {'accepted_prediction_tokens': 0, 'audio_tokens': 0, 'reasoning_tokens': 0, 'rejected_prediction_tokens': 0}, 'prompt_tokens_details': {'audio_tokens': 0, 'cached_tokens': 0}}, 'model_name': 'gpt-4.1-mini-2025-04-14', 'system_fingerprint': 'fp_79b79be41f', 'id': 'chatcmpl-BWQsloRlV8xbsYzutH6PEnMt1k9ck', 'service_tier': 'default', 'finish_reason': 'tool_calls', 'logprobs': None}, id='run--08c95af9-3a93-4a6b-acb7-905e03d07326-0', tool_calls=[{'name': 'summarize', 'args': {'state': {'messages': [{'type': 'human', 'content': 'Artificial Intelligence (AI) is transforming industries by enabling machines to learn from data, make decisions, and even improve over time. Applications range from chatbots and virtual assistants to complex data analytics and autonomous vehicles. However, AI also brings challenges such as ethical concerns, bias in algorithms, and job displacement. As AI continues to evolve, balancing innovation with responsible development will be key to its long-term success.'}]}}, 'id': 'call_i6o6zNuZk0O1JRvuSYa1Y7DT', 'type': 'tool_call'}], usage_metadata={'input_tokens': 9263, 'output_tokens': 105, 'total_tokens': 9368, 'input_token_details': {'audio': 0, 'cache_read': 0}, 'output_token_details': {'audio': 0, 'reasoning': 0}}),\n",
       "  ToolMessage(content=\"{'messages': AIMessage(content='Artificial Intelligence is revolutionizing various industries through machine learning and decision-making capabilities, impacting areas from virtual assistants to autonomous vehicles. Despite its benefits, AI poses challenges including ethical issues, algorithmic bias, and potential job loss. Ensuring responsible development alongside innovation is crucial for its sustainable success.', additional_kwargs={}, response_metadata={}, name='Bot', id='run--d997f442-a239-47dd-8ba9-7c2816998314-0')}\", name='summarize', id='99ddd115-f827-4cf2-a5fa-9543183f1a38', tool_call_id='call_i6o6zNuZk0O1JRvuSYa1Y7DT'),\n",
       "  AIMessage(content='Artificial Intelligence is revolutionizing various industries through machine learning and decision-making capabilities, impacting areas from virtual assistants to autonomous vehicles. Despite its benefits, AI poses challenges including ethical issues, algorithmic bias, and potential job loss. Ensuring responsible development alongside innovation is crucial for its sustainable success.', additional_kwargs={'refusal': None}, response_metadata={'token_usage': {'completion_tokens': 59, 'prompt_tokens': 9477, 'total_tokens': 9536, 'completion_tokens_details': {'accepted_prediction_tokens': 0, 'audio_tokens': 0, 'reasoning_tokens': 0, 'rejected_prediction_tokens': 0}, 'prompt_tokens_details': {'audio_tokens': 0, 'cached_tokens': 9088}}, 'model_name': 'gpt-4.1-mini-2025-04-14', 'system_fingerprint': 'fp_79b79be41f', 'id': 'chatcmpl-BWQsqPRhy71ppUfNGYeJkoeWYSqEA', 'service_tier': 'default', 'finish_reason': 'stop', 'logprobs': None}, id='run--8d8d74b7-6ac6-4d5f-ab2a-7e00f85901fc-0', usage_metadata={'input_tokens': 9477, 'output_tokens': 59, 'total_tokens': 9536, 'input_token_details': {'audio': 0, 'cache_read': 9088}, 'output_token_details': {'audio': 0, 'reasoning': 0}}),\n",
       "  HumanMessage(content='Please generate questions from the passage.', additional_kwargs={}, response_metadata={}, id='f3c771ca-16e8-4b7f-aa90-b140dfed2e82'),\n",
       "  AIMessage(content='', additional_kwargs={'tool_calls': [{'id': 'call_P9TLVQVfY688VNcIoTnvmWMi', 'function': {'arguments': '{\"state\":{\"messages\":[{\"type\":\"human\",\"content\":\"Artificial Intelligence (AI) is transforming industries by enabling machines to learn from data, make decisions, and even improve over time. Applications range from chatbots and virtual assistants to complex data analytics and autonomous vehicles. However, AI also brings challenges such as ethical concerns, bias in algorithms, and job displacement. As AI continues to evolve, balancing innovation with responsible development will be key to its long-term success.\"}]}}', 'name': 'generate_questions'}, 'type': 'function'}], 'refusal': None}, response_metadata={'token_usage': {'completion_tokens': 104, 'prompt_tokens': 9549, 'total_tokens': 9653, 'completion_tokens_details': {'accepted_prediction_tokens': 0, 'audio_tokens': 0, 'reasoning_tokens': 0, 'rejected_prediction_tokens': 0}, 'prompt_tokens_details': {'audio_tokens': 0, 'cached_tokens': 9472}}, 'model_name': 'gpt-4.1-mini-2025-04-14', 'system_fingerprint': 'fp_79b79be41f', 'id': 'chatcmpl-BWQt3PmJtqEBSm9OP87EuLKSG7M32', 'service_tier': 'default', 'finish_reason': 'tool_calls', 'logprobs': None}, id='run--e3232fe0-caa7-4a78-be8a-7412e1cf4e52-0', tool_calls=[{'name': 'generate_questions', 'args': {'state': {'messages': [{'type': 'human', 'content': 'Artificial Intelligence (AI) is transforming industries by enabling machines to learn from data, make decisions, and even improve over time. Applications range from chatbots and virtual assistants to complex data analytics and autonomous vehicles. However, AI also brings challenges such as ethical concerns, bias in algorithms, and job displacement. As AI continues to evolve, balancing innovation with responsible development will be key to its long-term success.'}]}}, 'id': 'call_P9TLVQVfY688VNcIoTnvmWMi', 'type': 'tool_call'}], usage_metadata={'input_tokens': 9549, 'output_tokens': 104, 'total_tokens': 9653, 'input_token_details': {'audio': 0, 'cache_read': 9472}, 'output_token_details': {'audio': 0, 'reasoning': 0}}),\n",
       "  ToolMessage(content=\"{'messages': AIMessage(content='1. What are some of the applications of Artificial Intelligence mentioned in the passage?  \\\\n2. What challenges associated with AI does the passage highlight?  \\\\n3. According to the passage, what is important for the long-term success of AI development?', additional_kwargs={}, response_metadata={}, name='Bot')}\", name='generate_questions', id='b7bd9c03-afca-4105-b10f-dcdfe8ac0004', tool_call_id='call_P9TLVQVfY688VNcIoTnvmWMi'),\n",
       "  AIMessage(content='Here are three questions generated from the passage:\\n1. What are some of the applications of Artificial Intelligence mentioned in the passage?\\n2. What challenges associated with AI does the passage highlight?\\n3. According to the passage, what is important for the long-term success of AI development?', additional_kwargs={'refusal': None}, response_metadata={'token_usage': {'completion_tokens': 58, 'prompt_tokens': 9730, 'total_tokens': 9788, 'completion_tokens_details': {'accepted_prediction_tokens': 0, 'audio_tokens': 0, 'reasoning_tokens': 0, 'rejected_prediction_tokens': 0}, 'prompt_tokens_details': {'audio_tokens': 0, 'cached_tokens': 9600}}, 'model_name': 'gpt-4.1-mini-2025-04-14', 'system_fingerprint': 'fp_79b79be41f', 'id': 'chatcmpl-BWQt7kHRQDMpKlLdYxTCgnPENCRs1', 'service_tier': 'default', 'finish_reason': 'stop', 'logprobs': None}, id='run--35b26634-c7fa-4d2c-bbf3-7ff76a26b0c6-0', usage_metadata={'input_tokens': 9730, 'output_tokens': 58, 'total_tokens': 9788, 'input_token_details': {'audio': 0, 'cache_read': 9600}, 'output_token_details': {'audio': 0, 'reasoning': 0}}),\n",
       "  HumanMessage(content='Dont forget to generate the anwer of those questions', additional_kwargs={}, response_metadata={}, id='5982e6d2-ec7c-46f7-8d5d-5f2ecf5c4036'),\n",
       "  AIMessage(content='', additional_kwargs={'tool_calls': [{'id': 'call_xhYGfACgY7FsISZkZmMHJV5L', 'function': {'arguments': '{\"state\":{\"messages\":[{\"type\":\"human\",\"content\":\"Artificial Intelligence (AI) is transforming industries by enabling machines to learn from data, make decisions, and even improve over time. Applications range from chatbots and virtual assistants to complex data analytics and autonomous vehicles. However, AI also brings challenges such as ethical concerns, bias in algorithms, and job displacement. As AI continues to evolve, balancing innovation with responsible development will be key to its long-term success.\"},{\"type\":\"ai\",\"content\":\"1. What are some of the applications of Artificial Intelligence mentioned in the passage?  \\\\n2. What challenges associated with AI does the passage highlight?  \\\\n3. According to the passage, what is important for the long-term success of AI development?\"}]}}', 'name': 'answer_questions'}, 'type': 'function'}], 'refusal': None}, response_metadata={'token_usage': {'completion_tokens': 164, 'prompt_tokens': 9804, 'total_tokens': 9968, 'completion_tokens_details': {'accepted_prediction_tokens': 0, 'audio_tokens': 0, 'reasoning_tokens': 0, 'rejected_prediction_tokens': 0}, 'prompt_tokens_details': {'audio_tokens': 0, 'cached_tokens': 9728}}, 'model_name': 'gpt-4.1-mini-2025-04-14', 'system_fingerprint': 'fp_79b79be41f', 'id': 'chatcmpl-BWQtudrRtK2zxi65GFjKr3pAdP92o', 'service_tier': 'default', 'finish_reason': 'tool_calls', 'logprobs': None}, id='run--4a066223-5587-4f5f-b4fc-5c0bbee33752-0', tool_calls=[{'name': 'answer_questions', 'args': {'state': {'messages': [{'type': 'human', 'content': 'Artificial Intelligence (AI) is transforming industries by enabling machines to learn from data, make decisions, and even improve over time. Applications range from chatbots and virtual assistants to complex data analytics and autonomous vehicles. However, AI also brings challenges such as ethical concerns, bias in algorithms, and job displacement. As AI continues to evolve, balancing innovation with responsible development will be key to its long-term success.'}, {'type': 'ai', 'content': '1. What are some of the applications of Artificial Intelligence mentioned in the passage?  \\n2. What challenges associated with AI does the passage highlight?  \\n3. According to the passage, what is important for the long-term success of AI development?'}]}}, 'id': 'call_xhYGfACgY7FsISZkZmMHJV5L', 'type': 'tool_call'}], usage_metadata={'input_tokens': 9804, 'output_tokens': 164, 'total_tokens': 9968, 'input_token_details': {'audio': 0, 'cache_read': 9728}, 'output_token_details': {'audio': 0, 'reasoning': 0}}),\n",
       "  ToolMessage(content=\"{'messages': AIMessage(content='1. What are some of the applications of Artificial Intelligence mentioned in the passage?  \\\\n- Applications of Artificial Intelligence mentioned include chatbots, virtual assistants, complex data analytics, and autonomous vehicles.  \\\\n\\\\n2. What challenges associated with AI does the passage highlight?  \\\\n- The passage highlights challenges such as ethical concerns, bias in algorithms, and job displacement.  \\\\n\\\\n3. According to the passage, what is important for the long-term success of AI development?  \\\\n- Balancing innovation with responsible development is important for the long-term success of AI.', additional_kwargs={}, response_metadata={}, name='Bot')}\", name='answer_questions', id='880f9efe-cd0a-4b13-b40a-c0493b6b1496', tool_call_id='call_xhYGfACgY7FsISZkZmMHJV5L'),\n",
       "  AIMessage(content='Here are the answers to the questions:\\n1. Applications of Artificial Intelligence mentioned include chatbots, virtual assistants, complex data analytics, and autonomous vehicles.\\n2. The passage highlights challenges such as ethical concerns, bias in algorithms, and job displacement.\\n3. Balancing innovation with responsible development is important for the long-term success of AI.', additional_kwargs={'refusal': None}, response_metadata={'token_usage': {'completion_tokens': 69, 'prompt_tokens': 10112, 'total_tokens': 10181, 'completion_tokens_details': {'accepted_prediction_tokens': 0, 'audio_tokens': 0, 'reasoning_tokens': 0, 'rejected_prediction_tokens': 0}, 'prompt_tokens_details': {'audio_tokens': 0, 'cached_tokens': 9856}}, 'model_name': 'gpt-4.1-mini-2025-04-14', 'system_fingerprint': 'fp_79b79be41f', 'id': 'chatcmpl-BWQu024hCEQnYprd9uU1eJmqWvTf4', 'service_tier': 'default', 'finish_reason': 'stop', 'logprobs': None}, id='run--a018a067-95ae-4345-aae9-0776b9dd54b5-0', usage_metadata={'input_tokens': 10112, 'output_tokens': 69, 'total_tokens': 10181, 'input_token_details': {'audio': 0, 'cache_read': 9856}, 'output_token_details': {'audio': 0, 'reasoning': 0}})]}"
      ]
     },
     "execution_count": 136,
     "metadata": {},
     "output_type": "execute_result"
    }
   ],
   "source": [
    "# Run the agent\n",
    "config = {\"configurable\": {\"thread_id\" : \"2\"}}\n",
    "# agent.invoke({\"messages\": HumanMessage(content=\"Hi, good evening.\")},config=config)\n",
    "# agent.invoke({\"messages\": HumanMessage(content=f\"Can you help me summarize the following passage: {input_text}\")},config=config)\n",
    "# agent.invoke({\"messages\": HumanMessage(content=\"Please generate questions from the passage.\")},config=config)\n",
    "agent.invoke({\"messages\": HumanMessage(content=\"Dont forget to generate the anwer of those questions\")},config=config)"
   ]
  },
  {
   "cell_type": "markdown",
   "id": "ff233d15",
   "metadata": {},
   "source": [
    "## (Bonus) Streaming the graph response"
   ]
  },
  {
   "cell_type": "code",
   "execution_count": 147,
   "id": "e94984ce",
   "metadata": {},
   "outputs": [
    {
     "name": "stdout",
     "output_type": "stream",
     "text": [
      "We have been talking about Artificial Intelligence (AI). I summarized a passage about AI, generated questions related to the passage, and provided answers to those questions. If you need any more information or assistance, feel free to ask!"
     ]
    }
   ],
   "source": [
    "# Create a thread \n",
    "config = {\"configurable\": {\"thread_id\" : \"1\"}}\n",
    "\n",
    "# Start the conversation \n",
    "async for event in react_graph_memory.astream_events({\"messages\": [HumanMessage(content=\"Hi, what have we been talking about?\")]}, config=config, version=\"v2\"):\n",
    "    if event[\"event\"] == \"on_chat_model_stream\":\n",
    "        print(event[\"data\"]['chunk'].content, end=\"\", flush=True)"
   ]
  },
  {
   "cell_type": "markdown",
   "id": "03a0024d",
   "metadata": {},
   "source": [
    "# END"
   ]
  }
 ],
 "metadata": {
  "kernelspec": {
   "display_name": "venv",
   "language": "python",
   "name": "python3"
  },
  "language_info": {
   "codemirror_mode": {
    "name": "ipython",
    "version": 3
   },
   "file_extension": ".py",
   "mimetype": "text/x-python",
   "name": "python",
   "nbconvert_exporter": "python",
   "pygments_lexer": "ipython3",
   "version": "3.11.5"
  }
 },
 "nbformat": 4,
 "nbformat_minor": 5
}
