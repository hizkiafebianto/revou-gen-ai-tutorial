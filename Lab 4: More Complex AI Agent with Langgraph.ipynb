{
 "cells": [
  {
   "cell_type": "markdown",
   "id": "71024a1b",
   "metadata": {},
   "source": [
    "# Lab 4: Building an AI Agent with Langgraph"
   ]
  },
  {
   "cell_type": "markdown",
   "id": "01f9a238",
   "metadata": {},
   "source": []
  }
 ],
 "metadata": {
  "language_info": {
   "name": "python"
  }
 },
 "nbformat": 4,
 "nbformat_minor": 5
}
