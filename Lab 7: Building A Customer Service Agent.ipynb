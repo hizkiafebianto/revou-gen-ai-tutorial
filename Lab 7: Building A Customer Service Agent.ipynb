{
 "cells": [
  {
   "cell_type": "markdown",
   "id": "08e49441",
   "metadata": {},
   "source": [
    "# Lab 7: Building A Customer Service Agent"
   ]
  },
  {
   "cell_type": "code",
   "execution_count": null,
   "id": "0d4e4a4b",
   "metadata": {},
   "outputs": [],
   "source": []
  },
  {
   "cell_type": "code",
   "execution_count": null,
   "id": "e689a93e",
   "metadata": {},
   "outputs": [],
   "source": []
  }
 ],
 "metadata": {
  "language_info": {
   "name": "python"
  }
 },
 "nbformat": 4,
 "nbformat_minor": 5
}
