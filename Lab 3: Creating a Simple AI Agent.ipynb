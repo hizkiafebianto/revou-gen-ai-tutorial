{
 "cells": [
  {
   "cell_type": "markdown",
   "id": "31eb82ef",
   "metadata": {},
   "source": [
    "# LAB 3: Creating a simple AI Agent with Langchain"
   ]
  },
  {
   "cell_type": "code",
   "execution_count": null,
   "id": "ad6f52e6",
   "metadata": {},
   "outputs": [],
   "source": []
  }
 ],
 "metadata": {
  "kernelspec": {
   "display_name": "venv",
   "language": "python",
   "name": "python3"
  },
  "language_info": {
   "name": "python",
   "version": "3.11.5"
  }
 },
 "nbformat": 4,
 "nbformat_minor": 5
}
