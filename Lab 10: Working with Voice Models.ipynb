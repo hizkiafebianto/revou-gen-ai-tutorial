{
 "cells": [
  {
   "cell_type": "markdown",
   "id": "79417933",
   "metadata": {},
   "source": [
    "# Lab 10: Working with Voice Models"
   ]
  },
  {
   "cell_type": "code",
   "execution_count": 1,
   "id": "4826b964",
   "metadata": {},
   "outputs": [
    {
     "data": {
      "text/plain": [
       "True"
      ]
     },
     "execution_count": 1,
     "metadata": {},
     "output_type": "execute_result"
    }
   ],
   "source": [
    "from dotenv import load_dotenv\n",
    "import ssl \n",
    "ssl._create_default_https_context = ssl._create_unverified_context\n",
    "load_dotenv(override=True)"
   ]
  },
  {
   "cell_type": "markdown",
   "id": "d860f075",
   "metadata": {},
   "source": [
    "## Text to Speech "
   ]
  },
  {
   "cell_type": "code",
   "execution_count": null,
   "id": "ac8d688e",
   "metadata": {},
   "outputs": [],
   "source": [
    " # Text to Speech \n",
    "\n",
    "from pathlib import Path\n",
    "from openai import OpenAI\n",
    "\n",
    "client = OpenAI()\n",
    "speech_file_path = \"./speech/echo_voice.mp3\"\n",
    "\n",
    "with client.audio.speech.with_streaming_response.create(\n",
    "    model=\"gpt-4o-mini-tts\",\n",
    "    voice=\"echo\",\n",
    "    input=\"Hello, my name is Echo. I am working for Dexa Medica and I live in Indonesia. Nice to meet you, all. Let's learning about generative AI together.\",\n",
    "    instructions=\"Speak in a cheerful and positive tone.\",\n",
    ") as response:\n",
    "    response.stream_to_file(speech_file_path)"
   ]
  },
  {
   "cell_type": "code",
   "execution_count": null,
   "id": "ea78ccf7",
   "metadata": {},
   "outputs": [],
   "source": [
    " # Text to Speech \n",
    "\n",
    "from pathlib import Path\n",
    "from openai import OpenAI\n",
    "\n",
    "client = OpenAI()\n",
    "speech_file_path = \"./speech/coral_voice.mp3\"\n",
    "\n",
    "with client.audio.speech.with_streaming_response.create(\n",
    "    model=\"gpt-4o-mini-tts\",\n",
    "    voice=\"coral\",\n",
    "    input=\"Hello, my name is Coral. I am working for Dexa Medica and I live in Indonesia. Nice to meet you, all. Let's learning about generative AI together.\",\n",
    "    instructions=\"Speak in a formal and strong.\",\n",
    ") as response:\n",
    "    response.stream_to_file(speech_file_path)"
   ]
  },
  {
   "cell_type": "markdown",
   "id": "63c9eaf2",
   "metadata": {},
   "source": [
    "Play around with available voice and personas in https://www.openai.fm/ "
   ]
  },
  {
   "cell_type": "markdown",
   "id": "846c1c42",
   "metadata": {},
   "source": [
    "# Speech to Text"
   ]
  },
  {
   "cell_type": "code",
   "execution_count": null,
   "id": "42fe2c1e",
   "metadata": {},
   "outputs": [
    {
     "name": "stdout",
     "output_type": "stream",
     "text": [
      "Welcome to this video tutorial where I'm going to show you how to use the Pydantic module in Python. One of the biggest issues with Python as a programming language is the lack of static typing. Python uses dynamic typing, which means that when you create a variable, you don't have to declare its type, like this x, for example. Compare this to something like Java or C, where you actually have to declare the type upfront. Once a Python variable is created, you can also override it with a different type than what you created it with. So here, if I create x equals 10, in the next line, I can override that with the word hello as a string, and Python allows you to do this. This does make it easier to get started with Python, but it can cause a lot of problems later on. For example, as your app gets bigger, it becomes harder and harder to keep track of all your variables and what type they should be. It's also difficult when you have to work with functions where the argument types aren't obvious. For example, what is this rect argument supposed to be here? It could be a tuple, but then it doesn't tell you if the x-axis or the y-axis should come first. But the biggest downside of using dynamic types by far is that it allows you to accidentally create an invalid object. By that, I mean an object with values that it shouldn't be allowed to have. For example, here, I'm trying to create a person, and the second argument is supposed to be age, so it's supposed to be a number. In the first example, I create it correctly with 24 as an integer, but in the second example, I create it with 24 as a string. And both of them might work at the beginning. Python will allow you to do this, and things can actually seem fine for a while. But eventually, when you do try to use that age variable as a number, it will fail. This can be really hard to debug because the failure could occur at any time in your program, and it could be hard to associate that failure with the actual cause. Luckily, these days, Python has a lot of tools you can use to solve these problems. This includes data classes and type hinting, like in this code example here. But today, we're going to be taking a look at Pydantic. It's an external library, and it gives you powerful tools to model your data and solve all of these problems that we've just been talking about. Pydantic is a data validation library in Python. It's used by some of the top Python modules out there, notably Hugging Face, FastAPI, and Langchain. Its main benefits are that by modeling your data, you get better IDE support for type hints and autocomplete. You can also validate your data so that when you create an object, you can be 100% sure that it's valid and it won't fail you later. And finally, if you ever need your data to be in a universal format, like JSON, Pydantic gives you an easy way to serialize your objects. This really comes in handy if you need your Python app to talk to other apps on the internet, or if you just want to save your data to disk. Let's take a look at how all of that works. First, make sure that you've installed Pydantic into your Python environment. You can do it using this command. To create a Pydantic model, first define a class that inherits from the base model class. Inside the class, define the fields of the model as class variables. In this example, I'm creating a user model, and it's got three fields, a name, which is a string, an email, also a string, and an account ID, which is going to be an integer. You can create an instance of the model like this, and then just pass in the data as keyword arguments. You can also do this by unpacking a dictionary. So this works well if you already have the data and you just want to put it inside the model. For example, you have a response from an external API. If the data that you've passed in is valid, then this user object will be successfully created. You can then access each of the attributes of the user object like this. I'm going to head over to my IDE so I can show you how this works in action. I have my user model defined here, and I think by far the most useful feature of modeling your data is that you get type hints in your IDE. So what I mean is if I start typing out my user, I get autocomplete and autosuggestions based on this model. So here I've created this user object and I haven't filled in the data yet. But if I mouse over it, it actually tells me which arguments it accepts. And here I can fill it in with the examples you saw earlier. So a valid name, a valid email, and an account ID. And now if I print the user, you can see that all of this information is contained in this one object. And of course, the type hinting makes it easier to work with when you actually need to use one of these models. So for example here, if I'm printing the user, I can just press a dot and then I get a list of all the valid variables associated with it. So for example, if I wanted email, I just start typing and it knows that this user has an email attribute. With type hints, your code becomes much easier to work with because you don't have to remember everything yourself. Your IDE does it for you. And this is especially useful if you're working with really large code bases or if you need to collaborate with other developers. Pydantic also provides data validation right out of the box. This means that if you try to create an object with the wrong type of data, it will fail right then and there. This is good because if your software has to fail, then it's better that it fails as early as possible. This will make it easier to debug. So let's go back to our example here and see how that works. If I try to create this user with an account ID that's not an integer, for example, if I turn it into a string and I try to run it, I now get a validation error. So I can see immediately that I tried to create this object with the wrong type of data. And in cases like these, I much rather it fail right away with a descriptive error message than silently succeed but then fail at some point much later down the line. You can also validate more complex types of data. For example, let's say I wanted to validate that this string is actually a valid email. First, let's change it to an invalid email. For example, just jack on its own. So this is no longer an email. And if I run this, it still works because all this checks for is that it's a string. But I can actually import a special data type called email string from Pydantic. And if I replace this instead and run this again, you'll now see that I get this validation error and that this string here is not a valid email. So let me change this back to a valid email again and see if that works. And after fixing this value, the validation passes. So I have an easy way to assert that this email field always has a valid email string. If none of the inbuilt validation types cover your needs, you can also add custom validation logic to your model. For example, let's say that we want to enforce that all account IDs must be a positive number. So we don't accept negative integers for our account ID. This is what we can add to our class to make that happen. First, we'll have to use this validator decorator from Pydantic. And then we write a custom function. This is going to be a class function. And then inside the function, we can check if the value is less than or equal to zero. And if it is, we can raise a value error saying that this is not a valid value for this field. But if it is, we can return the value. So let's go back to our code editor and try that out. And here I've imported this validator decorator. And this is the validation logic I'm adding as a class function of this user model. And here you can change this validation condition to whatever you want it to be for your app. But in this case, I'm just checking that it's greater than zero. So if I run this with my current data, it should still work. And here you can see that it's fine. But if I change this to a negative number, let's see what happens. Now it fails with that validation error. And it says the account ID must be positive. And here we can actually make the error message really descriptive because we can print anything we want here. We can even print the value that the user tried to create this model with. Another great thing about Pydantic is that it provides built-in support for JSON serialization, makes it really easy to convert Pydantic models to or from JSON. To convert a Pydantic model to JSON, you can call the JSON method on the model instance. This will return a JSON string representation of the model's data. So if you print it out, you'll see something like this. And if you don't want a JSON string, but you just want a plain Python dictionary object instead, you can use this dict method. If you have a JSON string that you want to convert back into a Pydantic model, you can use the parse raw method. And since JSON is widely used and understood across every major tech stack, this feature will make it really easy to integrate your Python code with external applications or APIs. Finally, let's see how Pydantic compares to data classes, which is Python's built-in module that solves a similar problem. As great as Pydantic sounds, Python actually does ship with some data modeling and type hinting capabilities on its own. For example, you can already specify\n"
     ]
    }
   ],
   "source": [
    "from openai import OpenAI\n",
    "\n",
    "client = OpenAI()\n",
    "audio_file= open(\"./speech/coral_voice.mp3\", \"rb\")\n",
    "\n",
    "transcription = client.audio.transcriptions.create(\n",
    "    model=\"gpt-4o-transcribe\", \n",
    "    file=audio_file\n",
    ")\n",
    "\n",
    "print(transcription.text)"
   ]
  },
  {
   "cell_type": "code",
   "execution_count": 11,
   "id": "93feb4ca",
   "metadata": {},
   "outputs": [
    {
     "name": "stdout",
     "output_type": "stream",
     "text": [
      "Welcome\n",
      "  to this video tutorial where I'm going to show you how to use the Pydantic module in Python\n",
      " . One of the biggest issues with Python as a programming language is the lack of static typing. Python\n",
      "  uses dynamic typing, which means that when you create a variable, you don't have to declare its type\n",
      " , like this x, for example. Compare this to something like Java or C, where you actually\n",
      "  have to declare the type up front. Once a Python variable is created, you can also override it\n",
      "  with a different type than what you created it with. So here, if I create x equals \n",
      " 10, in the next line I can override that with the word hello as a string, and Python\n",
      "  allows you to do this. This does make it easier to get started with Python, but it can\n",
      "  cause a lot of problems later on. For example, as your app gets bigger, it becomes harder\n",
      "  and harder to keep track of all your variables and what type they should be. It's also difficult when\n",
      "  you have to work with functions where the argument types aren't obvious. For example, what is this rect\n",
      "  argument supposed to be here? It could be a tuple, but then it doesn't tell you if the\n",
      "  x-axis or the y-axis should come first. But the biggest downside of using dynamic types by far\n",
      "  is that it allows you to accidentally create an invalid object. By that, I mean an object with\n",
      "  values that it shouldn't be allowed to have. For example, here I'm trying to create a person,\n",
      "  and the second argument is supposed to be age, so it's supposed to be a number. In the\n",
      "  first example, I create it correctly with 24 as an integer, but in the second example,\n",
      "  I create it with 24 as a string. And both of them might work at the beginning.\n",
      "  Python will allow you to do this, and things can actually seem fine for a while. But eventually\n",
      " , when you do try to use that age variable as a number, it will fail. This can\n",
      "  be really hard to debug because the failure could occur at any time in your program. And it could\n",
      "  be hard to associate that failure with the actual cause. Luckily, these days, Python has a lot\n",
      "  of tools you can use to solve these problems. This includes data classes and type hinting, like\n",
      "  in this code example here. But today, we're going to be taking a look at Pydantic\n",
      " . It's an external library, and it gives you powerful tools to model your data and solve all of\n",
      "  these problems that we've just been talking about. Pydantic is a data validation library in Python.\n",
      "  It's used by some of the top Python modules out there, notably HuggingFace, FastAPI,\n",
      "  and LangChain. Its main benefits are that by modeling your data, you get better IDE support for\n",
      "  type hints and autocomplete. You can also validate your data so that when you create an object, you\n",
      "  can be 100% sure that it's valid and it won't fail you later. And finally, if\n",
      "  you ever need your data to be in a universal format like JSON, Pydantic gives you an\n",
      "  easy way to serialize your objects. This really comes in handy if you need your Python app to talk\n",
      "  to other apps on the internet, or if you just want to save your data to disk. Let's\n",
      "  take a look at how all of that works. First, make sure that you've installed Pydantic\n",
      "  into your Python environment. You can do it using this command. To create a Pydantic model\n",
      " , first define a class that inherits from the base model class. Inside the class, define the fields\n",
      "  of the model as class variables. In this example, I'm creating a user model, and it's got\n",
      "  three fields. A name, which is a string, an email, also a string, and an\n",
      "  account ID, which is going to be an integer. You can create an instance of the model like\n",
      "  this, and then just pass in the data as keyword arguments. You can also do this by unpack\n",
      " ing a dictionary. So this works well if you"
     ]
    },
    {
     "ename": "KeyboardInterrupt",
     "evalue": "",
     "output_type": "error",
     "traceback": [
      "\u001b[31m---------------------------------------------------------------------------\u001b[39m",
      "\u001b[31mKeyboardInterrupt\u001b[39m                         Traceback (most recent call last)",
      "\u001b[36mCell\u001b[39m\u001b[36m \u001b[39m\u001b[32mIn[11]\u001b[39m\u001b[32m, line 14\u001b[39m\n\u001b[32m     12\u001b[39m counter = \u001b[32m0\u001b[39m\n\u001b[32m     13\u001b[39m \u001b[38;5;28;01mfor\u001b[39;00m event \u001b[38;5;129;01min\u001b[39;00m stream: \n\u001b[32m---> \u001b[39m\u001b[32m14\u001b[39m     \u001b[38;5;28mprint\u001b[39m(event.delta, end=\u001b[33m\"\u001b[39m\u001b[33m\"\u001b[39m, flush=\u001b[38;5;28;01mTrue\u001b[39;00m)\n\u001b[32m     15\u001b[39m     \u001b[38;5;28;01mif\u001b[39;00m counter % \u001b[32m20\u001b[39m == \u001b[32m0\u001b[39m:\n\u001b[32m     16\u001b[39m         \u001b[38;5;28mprint\u001b[39m(\u001b[33m\"\u001b[39m\u001b[38;5;130;01m\\n\u001b[39;00m\u001b[33m\"\u001b[39m, end=\u001b[33m\"\u001b[39m\u001b[33m \u001b[39m\u001b[33m\"\u001b[39m, flush=\u001b[38;5;28;01mTrue\u001b[39;00m)\n",
      "\u001b[36mFile \u001b[39m\u001b[32m~/Documents/GitHub/revou-gen-ai-tutorial/venv/lib/python3.11/site-packages/ipykernel/iostream.py:609\u001b[39m, in \u001b[36mOutStream.flush\u001b[39m\u001b[34m(self)\u001b[39m\n\u001b[32m    607\u001b[39m     \u001b[38;5;28mself\u001b[39m.pub_thread.schedule(evt.set)\n\u001b[32m    608\u001b[39m     \u001b[38;5;66;03m# and give a timeout to avoid\u001b[39;00m\n\u001b[32m--> \u001b[39m\u001b[32m609\u001b[39m     \u001b[38;5;28;01mif\u001b[39;00m \u001b[38;5;129;01mnot\u001b[39;00m \u001b[43mevt\u001b[49m\u001b[43m.\u001b[49m\u001b[43mwait\u001b[49m\u001b[43m(\u001b[49m\u001b[38;5;28;43mself\u001b[39;49m\u001b[43m.\u001b[49m\u001b[43mflush_timeout\u001b[49m\u001b[43m)\u001b[49m:\n\u001b[32m    610\u001b[39m         \u001b[38;5;66;03m# write directly to __stderr__ instead of warning because\u001b[39;00m\n\u001b[32m    611\u001b[39m         \u001b[38;5;66;03m# if this is happening sys.stderr may be the problem.\u001b[39;00m\n\u001b[32m    612\u001b[39m         \u001b[38;5;28mprint\u001b[39m(\u001b[33m\"\u001b[39m\u001b[33mIOStream.flush timed out\u001b[39m\u001b[33m\"\u001b[39m, file=sys.__stderr__)\n\u001b[32m    613\u001b[39m \u001b[38;5;28;01melse\u001b[39;00m:\n",
      "\u001b[36mFile \u001b[39m\u001b[32m/Library/Frameworks/Python.framework/Versions/3.11/lib/python3.11/threading.py:622\u001b[39m, in \u001b[36mEvent.wait\u001b[39m\u001b[34m(self, timeout)\u001b[39m\n\u001b[32m    620\u001b[39m signaled = \u001b[38;5;28mself\u001b[39m._flag\n\u001b[32m    621\u001b[39m \u001b[38;5;28;01mif\u001b[39;00m \u001b[38;5;129;01mnot\u001b[39;00m signaled:\n\u001b[32m--> \u001b[39m\u001b[32m622\u001b[39m     signaled = \u001b[38;5;28;43mself\u001b[39;49m\u001b[43m.\u001b[49m\u001b[43m_cond\u001b[49m\u001b[43m.\u001b[49m\u001b[43mwait\u001b[49m\u001b[43m(\u001b[49m\u001b[43mtimeout\u001b[49m\u001b[43m)\u001b[49m\n\u001b[32m    623\u001b[39m \u001b[38;5;28;01mreturn\u001b[39;00m signaled\n",
      "\u001b[36mFile \u001b[39m\u001b[32m/Library/Frameworks/Python.framework/Versions/3.11/lib/python3.11/threading.py:324\u001b[39m, in \u001b[36mCondition.wait\u001b[39m\u001b[34m(self, timeout)\u001b[39m\n\u001b[32m    322\u001b[39m \u001b[38;5;28;01melse\u001b[39;00m:\n\u001b[32m    323\u001b[39m     \u001b[38;5;28;01mif\u001b[39;00m timeout > \u001b[32m0\u001b[39m:\n\u001b[32m--> \u001b[39m\u001b[32m324\u001b[39m         gotit = \u001b[43mwaiter\u001b[49m\u001b[43m.\u001b[49m\u001b[43macquire\u001b[49m\u001b[43m(\u001b[49m\u001b[38;5;28;43;01mTrue\u001b[39;49;00m\u001b[43m,\u001b[49m\u001b[43m \u001b[49m\u001b[43mtimeout\u001b[49m\u001b[43m)\u001b[49m\n\u001b[32m    325\u001b[39m     \u001b[38;5;28;01melse\u001b[39;00m:\n\u001b[32m    326\u001b[39m         gotit = waiter.acquire(\u001b[38;5;28;01mFalse\u001b[39;00m)\n",
      "\u001b[31mKeyboardInterrupt\u001b[39m: "
     ]
    }
   ],
   "source": [
    "from openai import OpenAI\n",
    "\n",
    "client = OpenAI()\n",
    "audio_file = open(\"./speech/Pydantic Tutorial.mp3\", \"rb\")\n",
    "\n",
    "stream = client.audio.transcriptions.create(\n",
    "    model=\"gpt-4o-transcribe\", \n",
    "    file=audio_file,\n",
    "    stream = True\n",
    ")\n",
    "\n",
    "counter = 0\n",
    "for event in stream: \n",
    "    print(event.delta, end=\"\", flush=True)\n",
    "    if counter % 20 == 0:\n",
    "        print(\"\\n\", end=\" \", flush=True)\n",
    "    counter += 1"
   ]
  },
  {
   "cell_type": "markdown",
   "id": "2d745ddd",
   "metadata": {},
   "source": [
    "# END"
   ]
  }
 ],
 "metadata": {
  "kernelspec": {
   "display_name": "venv",
   "language": "python",
   "name": "python3"
  },
  "language_info": {
   "codemirror_mode": {
    "name": "ipython",
    "version": 3
   },
   "file_extension": ".py",
   "mimetype": "text/x-python",
   "name": "python",
   "nbconvert_exporter": "python",
   "pygments_lexer": "ipython3",
   "version": "3.11.5"
  }
 },
 "nbformat": 4,
 "nbformat_minor": 5
}
